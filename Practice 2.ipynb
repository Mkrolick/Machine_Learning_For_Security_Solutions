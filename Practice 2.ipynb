{
 "cells": [
  {
   "cell_type": "markdown",
   "id": "32d3ef24-4f97-4bf6-b1d4-5a9444a1114c",
   "metadata": {},
   "source": [
    "# Week 2\n",
    "## Conditions, Loops and Lists\n",
    "Let's first take a look at a few examples of what we have seen today.\n",
    "Try to solve the following quick exercises:\n",
    "### Loops\n",
    "Fill the gaps to have a loop printing all numbers between 2 and 10 (included)"
   ]
  },
  {
   "cell_type": "code",
   "execution_count": 1,
   "id": "5b70c754-28f2-4111-a6ed-e9432b922d81",
   "metadata": {},
   "outputs": [
    {
     "name": "stdout",
     "output_type": "stream",
     "text": [
      "2\n",
      "3\n",
      "4\n",
      "5\n",
      "6\n",
      "7\n",
      "8\n",
      "9\n",
      "10\n"
     ]
    }
   ],
   "source": [
    "for i in range(2, 11):\n",
    "    print(i)"
   ]
  },
  {
   "cell_type": "code",
   "execution_count": 3,
   "id": "63cca4dc-a481-4b0b-971c-4d54cdebb9d5",
   "metadata": {},
   "outputs": [
    {
     "name": "stdout",
     "output_type": "stream",
     "text": [
      "2\n",
      "3\n",
      "4\n",
      "5\n",
      "6\n",
      "7\n",
      "8\n",
      "9\n",
      "10\n"
     ]
    }
   ],
   "source": [
    "i=2\n",
    "while i< 11:\n",
    "    print(i)\n",
    "    i+=1"
   ]
  },
  {
   "cell_type": "markdown",
   "id": "c8092a6b-2f3d-49c8-abf7-bde34e7c1462",
   "metadata": {},
   "source": [
    "Now let's do every multiple of 12 between 24 and 144 (included)."
   ]
  },
  {
   "cell_type": "code",
   "execution_count": 4,
   "id": "17efbffe-e4a4-4886-9970-bb8b8975ff43",
   "metadata": {},
   "outputs": [
    {
     "name": "stdout",
     "output_type": "stream",
     "text": [
      "24\n",
      "36\n",
      "48\n",
      "60\n",
      "72\n",
      "84\n",
      "96\n",
      "108\n",
      "120\n",
      "132\n",
      "144\n"
     ]
    }
   ],
   "source": [
    "for i in range( 24, 144+12, 12):\n",
    "    print(i)"
   ]
  },
  {
   "cell_type": "code",
   "execution_count": 5,
   "id": "1647b2ba-7111-4087-b5a3-01eb0506fcab",
   "metadata": {},
   "outputs": [
    {
     "name": "stdout",
     "output_type": "stream",
     "text": [
      "24\n",
      "36\n",
      "48\n",
      "60\n",
      "72\n",
      "84\n",
      "96\n",
      "108\n",
      "120\n",
      "132\n",
      "144\n"
     ]
    }
   ],
   "source": [
    "i= 24\n",
    "while i< 144+12:\n",
    "    print(i)\n",
    "    i+=12"
   ]
  },
  {
   "cell_type": "markdown",
   "id": "6688f888-e9b9-4722-8c5f-2e2e4dbbd308",
   "metadata": {},
   "source": [
    "Slightly harder: \n",
    "If we list all the natural numbers below 10 that are multiples of 3, we get 3, 6 and 9. The sum of these multiples is 18.\n",
    "What's the sum of all the multiples of 3 below 1000?"
   ]
  },
  {
   "cell_type": "code",
   "execution_count": 7,
   "id": "033015f3-5622-43c5-8a21-aac9b0b89a57",
   "metadata": {},
   "outputs": [
    {
     "name": "stdout",
     "output_type": "stream",
     "text": [
      "166833\n"
     ]
    }
   ],
   "source": [
    "#put your code here\n",
    "val = sum([x for x in range(0,1000,3)])\n",
    "print(val)\n",
    "    "
   ]
  },
  {
   "cell_type": "markdown",
   "id": "084ac40a-e920-4573-9c45-7f9ac9728a81",
   "metadata": {},
   "source": [
    "The solution should be 166833.\n",
    "### Conditions\n",
    "Now let's do the same, but you have to use the following line:\n",
    "```if i%3==0:```\n",
    "which mean \"if i is a multiple of 3, then\""
   ]
  },
  {
   "cell_type": "code",
   "execution_count": 11,
   "id": "294bb590-ce48-4883-945d-d9d9c6dc7681",
   "metadata": {},
   "outputs": [
    {
     "name": "stdout",
     "output_type": "stream",
     "text": [
      "166833\n"
     ]
    }
   ],
   "source": [
    "#put your code here\n",
    "val = sum([x for x in range(0,1000,1) if x%3 == 0])\n",
    "print(val)"
   ]
  },
  {
   "cell_type": "markdown",
   "id": "d932c887-60e1-4091-8aea-d674301c49dd",
   "metadata": {},
   "source": [
    "If we list all the natural numbers below 10 that are multiples of 3 or 5, we get 3, 5, 6 and 9. The sum of these multiples is 23.\n",
    "What is the sum of all the multiples of 3 AND 5 below 1000?"
   ]
  },
  {
   "cell_type": "code",
   "execution_count": 14,
   "id": "34f6dc67-05ed-4a28-8cf2-e7c73841950c",
   "metadata": {},
   "outputs": [
    {
     "name": "stdout",
     "output_type": "stream",
     "text": [
      "233168\n"
     ]
    }
   ],
   "source": [
    "#put your code here\n",
    "val = sum([x for x in range(0,1000,1) if x%3 == 0 or x%5 == 0])\n",
    "print(val)\n"
   ]
  },
  {
   "cell_type": "markdown",
   "id": "51efc22b-1935-4b33-bf5a-9777406c2f02",
   "metadata": {},
   "source": [
    "If you think you have it right, you just solved the easiest enigma from the Euler project. \n",
    "You can check your answer here: https://projecteuler.net/problem=1\n",
    "\n",
    "### Lists\n",
    "Now we're gonna see a few different way to define lists and other structures:"
   ]
  },
  {
   "cell_type": "code",
   "execution_count": 15,
   "id": "f6d8de28-8810-459f-a062-f0de19106f7b",
   "metadata": {},
   "outputs": [
    {
     "data": {
      "text/plain": [
       "[1, 2, 3, 4]"
      ]
     },
     "execution_count": 15,
     "metadata": {},
     "output_type": "execute_result"
    }
   ],
   "source": [
    "#You can define it in one line:\n",
    "[1, 2, 3, 4]"
   ]
  },
  {
   "cell_type": "code",
   "execution_count": 16,
   "id": "5798f7e8-f0c3-4aba-80f1-ba25cf4141a9",
   "metadata": {},
   "outputs": [
    {
     "data": {
      "text/plain": [
       "[1, 2, 3, 4]"
      ]
     },
     "execution_count": 16,
     "metadata": {},
     "output_type": "execute_result"
    }
   ],
   "source": [
    "#if you open a parenthesis/square bracket or other, you can use multiple lines until you close it.\n",
    "[\n",
    "    1,\n",
    "    2,\n",
    "    3,\n",
    "    4\n",
    "]"
   ]
  },
  {
   "cell_type": "code",
   "execution_count": 9,
   "id": "e9c06c0f-3d33-44b8-901b-067edac012c0",
   "metadata": {},
   "outputs": [
    {
     "data": {
      "text/plain": [
       "[1, 2, 3, 4]"
      ]
     },
     "execution_count": 9,
     "metadata": {},
     "output_type": "execute_result"
    }
   ],
   "source": [
    "#If you know how long your list is gonna be, you can use a for loop inside the brackets:\n",
    "[i for i in range(1,5)]"
   ]
  },
  {
   "cell_type": "code",
   "execution_count": 17,
   "id": "be07b3a6-52dc-49d8-8639-286186dbf1ca",
   "metadata": {},
   "outputs": [
    {
     "data": {
      "text/plain": [
       "[0.2, 0.4, 0.6000000000000001, 0.8]"
      ]
     },
     "execution_count": 17,
     "metadata": {},
     "output_type": "execute_result"
    }
   ],
   "source": [
    "#you can even use different lists inside another one:\n",
    "my_list = [i for i in range(1,5)]\n",
    "[i*0.2 for i in my_list]"
   ]
  },
  {
   "cell_type": "markdown",
   "id": "78292a91-b3b7-409e-b60e-1b66e0a1b919",
   "metadata": {},
   "source": [
    "## A few list tricks:\n",
    "### zip\n",
    "To go over multiple lists at the same time. Both lists have to have same length."
   ]
  },
  {
   "cell_type": "code",
   "execution_count": 18,
   "id": "c40cf607-d719-4f1b-81f0-487f0d3b6ee6",
   "metadata": {},
   "outputs": [
    {
     "name": "stdout",
     "output_type": "stream",
     "text": [
      "Fred is 12 years old.\n",
      "Julia is 34 years old.\n",
      "Henry is 59 years old.\n",
      "Phoebe is 27 years old.\n",
      "Martin is 21 years old.\n",
      "Lisa is 31 years old.\n"
     ]
    }
   ],
   "source": [
    "names = ['Fred', 'Julia', 'Henry', 'Phoebe', 'Martin', 'Lisa']\n",
    "ages = [12, 34, 59, 27, 21, 31]\n",
    "for name, age in zip(names, ages):\n",
    "    print(f\"{name} is {age} years old.\")"
   ]
  },
  {
   "cell_type": "markdown",
   "id": "a07b9fa1-0abb-4d4f-88d9-6e5206219b8b",
   "metadata": {},
   "source": [
    "### enumerate\n",
    "To get both the index and the element as the same time:"
   ]
  },
  {
   "cell_type": "code",
   "execution_count": 19,
   "id": "3a4e2043-f513-4898-99a8-85fc6ef29d34",
   "metadata": {},
   "outputs": [
    {
     "name": "stdout",
     "output_type": "stream",
     "text": [
      "index 0: Fred\n",
      "index 1: Julia\n",
      "index 2: Henry\n",
      "index 3: Phoebe\n",
      "index 4: Martin\n",
      "index 5: Lisa\n"
     ]
    }
   ],
   "source": [
    "for idx, name in enumerate(names):\n",
    "    print(f\"index {idx}: {name}\")"
   ]
  },
  {
   "cell_type": "code",
   "execution_count": 20,
   "id": "a721c903-4711-47da-b5f1-bc3d213e753b",
   "metadata": {},
   "outputs": [
    {
     "name": "stdout",
     "output_type": "stream",
     "text": [
      "index 0: Fred - 12\n",
      "index 1: Julia - 34\n",
      "index 2: Henry - 59\n",
      "index 3: Phoebe - 27\n",
      "index 4: Martin - 21\n",
      "index 5: Lisa - 31\n"
     ]
    }
   ],
   "source": [
    "#Or both at the same time:\n",
    "for idx, (name, age) in enumerate(zip(names, ages)):\n",
    "    print(f\"index {idx}: {name} - {age}\")"
   ]
  },
  {
   "cell_type": "markdown",
   "id": "0c6a5ed8-47cf-4e10-a5e5-594a7976dc12",
   "metadata": {},
   "source": [
    "### break and continue\n",
    "If you want to get out of a loop, you can use the keyword break\n",
    "If you want to ignore the rest of the loop, you can use the keyword continue"
   ]
  },
  {
   "cell_type": "code",
   "execution_count": 21,
   "id": "2794ef0e-64eb-4e60-84ac-19e254603ab7",
   "metadata": {},
   "outputs": [
    {
     "name": "stdout",
     "output_type": "stream",
     "text": [
      "Fred\n",
      "12<=30\n",
      "next loop\n",
      "Julia\n",
      "Henry\n",
      "Phoebe\n",
      "27<=30\n",
      "next loop\n",
      "Martin\n",
      "21<=30\n"
     ]
    }
   ],
   "source": [
    "for name, age in zip(names, ages):\n",
    "    \n",
    "    print(name)\n",
    "    \n",
    "    if age>30: continue\n",
    "    \n",
    "    print(f\"{age}<=30\")\n",
    "    \n",
    "    if name=='Martin': break\n",
    "    \n",
    "    print('next loop')"
   ]
  },
  {
   "cell_type": "markdown",
   "id": "a8f81344-f790-48d3-bc51-173c363323df",
   "metadata": {},
   "source": [
    "# Today's exercise: \n",
    "## Basic Authentication system with passwords\n",
    "You are given a list of logins and the corresponding passwords.\n",
    "Considering a list of connection attempts, with the form [login, used password, date of connection, ip], find the proportion of successful authentications."
   ]
  },
  {
   "cell_type": "code",
   "execution_count": 22,
   "id": "ec0ca31f-2eb6-4c63-a860-5019a2f24eb1",
   "metadata": {},
   "outputs": [
    {
     "name": "stdout",
     "output_type": "stream",
     "text": [
      "16 16 200\n"
     ]
    }
   ],
   "source": [
    "logins = ['maurice_binyomin@email.com', 'rhea_yonah@email.com', 'amora_yehudis@email.com', 'blair_trany@email.com', 'noah_alec@email.com', 'annabelle_taylor@email.com', 'shia_joshua@email.com', 'andy_helen@email.com', 'enrique_aleah@email.com', 'aurora_jael@email.com', 'bryan_keily@email.com', 'arielle_saul@email.com', 'jimena_tess@email.com', 'genevieve_maximilian@email.com', 'alisha_naomi@email.com', 'vincenzo_nikhil@email.com']\n",
    "passwords = ['MBINYOMIN55', '20041985', 'AYEHUDIS54', 'BTrany17', 'NOAH1970', '21051959', 'Shia1981', '07081980', 'EAleah46', 'Ariyah4Ever', 'JAYLAH4Ever', 'ASAUL82', '17121974', '21091958', '05011953', 'VINCENZO1956']\n",
    "connections = [['amora_yehudis@email.com', 'AYEHUDIS54', '02:11:12 07-01-2023', '148.079.136.032'],['blair_trany@email.com', '11071961', '01:39:16 08-08-2021', '105.086.125.025'],['aurora_jael@email.com', 'Ariyah4Ever', '17:13:53 09-12-2022', '009.092.032.192'],['bryan_keily@email.com', 'BRYAN2002', '02:11:12 26-05-2021', '148.079.136.032'],['aurora_jael@email.com', 'Ariyah4Ever', '02:11:12 21-09-2023', '148.079.136.032'],['maurice_binyomin@email.com', '08041991', '00:49:28 04-04-2021', '055.015.143.072'],['shia_joshua@email.com', '27071981', '20:40:49 22-10-2020', '125.248.092.065'],['alisha_naomi@email.com', '05011953', '10:29:08 29-09-2023', '066.071.213.237'],['noah_alec@email.com', 'qwerty', '19:55:33 13-04-2023', '045.147.072.009'],['arielle_saul@email.com', '15031951', '15:00:56 01-12-2019', '242.058.196.202'],['andy_helen@email.com', 'ANDY1980', '11:24:40 25-04-2021', '228.067.221.099'],['amora_yehudis@email.com', '05101984', '21:55:40 04-07-2022', '028.177.180.049'],['amora_yehudis@email.com', 'qwerty', '03:13:54 27-04-2022', '028.177.180.049'],['rhea_yonah@email.com', '20041985', '23:38:16 09-01-2021', '185.103.054.227'],['blair_trany@email.com', 'BTrany17', '02:11:12 16-11-2022', '148.079.136.032'],['jimena_tess@email.com', '17121974', '01:29:28 26-07-2022', '129.238.111.240'],['maurice_binyomin@email.com', 'Idy4Ever', '17:25:38 13-07-2020', '055.015.143.072'],['bryan_keily@email.com', 'BRYAN2002', '07:23:45 26-01-2021', '122.155.100.205'],['bryan_keily@email.com', '21082002', '07:40:34 04-02-2020', '122.155.100.205'],['genevieve_maximilian@email.com', 'GENEVIEVE1958', '14:51:58 25-09-2020', '210.039.002.066'],['noah_alec@email.com', 'NALEC99', '03:52:27 12-05-2022', '045.147.072.009'],['noah_alec@email.com', 'qwerty', '02:11:12 16-07-2021', '148.079.136.032'],['jimena_tess@email.com', 'Matthias4Ever', '17:13:48 03-11-2021', '174.184.122.111'],['arielle_saul@email.com', 'ASAUL4', '00:48:30 13-04-2021', '242.058.196.202'],['bryan_keily@email.com', '21082002', '02:32:16 29-06-2020', '122.155.100.205'],['noah_alec@email.com', \"Amar'e4Ever\", '02:11:12 25-10-2022', '148.079.136.032'],['rhea_yonah@email.com', '20041985', '05:46:43 18-08-2020', '185.103.054.227'],['genevieve_maximilian@email.com', '22042006', '01:44:45 13-04-2023', '210.039.002.066'],['rhea_yonah@email.com', '20041985', '09:02:55 12-07-2023', '185.103.054.227'],['blair_trany@email.com', 'Jenny4Ever', '02:11:12 04-10-2019', '148.079.136.032'],['blair_trany@email.com', 'Blair1961', '22:51:27 28-03-2022', '118.131.096.002'],['rhea_yonah@email.com', '20041985', '20:43:33 14-04-2023', '185.103.054.227'],['bryan_keily@email.com', 'qwerty', '02:11:12 09-02-2023', '148.079.136.032'],['vincenzo_nikhil@email.com', 'VINCENZO1956', '11:47:57 01-02-2022', '039.050.037.059'],['shia_joshua@email.com', 'Shia1981', '09:26:38 14-05-2020', '125.248.092.065'],['annabelle_taylor@email.com', 'GORDON4Ever', '06:20:17 08-08-2020', '202.236.031.020'],['bryan_keily@email.com', 'TASNIM4Ever', '17:03:43 13-12-2020', '122.155.100.205'],['enrique_aleah@email.com', 'EAleah46', '03:54:21 04-10-2022', '136.206.109.018'],['maurice_binyomin@email.com', '26031966', '18:00:16 20-12-2022', '055.015.143.072'],['genevieve_maximilian@email.com', '21091958', '21:27:44 03-12-2019', '210.039.002.066'],['aurora_jael@email.com', 'Aurora1957', '06:34:19 22-08-2023', '009.092.032.192'],['arielle_saul@email.com', 'ASAUL82', '16:55:16 19-02-2023', '242.058.196.202'],['maurice_binyomin@email.com', 'MBINYOMIN55', '00:29:45 14-12-2021', '055.015.143.072'],['genevieve_maximilian@email.com', '21091958', '16:36:23 13-11-2022', '210.039.002.066'],['arielle_saul@email.com', 'Carla4Ever', '13:07:19 26-04-2022', '242.058.196.202'],['blair_trany@email.com', 'BTrany17', '04:44:41 02-03-2019', '118.131.096.002'],['arielle_saul@email.com', 'ASAUL82', '22:09:12 04-03-2020', '242.058.196.202'],['arielle_saul@email.com', 'ASAUL82', '10:28:27 03-08-2023', '242.058.196.202'],['shia_joshua@email.com', 'qwerty', '01:31:57 12-05-2019', '125.248.092.065'],['jimena_tess@email.com', '17121974', '02:11:12 19-05-2019', '148.079.136.032'],['enrique_aleah@email.com', 'EAleah46', '03:19:47 16-05-2020', '136.206.109.018'],['rhea_yonah@email.com', '20041985', '22:41:08 07-11-2021', '185.103.054.227'],['alisha_naomi@email.com', '05011953', '13:07:42 03-06-2021', '066.071.213.237'],['andy_helen@email.com', '07081980', '18:55:09 22-10-2022', '228.067.221.099'],['vincenzo_nikhil@email.com', 'VINCENZO1956', '07:32:05 09-03-2020', '177.044.067.084'],['annabelle_taylor@email.com', 'ATaylor89', '19:18:45 23-08-2021', '202.236.031.020'],['blair_trany@email.com', '11071961', '18:17:40 11-10-2023', '118.131.096.002'],['blair_trany@email.com', 'BTrany17', '13:40:14 08-06-2019', '248.147.169.084'],['maurice_binyomin@email.com', '24081982', '17:49:58 25-06-2019', '055.015.143.072'],['shia_joshua@email.com', 'Samira4Ever', '01:41:35 11-03-2023', '125.248.092.065'],['jimena_tess@email.com', '17121974', '02:11:12 24-08-2020', '148.079.136.032'],['blair_trany@email.com', '24021994', '02:53:23 13-08-2021', '118.131.096.002'],['jimena_tess@email.com', '17121974', '02:11:12 11-09-2023', '148.079.136.032'],['enrique_aleah@email.com', 'EAleah46', '14:14:51 12-02-2023', '136.206.109.018'],['aurora_jael@email.com', 'Aurora1957', '19:49:49 15-08-2022', '009.092.032.192'],['noah_alec@email.com', 'NOAH1970', '21:47:11 20-06-2023', '206.160.131.192'],['bryan_keily@email.com', '02052009', '21:15:08 14-12-2021', '122.155.100.205'],['andy_helen@email.com', '07081980', '08:53:39 18-06-2021', '228.067.221.099'],['vincenzo_nikhil@email.com', 'VINCENZO1956', '02:35:32 02-05-2023', '177.044.067.084'],['rhea_yonah@email.com', '20041985', '21:38:11 10-03-2023', '185.103.054.227'],['rhea_yonah@email.com', '20041985', '08:04:45 25-05-2023', '185.103.054.227'],['jimena_tess@email.com', '17121974', '02:11:12 07-11-2022', '148.079.136.032'],['bryan_keily@email.com', 'BKeily57', '10:17:46 07-07-2023', '122.155.100.205'],['bryan_keily@email.com', 'BKeily99', '02:11:12 08-01-2019', '148.079.136.032'],['shia_joshua@email.com', 'Shia1981', '14:00:10 25-07-2020', '125.248.092.065'],['vincenzo_nikhil@email.com', '03041956', '04:32:00 06-10-2019', '177.044.067.084'],['genevieve_maximilian@email.com', '21091958', '16:32:09 02-08-2021', '210.039.002.066'],['maurice_binyomin@email.com', 'MBINYOMIN55', '11:23:09 07-08-2019', '055.015.143.072'],['annabelle_taylor@email.com', '21051959', '13:52:40 18-04-2022', '202.236.031.020'],['genevieve_maximilian@email.com', '21091958', '05:31:54 29-11-2019', '210.039.002.066'],['bryan_keily@email.com', 'qwerty', '02:11:12 22-04-2020', '148.079.136.032'],['rhea_yonah@email.com', 'qwerty', '01:20:07 25-11-2022', '185.103.054.227'],['noah_alec@email.com', 'qwerty', '20:43:25 09-06-2019', '045.147.072.009'],['annabelle_taylor@email.com', '21051959', '02:11:12 09-12-2022', '148.079.136.032'],['amora_yehudis@email.com', 'Autumn4Ever', '23:04:40 06-06-2022', '028.177.180.049'],['bryan_keily@email.com', '21082002', '23:45:06 03-06-2021', '122.155.100.205'],['noah_alec@email.com', '12011970', '21:42:58 01-10-2021', '205.002.237.112'],['enrique_aleah@email.com', 'ENRIQUE1968', '09:25:46 10-05-2019', '236.178.184.039'],['annabelle_taylor@email.com', '21051959', '12:29:39 01-10-2019', '202.236.031.020'],['maurice_binyomin@email.com', 'ROSELYN4Ever', '23:45:04 14-05-2022', '055.015.143.072'],['rhea_yonah@email.com', 'RYonah7', '17:58:38 10-01-2020', '185.103.054.227'],['bryan_keily@email.com', '20121955', '21:31:00 27-10-2023', '201.131.255.206'],['noah_alec@email.com', 'NOAH1970', '00:00:32 02-06-2022', '045.147.072.009'],['vincenzo_nikhil@email.com', 'VINCENZO1956', '10:38:42 16-01-2020', '177.044.067.084'],['rhea_yonah@email.com', '20041985', '08:30:16 10-08-2021', '185.103.054.227'],['andy_helen@email.com', 'ANDY1980', '03:19:52 11-09-2022', '228.067.221.099'],['rhea_yonah@email.com', '20041985', '02:11:12 19-03-2023', '148.079.136.032'],['noah_alec@email.com', 'NOAH1970', '08:30:49 11-10-2021', '045.147.072.009'],['noah_alec@email.com', 'NOAH1970', '02:11:12 27-12-2019', '148.079.136.032'],['jimena_tess@email.com', '12111959', '11:15:46 22-04-2022', '129.238.111.240'],['blair_trany@email.com', '18051972', '19:23:11 25-04-2023', '118.131.096.002'],['enrique_aleah@email.com', '04091968', '20:28:14 07-12-2020', '136.206.109.018'],['genevieve_maximilian@email.com', '21091958', '23:25:33 08-03-2019', '210.039.002.066'],['arielle_saul@email.com', 'ASAUL22', '00:23:15 09-08-2021', '242.058.196.202'],['arielle_saul@email.com', 'ASAUL81', '08:37:10 17-04-2021', '242.058.196.202'],['arielle_saul@email.com', '25101996', '03:24:40 18-11-2021', '242.058.196.202'],['blair_trany@email.com', 'BTrany17', '16:19:48 24-07-2019', '118.131.096.002'],['rhea_yonah@email.com', 'RYonah19', '20:08:11 26-09-2022', '112.229.044.032'],['aurora_jael@email.com', 'Ariyah4Ever', '22:13:22 19-04-2021', '009.092.032.192'],['alisha_naomi@email.com', 'qwerty', '02:11:12 08-02-2023', '148.079.136.032'],['vincenzo_nikhil@email.com', 'qwerty', '02:36:42 29-07-2023', '177.044.067.084'],['shia_joshua@email.com', 'SJOSHUA78', '13:02:15 06-05-2022', '125.248.092.065'],['amora_yehudis@email.com', '06042005', '02:11:12 18-01-2019', '148.079.136.032'],['blair_trany@email.com', 'BTrany17', '10:59:33 15-09-2023', '118.131.096.002'],['jimena_tess@email.com', '17121974', '15:36:14 28-05-2022', '129.238.111.240'],['bryan_keily@email.com', '13072001', '01:06:45 02-06-2022', '122.155.100.205'],['andy_helen@email.com', 'ANDY1980', '05:07:55 17-01-2021', '228.067.221.099'],['vincenzo_nikhil@email.com', '03041956', '01:39:45 29-03-2023', '177.044.067.084'],['aurora_jael@email.com', 'Aurora1957', '04:00:24 11-05-2022', '009.092.032.192'],['bryan_keily@email.com', 'qwerty', '20:59:44 06-04-2022', '122.155.100.205'],['shia_joshua@email.com', 'SJOSHUA77', '02:11:12 09-09-2022', '148.079.136.032'],['annabelle_taylor@email.com', '21051959', '02:11:12 17-06-2023', '148.079.136.032'],['noah_alec@email.com', '12011970', '01:01:10 09-09-2021', '045.147.072.009'],['enrique_aleah@email.com', 'EAleah65', '02:32:18 23-03-2019', '161.067.239.193'],['amora_yehudis@email.com', 'AYEHUDIS32', '03:27:21 10-10-2019', '028.177.180.049'],['maurice_binyomin@email.com', 'MAURICE2005', '03:24:39 01-04-2020', '055.015.143.072'],['alisha_naomi@email.com', '05011953', '13:38:38 11-10-2023', '066.071.213.237'],['aurora_jael@email.com', 'AMARI4Ever', '17:48:22 13-09-2022', '201.056.045.213'],['enrique_aleah@email.com', 'EAleah46', '11:04:26 12-11-2020', '136.206.109.018'],['noah_alec@email.com', '08031953', '10:23:03 02-07-2020', '045.147.072.009'],['andy_helen@email.com', '07081980', '23:37:18 02-01-2020', '228.067.221.099'],['shia_joshua@email.com', '27071981', '02:11:12 26-10-2020', '148.079.136.032'],['andy_helen@email.com', 'Bianca4Ever', '07:43:23 13-06-2019', '228.067.221.099'],['jimena_tess@email.com', '17121974', '13:05:34 19-04-2023', '129.238.111.240'],['genevieve_maximilian@email.com', 'GMAXIMILIAN75', '19:01:45 15-12-2020', '210.039.002.066'],['bryan_keily@email.com', 'qwerty', '15:20:05 05-02-2019', '122.155.100.205'],['alisha_naomi@email.com', 'ANAOMI1', '22:38:55 04-08-2019', '066.071.213.237'],['aurora_jael@email.com', '15081957', '08:52:10 16-01-2019', '009.092.032.192'],['annabelle_taylor@email.com', '24111975', '02:11:12 17-05-2023', '148.079.136.032'],['maurice_binyomin@email.com', 'MBINYOMIN55', '21:10:44 21-02-2019', '055.015.143.072'],['blair_trany@email.com', 'RYDER4Ever', '05:04:43 27-07-2022', '118.131.096.002'],['aurora_jael@email.com', 'Ariyah4Ever', '22:10:26 01-07-2021', '009.092.032.192'],['noah_alec@email.com', 'NOAH1970', '02:11:12 12-09-2022', '148.079.136.032'],['alisha_naomi@email.com', 'ANAOMI74', '10:40:37 11-10-2020', '069.241.078.203'],['annabelle_taylor@email.com', 'Annabelle1975', '08:53:41 28-08-2022', '202.236.031.020'],['vincenzo_nikhil@email.com', 'VINCENZO1956', '03:41:33 11-11-2023', '177.044.067.084'],['rhea_yonah@email.com', 'Preston4Ever', '14:55:44 08-06-2022', '185.103.054.227'],['genevieve_maximilian@email.com', '21091958', '16:22:00 28-10-2021', '210.039.002.066'],['aurora_jael@email.com', 'Ariyah4Ever', '21:10:12 05-04-2019', '009.092.032.192'],['rhea_yonah@email.com', '20041985', '07:51:23 03-07-2022', '185.103.054.227'],['shia_joshua@email.com', 'Shia1981', '18:36:30 06-12-2023', '125.248.092.065'],['genevieve_maximilian@email.com', '21091958', '23:12:49 03-12-2023', '210.039.002.066'],['maurice_binyomin@email.com', 'MAURICE2005', '02:11:12 07-04-2022', '148.079.136.032'],['alisha_naomi@email.com', '05011953', '09:40:03 08-05-2019', '066.071.213.237'],['jimena_tess@email.com', 'JIMENA1959', '20:10:34 01-05-2023', '129.238.111.240'],['bryan_keily@email.com', 'JAYLAH4Ever', '04:43:56 24-07-2021', '122.155.100.205'],['annabelle_taylor@email.com', 'ATaylor45', '08:57:42 23-03-2023', '202.236.031.020'],['shia_joshua@email.com', '23051967', '02:11:12 29-03-2019', '148.079.136.032'],['noah_alec@email.com', '03081975', '03:40:46 20-03-2019', '045.147.072.009'],['shia_joshua@email.com', 'Shia1981', '00:10:23 27-04-2023', '125.248.092.065'],['maurice_binyomin@email.com', 'MBINYOMIN55', '18:24:30 25-03-2023', '055.015.143.072'],['shia_joshua@email.com', 'Shia1981', '05:43:43 04-10-2019', '125.248.092.065'],['alisha_naomi@email.com', '05011953', '22:28:27 19-04-2020', '066.071.213.237'],['amora_yehudis@email.com', 'LINDA4Ever', '18:32:45 20-12-2020', '028.177.180.049'],['jimena_tess@email.com', '27062005', '13:30:47 21-10-2021', '129.238.111.240'],['rhea_yonah@email.com', 'Rhea1985', '18:48:43 29-02-2019', '185.103.054.227'],['enrique_aleah@email.com', 'qwerty', '15:14:01 10-10-2020', '136.206.109.018'],['bryan_keily@email.com', '01061987', '20:33:34 10-10-2020', '122.155.100.205'],['noah_alec@email.com', 'Kabir4Ever', '00:02:17 18-09-2019', '045.147.072.009'],['noah_alec@email.com', 'NOAH1970', '01:20:13 02-10-2021', '045.147.072.009'],['maurice_binyomin@email.com', 'MAURICE2005', '20:09:10 21-08-2019', '055.015.143.072'],['noah_alec@email.com', 'NOAH1970', '22:14:01 28-07-2021', '045.147.072.009'],['alisha_naomi@email.com', 'HAREEM4Ever', '14:13:42 21-05-2020', '225.135.215.119'],['andy_helen@email.com', '07081980', '18:38:20 02-09-2020', '228.067.221.099'],['andy_helen@email.com', '07081980', '20:09:45 03-03-2020', '228.067.221.099'],['aurora_jael@email.com', 'Aurora1957', '18:57:33 02-04-2023', '009.092.032.192'],['amora_yehudis@email.com', 'AYEHUDIS54', '02:11:12 09-03-2020', '148.079.136.032'],['amora_yehudis@email.com', '20092009', '15:34:07 24-01-2023', '028.177.180.049'],['maurice_binyomin@email.com', 'MBINYOMIN55', '10:46:12 12-03-2019', '174.012.119.010'],['maurice_binyomin@email.com', 'qwerty', '06:21:55 07-10-2020', '055.015.143.072'],['noah_alec@email.com', 'NOAH1970', '02:50:04 23-09-2020', '045.147.072.009'],['andy_helen@email.com', '07081980', '16:26:42 14-10-2020', '228.067.221.099'],['andy_helen@email.com', '07081980', '02:47:19 28-06-2019', '228.067.221.099'],['andy_helen@email.com', '07081980', '05:45:05 29-07-2023', '228.067.221.099'],['shia_joshua@email.com', 'Shia1981', '02:11:12 21-11-2019', '148.079.136.032'],['rhea_yonah@email.com', '20041985', '04:46:12 09-04-2020', '185.103.054.227'],['vincenzo_nikhil@email.com', 'VINCENZO1956', '16:42:58 11-01-2023', '177.044.067.084'],['andy_helen@email.com', 'AHelen74', '02:11:12 28-06-2021', '148.079.136.032'],['arielle_saul@email.com', 'CESAR4Ever', '19:10:01 04-10-2023', '242.058.196.202'],['annabelle_taylor@email.com', 'ATaylor71', '02:01:59 11-02-2023', '202.236.031.020'],['andy_helen@email.com', '07081980', '02:11:12 24-04-2020', '148.079.136.032'],['bryan_keily@email.com', '21082002', '17:33:58 17-10-2021', '211.099.239.154'],['alisha_naomi@email.com', 'ALISHA1953', '06:57:41 28-01-2023', '066.071.213.237'],['amora_yehudis@email.com', 'AYEHUDIS54', '02:11:12 10-08-2021', '148.079.136.032'],['aurora_jael@email.com', 'Ariyah4Ever', '02:41:00 14-09-2021', '009.092.032.192'],['vincenzo_nikhil@email.com', 'VINCENZO1956', '07:58:04 20-11-2019', '177.044.067.084'],['bryan_keily@email.com', 'BKeily29', '23:44:42 25-09-2020', '122.155.100.205'],['blair_trany@email.com', '11071961', '02:11:12 02-07-2023', '148.079.136.032'],['enrique_aleah@email.com', 'EAleah46', '18:57:18 09-11-2022', '136.206.109.018'],['alisha_naomi@email.com', 'KYLEE4Ever', '06:01:14 18-07-2020', '252.138.066.086']]\n",
    "\n",
    "print(len(logins), len(passwords), len(connections))\n"
   ]
  },
  {
   "cell_type": "code",
   "execution_count": 24,
   "id": "d5aaea1a",
   "metadata": {},
   "outputs": [
    {
     "name": "stdout",
     "output_type": "stream",
     "text": [
      "16 16\n"
     ]
    }
   ],
   "source": [
    "print(len(logins), len(passwords))"
   ]
  },
  {
   "cell_type": "code",
   "execution_count": 25,
   "id": "ca3f2def",
   "metadata": {},
   "outputs": [
    {
     "name": "stdout",
     "output_type": "stream",
     "text": [
      "[1]\n"
     ]
    }
   ],
   "source": [
    "print([1,2,3][0:1])"
   ]
  },
  {
   "cell_type": "code",
   "execution_count": 31,
   "id": "95591eab-999b-462e-b9f2-2e900a5cde1a",
   "metadata": {},
   "outputs": [
    {
     "name": "stdout",
     "output_type": "stream",
     "text": [
      "The percentage of successful authentications is 46.0%\n"
     ]
    }
   ],
   "source": [
    "\n",
    "\n",
    "\n",
    "\n",
    "accounts = [[x,y] for x,y in zip(logins, passwords)]\n",
    "\n",
    "\n",
    "#print(accounts)\n",
    "\n",
    "success = 0\n",
    "tries = len(connections)\n",
    "\n",
    "# put your code here\n",
    "for connection in connections:\n",
    "    if connection[0:2] in accounts:\n",
    "        #print(connection[0:2])\n",
    "        success += 1\n",
    "    else:\n",
    "        pass\n",
    "    \n",
    "percent = success / tries * 100\n",
    "\n",
    "print(f\"The percentage of successful authentications is {percent}%\")"
   ]
  },
  {
   "cell_type": "markdown",
   "id": "a8db8532-9ca5-49a0-8c30-7a5cfbc22e54",
   "metadata": {},
   "source": [
    "### Bonus question: There is a Hacker in the connections attempts, what is his IP adress? \n",
    "<details>\n",
    "  <summary>Hint:</summary>\n",
    "  \n",
    "  What's the ip adress with the most connections attempts?\n",
    "  \n",
    "</details>"
   ]
  },
  {
   "cell_type": "code",
   "execution_count": 35,
   "id": "fbb02dd2-eb9b-4260-8160-1e08d7efa118",
   "metadata": {},
   "outputs": [
    {
     "name": "stdout",
     "output_type": "stream",
     "text": [
      "{'148.079.136.032': 32, '105.086.125.025': 1, '009.092.032.192': 10, '055.015.143.072': 12, '125.248.092.065': 9, '066.071.213.237': 7, '045.147.072.009': 12, '242.058.196.202': 10, '228.067.221.099': 12, '028.177.180.049': 6, '185.103.054.227': 14, '129.238.111.240': 6, '122.155.100.205': 13, '210.039.002.066': 10, '174.184.122.111': 1, '118.131.096.002': 8, '039.050.037.059': 1, '202.236.031.020': 7, '136.206.109.018': 7, '177.044.067.084': 9, '248.147.169.084': 1, '206.160.131.192': 1, '205.002.237.112': 1, '236.178.184.039': 1, '201.131.255.206': 1, '112.229.044.032': 1, '161.067.239.193': 1, '201.056.045.213': 1, '069.241.078.203': 1, '225.135.215.119': 1, '174.012.119.010': 1, '211.099.239.154': 1, '252.138.066.086': 1}\n"
     ]
    }
   ],
   "source": [
    "# put your code here\n",
    "\n",
    "hash_map = {}\n",
    "\n",
    "\n",
    "\n",
    "\n",
    "\n",
    "\n",
    "\n",
    "\n",
    "\n",
    "\n",
    "for connection in connections:\n",
    "    if connection[3] in hash_map:\n",
    "        hash_map[connection[3]] += 1\n",
    "    else :\n",
    "        hash_map[connection[3]] = 1\n",
    "\n",
    "\n",
    "print(hash_map)"
   ]
  },
  {
   "cell_type": "code",
   "execution_count": null,
   "id": "fcefe81d",
   "metadata": {},
   "outputs": [],
   "source": [
    "# convert date time objects to seconds \n"
   ]
  }
 ],
 "metadata": {
  "kernelspec": {
   "display_name": "Python 3 (ipykernel)",
   "language": "python",
   "name": "python3"
  },
  "language_info": {
   "codemirror_mode": {
    "name": "ipython",
    "version": 3
   },
   "file_extension": ".py",
   "mimetype": "text/x-python",
   "name": "python",
   "nbconvert_exporter": "python",
   "pygments_lexer": "ipython3",
   "version": "3.10.2"
  }
 },
 "nbformat": 4,
 "nbformat_minor": 5
}
