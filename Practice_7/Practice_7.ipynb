{
 "cells": [
  {
   "cell_type": "markdown",
   "id": "5fcb0b36-7d26-47d6-bcf1-f2dd32446230",
   "metadata": {},
   "source": [
    "# Practice 7\n",
    "We're gonna work in two parts, first doing the KNN, then the decision tree:\n",
    "\n",
    "## K-Nearest Neighbors\n",
    "First, let's load everything.\n",
    "Because we're only classifying the connections here, we only need to load them, not the people files."
   ]
  },
  {
   "cell_type": "code",
   "execution_count": 13,
   "id": "cf48c4ce-a94a-4859-85c1-b7652b614ac7",
   "metadata": {},
   "outputs": [],
   "source": [
    "import numpy as np\n",
    "import pandas as pd\n",
    "import matplotlib.pyplot as plt\n",
    "from tqdm import tqdm\n",
    "\n",
    "from sklearn.neighbors import KNeighborsClassifier\n",
    "from sklearn.model_selection import train_test_split\n",
    "\n",
    "\n",
    "\n",
    "def load_files(csv_file=\"\",npy_file=\"\"): return pd.read_csv(csv_file), np.load(npy_file, allow_pickle=True)"
   ]
  },
  {
   "cell_type": "code",
   "execution_count": 35,
   "id": "7033fec8-2179-41cc-bf79-b3b725cec3aa",
   "metadata": {},
   "outputs": [
    {
     "name": "stdout",
     "output_type": "stream",
     "text": [
      "(10000, 256) (10000, 5)\n"
     ]
    },
    {
     "data": {
      "text/plain": [
       "array([[ 0.85610804, -1.19502062, -0.75200504, ...,  1.7817322 ,\n",
       "        -0.42029483, -0.27403684],\n",
       "       [ 1.33143264, -0.43402482,  0.90035635, ..., -0.92095585,\n",
       "         0.90803239, -0.82448252],\n",
       "       [-0.0207784 ,  0.72545354, -1.54455542, ..., -0.22326035,\n",
       "        -1.6329649 ,  0.86262611],\n",
       "       ...,\n",
       "       [ 1.7173893 , -3.1846081 , -2.80543814, ..., -2.66040833,\n",
       "         1.32202013, -0.79174905],\n",
       "       [-0.02602249,  0.91715016,  1.20775965, ...,  0.77560959,\n",
       "        -0.60378829,  1.01949501],\n",
       "       [ 2.28478071,  3.67328578, -2.63366611, ..., -0.17494558,\n",
       "        -1.70395007, -1.09514467]])"
      ]
     },
     "execution_count": 35,
     "metadata": {},
     "output_type": "execute_result"
    }
   ],
   "source": [
    "connections, embeddings = load_files(csv_file=\"connections.csv\", npy_file=\"connections_embeddings.npy\")\n",
    "print(embeddings.shape, connections.shape)\n",
    "connections.head()"
   ]
  },
  {
   "cell_type": "markdown",
   "id": "f20a1416-622c-4eaf-8c01-1248475ec995",
   "metadata": {},
   "source": [
    "Now let's create a list of labels."
   ]
  },
  {
   "cell_type": "code",
   "execution_count": 15,
   "id": "9acff509-a3e7-4ab9-a099-9ce7c0443534",
   "metadata": {},
   "outputs": [],
   "source": [
    "labels_list = [1 if connection_true else 0 for connection_true in connections['true_attempt']]\n",
    "labels = np.array(labels_list) #we transform the list in a np.array to ease the next steps (idk why, but sklearn seems to like it...)"
   ]
  },
  {
   "cell_type": "markdown",
   "id": "ab7c06a7-70d4-487e-9ccc-81a685cb248d",
   "metadata": {},
   "source": [
    "Now split the labels and embeddings into a train and a test sets"
   ]
  },
  {
   "cell_type": "code",
   "execution_count": 16,
   "id": "66d5e3be-42a6-411c-b53d-f57ccf1fd15a",
   "metadata": {},
   "outputs": [
    {
     "name": "stdout",
     "output_type": "stream",
     "text": [
      "(8000, 256) (2000, 256) (8000,) (2000,)\n"
     ]
    }
   ],
   "source": [
    "data_train, data_test, labels_train, labels_test = train_test_split(embeddings, labels, test_size=0.20, shuffle=True)\n",
    "print(data_train.shape, data_test.shape, labels_train.shape, labels_test.shape)"
   ]
  },
  {
   "cell_type": "markdown",
   "id": "e99564b4-5fda-4c5d-ab5d-61ffad91d828",
   "metadata": {},
   "source": [
    "And now, let's train, test and evaluate our model! \n",
    "The KNN page can be found here: https://scikit-learn.org/stable/modules/generated/sklearn.neighbors.KNeighborsClassifier.html#sklearn.neighbors.KNeighborsClassifier\n",
    "\n",
    "- To **train** the model, use the *fit* method.\n",
    "- To **test** the model, use the *predict* method.\n",
    "- To **evaluate** directly the performance, use the *score* method."
   ]
  },
  {
   "cell_type": "code",
   "execution_count": 17,
   "id": "9d3f0808-053a-4e45-95c9-43be3a6acbfb",
   "metadata": {},
   "outputs": [
    {
     "data": {
      "text/plain": [
       "0.8985"
      ]
     },
     "execution_count": 17,
     "metadata": {},
     "output_type": "execute_result"
    }
   ],
   "source": [
    "KNN = KNeighborsClassifier(n_neighbors=10)\n",
    "KNN.fit(data_train, labels_train)\n",
    "KNN.score(data_test, labels_test)"
   ]
  },
  {
   "cell_type": "markdown",
   "id": "5820c7a3-7827-4319-b239-49c3e3887f84",
   "metadata": {},
   "source": [
    "What is the accuracy of your model? What happen if you increase of decrease the number of neighbors ?\n",
    "\n",
    "Can we plot the graph showing the relation between number of neighbors and acccuracy using plt.plot?"
   ]
  },
  {
   "cell_type": "code",
   "execution_count": 18,
   "id": "d78d37cd-d654-4cb8-bf71-40a5b8c89dd8",
   "metadata": {},
   "outputs": [
    {
     "name": "stderr",
     "output_type": "stream",
     "text": [
      "100%|██████████| 29/29 [00:03<00:00,  8.64it/s]\n"
     ]
    },
    {
     "data": {
      "image/png": "[encoded data removed]",
      "text/plain": [
       "<Figure size 640x480 with 1 Axes>"
      ]
     },
     "metadata": {},
     "output_type": "display_data"
    }
   ],
   "source": [
    "\n",
    "accuracies = []\n",
    "neighbors = []\n",
    "for N in tqdm(range(1,30)):\n",
    "    KNN = KNeighborsClassifier(n_neighbors=N)\n",
    "    KNN.fit(data_train, labels_train)\n",
    "    score = KNN.score(data_test, labels_test)\n",
    "    neighbors.append(N)\n",
    "    accuracies.append(score)\n",
    "    \n",
    "\n",
    "\n",
    "plt.plot(neighbors, accuracies)\n",
    "plt.show()"
   ]
  },
  {
   "cell_type": "markdown",
   "id": "cb190866-89e3-4e57-af4d-6171df01edff",
   "metadata": {},
   "source": [
    "## Decision Tree Classifier\n",
    "Now, let's do the same, but from the ips, and with a different classifier.\n",
    "First, let's convert the ips to 4dimensional vectors.\n",
    "\n",
    "You can use the function *split(\".\")*, that split a string into a list of strings, using the character given as a separator.\n",
    "For example:\n",
    "\"hello, this is, a sentence.\".split(\",\")\n",
    "will output\n",
    "[\"hello\", \" this is\", \" a sentence.\"]\n",
    "\n",
    "you can use the function *float* to convert a string into a floating number"
   ]
  },
  {
   "cell_type": "code",
   "execution_count": 19,
   "id": "52b3ede0-7e42-4e01-bf3e-e9ebc8fc0af7",
   "metadata": {},
   "outputs": [
    {
     "name": "stdout",
     "output_type": "stream",
     "text": [
      "Ip vectors extracted, shape=(10000, 4)\n"
     ]
    }
   ],
   "source": [
    "list_of_ips = list(connections['ips'])\n",
    "list_of_vectors = []\n",
    "for ip in list_of_ips:\n",
    "    four_digits_as_str = ip.split('.')\n",
    "    four_digits_as_floats = [float(digit) for digit in four_digits_as_str]\n",
    "    list_of_vectors.append(four_digits_as_floats)\n",
    "    \n",
    "list_of_vectors = np.array(list_of_vectors)\n",
    "print(f\"Ip vectors extracted, shape={list_of_vectors.shape}\")"
   ]
  },
  {
   "cell_type": "markdown",
   "id": "e9d1c020-f06f-4971-aeba-2f4c70f9fa69",
   "metadata": {},
   "source": [
    "Now that you have the vectors and the labels, do the same as with the KNN:\n",
    "\n",
    "1. split the train and test\n",
    "2. train and evaluate your model\n",
    "3. explore one or multiple of the following parameters:\n",
    "    - max_depth\n",
    "    - min_samples_split\n",
    "    - min_samples_leaf\n",
    "\n",
    "The page for the decision tree can be found here: https://scikit-learn.org/stable/modules/generated/sklearn.tree.DecisionTreeClassifier.html#sklearn.tree.DecisionTreeClassifier\n"
   ]
  },
  {
   "cell_type": "code",
   "execution_count": 20,
   "id": "e4e24db0-4b79-416f-859e-096d968670cd",
   "metadata": {},
   "outputs": [
    {
     "name": "stdout",
     "output_type": "stream",
     "text": [
      "(8000, 4) (2000, 4) (8000,) (2000,)\n"
     ]
    }
   ],
   "source": [
    "labels_list = [1 if connection_true else 0 for connection_true in connections['true_attempt']]\n",
    "data_train, data_test, labels_train, labels_test = train_test_split(list_of_vectors, labels, test_size=0.20, shuffle=True)\n",
    "print(data_train.shape, data_test.shape, labels_train.shape, labels_test.shape)"
   ]
  },
  {
   "cell_type": "code",
   "execution_count": 25,
   "id": "a32fed08",
   "metadata": {},
   "outputs": [
    {
     "name": "stderr",
     "output_type": "stream",
     "text": [
      "100%|██████████| 29/29 [00:00<00:00, 70.80it/s]\n"
     ]
    },
    {
     "data": {
      "image/png": "[encoded data removed]",
      "text/plain": [
       "<Figure size 640x480 with 1 Axes>"
      ]
     },
     "metadata": {},
     "output_type": "display_data"
    }
   ],
   "source": [
    "from sklearn.tree import DecisionTreeClassifier\n",
    "\n",
    "accuracies = []\n",
    "neighbors = []\n",
    "for N in tqdm(range(1,30)):\n",
    "    clf = DecisionTreeClassifier(max_depth=N)\n",
    "    clf.fit(data_train, labels_train)\n",
    "    score = clf.score(data_test, labels_test)\n",
    "    neighbors.append(N)\n",
    "    accuracies.append(score)\n",
    "    \n",
    "\n",
    "\n",
    "plt.plot(neighbors, accuracies)\n",
    "plt.show()"
   ]
  },
  {
   "cell_type": "code",
   "execution_count": 26,
   "id": "65cb8c7d",
   "metadata": {},
   "outputs": [
    {
     "name": "stderr",
     "output_type": "stream",
     "text": [
      "100%|██████████| 29/29 [00:00<00:00, 63.94it/s]\n"
     ]
    },
    {
     "data": {
      "image/png": "[encoded data removed]",
      "text/plain": [
       "<Figure size 640x480 with 1 Axes>"
      ]
     },
     "metadata": {},
     "output_type": "display_data"
    }
   ],
   "source": [
    "from sklearn.tree import DecisionTreeClassifier\n",
    "\n",
    "accuracies = []\n",
    "neighbors = []\n",
    "for N in tqdm(range(1,30)):\n",
    "    clf = DecisionTreeClassifier(min_samples_leaf=N)\n",
    "    clf.fit(data_train, labels_train)\n",
    "    score = clf.score(data_test, labels_test)\n",
    "    neighbors.append(N)\n",
    "    accuracies.append(score)\n",
    "    \n",
    "\n",
    "\n",
    "plt.plot(neighbors, accuracies)\n",
    "plt.show()"
   ]
  },
  {
   "cell_type": "code",
   "execution_count": 31,
   "id": "3fcaf278",
   "metadata": {},
   "outputs": [
    {
     "name": "stderr",
     "output_type": "stream",
     "text": [
      "100%|██████████| 48/48 [00:00<00:00, 62.31it/s]\n"
     ]
    },
    {
     "data": {
      "image/png": "[encoded data removed]",
      "text/plain": [
       "<Figure size 640x480 with 1 Axes>"
      ]
     },
     "metadata": {},
     "output_type": "display_data"
    }
   ],
   "source": [
    "from sklearn.tree import DecisionTreeClassifier\n",
    "\n",
    "accuracies = []\n",
    "neighbors = []\n",
    "for N in tqdm(range(2,50)):\n",
    "    clf = DecisionTreeClassifier(min_samples_split=N)\n",
    "    clf.fit(data_train, labels_train)\n",
    "    score = clf.score(data_test, labels_test)\n",
    "    neighbors.append(N)\n",
    "    accuracies.append(score)\n",
    "    \n",
    "\n",
    "\n",
    "plt.plot(neighbors, accuracies)\n",
    "plt.show()"
   ]
  },
  {
   "cell_type": "code",
   "execution_count": 36,
   "id": "f69460b9",
   "metadata": {},
   "outputs": [
    {
     "name": "stdout",
     "output_type": "stream",
     "text": [
      "                          logins     passwords              ips  \\\n",
      "0        malik_antonia@email.com  Spenc&r4Ever  170.252.165.242   \n",
      "1         josue_mariam@email.com      03031974  193.251.224.173   \n",
      "2        laila_delilah@email.com    LDE1ILAH76      34.5.41.175   \n",
      "3      charles_eliyahu@email.com   PATRICK1985  132.245.193.248   \n",
      "4          sade_miguel@email.com       pRw1wPP    34.113.135.64   \n",
      "...                          ...           ...              ...   \n",
      "9995     miriam_callie@email.com     NCA1LIE41   38.183.168.174   \n",
      "9996     kaya_meshilem@email.com      06041980      190.4.12.45   \n",
      "9997    jasmine_aileen@email.com      16051994    185.7.252.215   \n",
      "9998  salvatore_bryant@email.com      JBRY@NT8   140.242.24.140   \n",
      "9999       shaul_fiona@email.com      SFIONA65     45.81.243.20   \n",
      "\n",
      "                    dates  true_attempt  \n",
      "0     20:22:59 25-12-2020         False  \n",
      "1     04:45:06 11-04-2022         False  \n",
      "2     11:11:55 07-04-2023         False  \n",
      "3     07:46:50 18-01-2022         False  \n",
      "4     17:32:41 23-03-2023         False  \n",
      "...                   ...           ...  \n",
      "9995  19:59:14 04-12-2020          True  \n",
      "9996  07:57:00 13-07-2022         False  \n",
      "9997  17:22:42 18-01-2023         False  \n",
      "9998  16:25:04 22-01-2021         False  \n",
      "9999  13:23:59 11-05-2023         False  \n",
      "\n",
      "[10000 rows x 5 columns]\n"
     ]
    }
   ],
   "source": [
    "print(connections)\n",
    "\n",
    "# convert logins to a value via hashmap\n",
    "logins = connections['login'].unique()\n",
    "login_map = {}\n",
    "for i in range(len(logins)):\n",
    "    login_map[logins[i]] = i\n",
    "\n",
    "connections['new_login'] = connections['login'].apply(lambda x: login_map[x])\n"
   ]
  },
  {
   "cell_type": "code",
   "execution_count": 40,
   "id": "3af48a3a",
   "metadata": {},
   "outputs": [
    {
     "name": "stdout",
     "output_type": "stream",
     "text": [
      "                          logins     passwords              ips  \\\n",
      "0        malik_antonia@email.com  Spenc&r4Ever  170.252.165.242   \n",
      "1         josue_mariam@email.com      03031974  193.251.224.173   \n",
      "2        laila_delilah@email.com    LDE1ILAH76      34.5.41.175   \n",
      "3      charles_eliyahu@email.com   PATRICK1985  132.245.193.248   \n",
      "4          sade_miguel@email.com       pRw1wPP    34.113.135.64   \n",
      "...                          ...           ...              ...   \n",
      "9995     miriam_callie@email.com     NCA1LIE41   38.183.168.174   \n",
      "9996     kaya_meshilem@email.com      06041980      190.4.12.45   \n",
      "9997    jasmine_aileen@email.com      16051994    185.7.252.215   \n",
      "9998  salvatore_bryant@email.com      JBRY@NT8   140.242.24.140   \n",
      "9999       shaul_fiona@email.com      SFIONA65     45.81.243.20   \n",
      "\n",
      "                    dates  true_attempt  \n",
      "0     20:22:59 25-12-2020         False  \n",
      "1     04:45:06 11-04-2022         False  \n",
      "2     11:11:55 07-04-2023         False  \n",
      "3     07:46:50 18-01-2022         False  \n",
      "4     17:32:41 23-03-2023         False  \n",
      "...                   ...           ...  \n",
      "9995  19:59:14 04-12-2020          True  \n",
      "9996  07:57:00 13-07-2022         False  \n",
      "9997  17:22:42 18-01-2023         False  \n",
      "9998  16:25:04 22-01-2021         False  \n",
      "9999  13:23:59 11-05-2023         False  \n",
      "\n",
      "[10000 rows x 5 columns]\n"
     ]
    }
   ],
   "source": [
    "print(connections)\n",
    "\n",
    "# convert logins to a value via hashmap\n",
    "logins = connections['logins'].unique()\n",
    "login_map = {}\n",
    "for i in range(len(logins)):\n",
    "    login_map[logins[i]] = i\n",
    "\n",
    "connections['new_login'] = connections['logins'].apply(lambda x: login_map[x])\n",
    "\n",
    "dates = connections['date'].unique()\n",
    "date_map = {}\n",
    "for i in \n"
   ]
  },
  {
   "cell_type": "code",
   "execution_count": 41,
   "id": "98472158",
   "metadata": {},
   "outputs": [
    {
     "name": "stdout",
     "output_type": "stream",
     "text": [
      "Ip vectors extracted, shape=(10000, 5)\n"
     ]
    }
   ],
   "source": [
    "list_of_ips = list(connections['ips'])\n",
    "list_of_emails = list(connections['new_login'])\n",
    "list_of_vectors = []\n",
    "for idx in range(len(list_of_ips)):\n",
    "    four_digits_as_str = list_of_ips[idx].split('.')\n",
    "    four_digits_as_floats = [float(digit) for digit in four_digits_as_str]\n",
    "    four_digits_as_floats.append(list_of_emails[idx])\n",
    "    list_of_vectors.append(four_digits_as_floats)\n",
    "    \n",
    "    \n",
    "list_of_vectors = np.array(list_of_vectors)\n",
    "print(f\"Ip vectors extracted, shape={list_of_vectors.shape}\")"
   ]
  },
  {
   "cell_type": "code",
   "execution_count": 42,
   "id": "f734c11e",
   "metadata": {},
   "outputs": [
    {
     "name": "stdout",
     "output_type": "stream",
     "text": [
      "(8000, 5) (2000, 5) (8000,) (2000,)\n"
     ]
    }
   ],
   "source": [
    "labels_list = [1 if connection_true else 0 for connection_true in connections['true_attempt']]\n",
    "data_train, data_test, labels_train, labels_test = train_test_split(list_of_vectors, labels, test_size=0.20, shuffle=True)\n",
    "print(data_train.shape, data_test.shape, labels_train.shape, labels_test.shape)"
   ]
  },
  {
   "cell_type": "code",
   "execution_count": 43,
   "id": "3c7d0a12",
   "metadata": {},
   "outputs": [
    {
     "name": "stderr",
     "output_type": "stream",
     "text": [
      "100%|██████████| 29/29 [00:00<00:00, 56.71it/s]\n"
     ]
    },
    {
     "data": {
      "image/png": "[encoded data removed]",
      "text/plain": [
       "<Figure size 640x480 with 1 Axes>"
      ]
     },
     "metadata": {},
     "output_type": "display_data"
    }
   ],
   "source": [
    "from sklearn.tree import DecisionTreeClassifier\n",
    "\n",
    "accuracies = []\n",
    "neighbors = []\n",
    "for N in tqdm(range(1,30)):\n",
    "    clf = DecisionTreeClassifier(max_depth=N)\n",
    "    clf.fit(data_train, labels_train)\n",
    "    score = clf.score(data_test, labels_test)\n",
    "    neighbors.append(N)\n",
    "    accuracies.append(score)\n",
    "    \n",
    "\n",
    "\n",
    "plt.plot(neighbors, accuracies)\n",
    "plt.show()"
   ]
  },
  {
   "cell_type": "code",
   "execution_count": null,
   "id": "e0b0b5a0",
   "metadata": {},
   "outputs": [],
   "source": []
  },
  {
   "cell_type": "code",
   "execution_count": null,
   "id": "729613c0",
   "metadata": {},
   "outputs": [],
   "source": []
  },
  {
   "cell_type": "code",
   "execution_count": null,
   "id": "c2a1460f",
   "metadata": {},
   "outputs": [],
   "source": []
  },
  {
   "cell_type": "code",
   "execution_count": null,
   "id": "20009d8e",
   "metadata": {},
   "outputs": [],
   "source": []
  }
 ],
 "metadata": {
  "kernelspec": {
   "display_name": "Python 3 (ipykernel)",
   "language": "python",
   "name": "python3"
  },
  "language_info": {
   "codemirror_mode": {
    "name": "ipython",
    "version": 3
   },
   "file_extension": ".py",
   "mimetype": "text/x-python",
   "name": "python",
   "nbconvert_exporter": "python",
   "pygments_lexer": "ipython3",
   "version": "3.10.2"
  }
 },
 "nbformat": 4,
 "nbformat_minor": 5
}
