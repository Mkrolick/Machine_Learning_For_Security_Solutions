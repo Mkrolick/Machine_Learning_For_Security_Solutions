{
 "cells": [
  {
   "cell_type": "markdown",
   "id": "c0e66ed0-0ad7-496f-87d0-d5c17aeb9870",
   "metadata": {},
   "source": [
    "# Final Practice\n",
    "Today is all about practice.\n",
    "You are given:\n",
    "- a set of people that registered to your authentication system\n",
    "    - with the file \"people.csv\" containing all their info\n",
    "    - their associated reference embeddings in \"people_embeddings.npy\"\n",
    "- a set of connections that will be used to train and validate the defense systems you deemed useful. This includes:\n",
    "    - The file describing their connections: \"train_connections.csv\"\n",
    "    - The associated connection embeddings: \"train_connections_embeddings.npy\"\n",
    "- a test set of connections. The main question here is: which one of those test connections would you allow in? The set includes:\n",
    "    - The file describing their connections: \"test_connections.csv\"\n",
    "    - The associated connection embeddings: \"test_connections_embeddings.npy\"\n",
    "    \n",
    "Your mission is to produce a list of booleans 'predicted_test_labels', of the same length as the 'test_connections.csv', each boolean being True if you let then connection in and False otherwise. <br>\n",
    "Use the \"eval(predicted_test_labels)\" function to get the accuracy of your system."
   ]
  },
  {
   "cell_type": "code",
   "execution_count": 1,
   "id": "e333a2f7-5ebe-4a93-b800-86bce0b3be01",
   "metadata": {},
   "outputs": [],
   "source": [
    "#Import packages\n",
    "import numpy as np\n",
    "import pandas as pd\n",
    "\n",
    "import matplotlib.pyplot as plt\n",
    "from tqdm import tqdm\n",
    "\n",
    "from sklearn.neighbors import KNeighborsClassifier\n",
    "\n",
    "import xgboost as xgb\n"
   ]
  },
  {
   "cell_type": "code",
   "execution_count": 2,
   "id": "860fe6cd-95ac-4ccc-b745-2c8d0f4cc635",
   "metadata": {},
   "outputs": [],
   "source": [
    "#Import data\n",
    "def load_files(csv_file=\"\",npy_file=\"\"): return pd.read_csv(csv_file), np.load(npy_file, allow_pickle=True)\n",
    "\n",
    "train_connections, train_embeddings = load_files(csv_file=\"train_connections.csv\", npy_file=\"train_connections_embeddings.npy\")"
   ]
  },
  {
   "cell_type": "code",
   "execution_count": 3,
   "id": "36eccc49-8d82-44db-8911-d1d7250f005f",
   "metadata": {},
   "outputs": [],
   "source": [
    "#Your code\n",
    "labels_list = [1 if connection_true else 0 for connection_true in train_connections['true_attempt']]\n",
    "labels = np.array(labels_list) #we transform the list in a np.array to ease the next steps (idk why, but sklearn seems to like it...)\n",
    "\n",
    "data_train = train_embeddings\n",
    "labels_train = labels\n",
    "\n",
    "#make labels 2 d\n",
    "#labels_train = np.array([[1, 0] if label == 0 else [0, 1] for label in labels_train])"
   ]
  },
  {
   "cell_type": "code",
   "execution_count": 4,
   "id": "f03def7e-2c89-44cd-bee7-600b6a3af81d",
   "metadata": {},
   "outputs": [],
   "source": [
    "# load test_connections_embeddings.npy\n",
    "test_embeddings = np.load(\"test_connections_embeddings.npy\", allow_pickle=True)"
   ]
  },
  {
   "cell_type": "code",
   "execution_count": 5,
   "metadata": {},
   "outputs": [],
   "source": [
    "def eval(predicted_test_labels):\n",
    "    targets = np.load('solution.npy')\n",
    "    accuracy = np.sum(targets==predicted_test_labels)/len(predicted_test_labels)\n",
    "    print(f\"The accuracy of your system is {100*accuracy}%!\")\n",
    "    \n",
    "#eval(predicted_test_labels)"
   ]
  },
  {
   "cell_type": "code",
   "execution_count": 6,
   "metadata": {},
   "outputs": [
    {
     "data": {
      "image/png": "[encoded data removed]",
      "text/plain": [
       "<Figure size 640x480 with 1 Axes>"
      ]
     },
     "metadata": {},
     "output_type": "display_data"
    }
   ],
   "source": [
    "#plot distribution of labels in hist bucket = 2\n",
    "# normalize axis to total percentage\n",
    "\n",
    "plt.hist(labels_train, bins=2, edgecolor='black', linewidth=3)\n",
    "plt.show()"
   ]
  },
  {
   "cell_type": "code",
   "execution_count": 31,
   "id": "5a20dcd4-413f-4a30-9553-f97190559414",
   "metadata": {},
   "outputs": [
    {
     "name": "stdout",
     "output_type": "stream",
     "text": [
      "The accuracy of your system is 77.7390513714199%!\n"
     ]
    }
   ],
   "source": [
    "# run xgboost for kagggle competition\n",
    "\n",
    "\n",
    "#for i in range(1, 10):\n",
    "    # train model\n",
    "#    xgb_model = xgb.XGBClassifier(objective=\"binary:logistic\", random_state=42, n_estimators=800, max_depth=i, )\n",
    "#    xgb_model.fit(data_train, labels_train)\n",
    "\n",
    "    # predict test labels\n",
    "#    predicted_test_labels = xgb_model.predict(test_embeddings)\n",
    "\n",
    "#    print(i, eval(predicted_test_labels))\n",
    "    # 76.49% accuracy\n",
    "\n",
    "\n",
    "# 800, 3 -> 78.1 %\n",
    "\n",
    "# 900, 2 -> 78.5% , seed 42\n",
    "\n",
    "\n",
    "xgb_model = xgb.XGBClassifier(learning_rate = 0.2, objective=\"binary:logistic\", random_state=42, n_estimators=900, max_depth=2)\n",
    "\n",
    "xgb_model.fit(data_train, labels_train)\n",
    "\n",
    "predicted_test_labels = xgb_model.predict(test_embeddings)\n",
    "\n",
    "eval(predicted_test_labels)\n"
   ]
  },
  {
   "cell_type": "code",
   "execution_count": 10,
   "id": "ab92cb77-6d23-4204-a963-d4d0ea31080c",
   "metadata": {},
   "outputs": [],
   "source": [
    "# Decision trees with xgboost\n",
    "#from sklearn.model_selection import KFold\n",
    "#\n",
    "#kf = KFold(n_splits=5, shuffle=True, random_state=122)\n",
    "#for train_index, test_index in kf.split(data_train):\n",
    "##    xgb_model = xgb.XGBClassifier(random_state=42).fit(\n",
    "#    data_train[train_index], labels[train_index])\n",
    "#\n",
    "#predicted_test_labels = xgb_model.predict(test_embeddings)\n",
    "\n",
    "#print(eval(predicted_test_labels))\n",
    "\n",
    "# 75.49628731626004%"
   ]
  },
  {
   "cell_type": "code",
   "execution_count": 11,
   "metadata": {},
   "outputs": [],
   "source": [
    "# Train a random forests models\n",
    "\n",
    "#from sklearn.ensemble import RandomForestClassifier\n",
    "\n",
    "#rf_model = RandomForestClassifier(n_estimators=40, max_depth=3, random_state=0)\n",
    "\n",
    "#rf_model.fit(data_train, labels_train)\n",
    "\n",
    "#predicted_test_labels = rf_model.predict(test_embeddings)\n",
    "\n",
    "#eval(predicted_test_labels)"
   ]
  },
  {
   "cell_type": "code",
   "execution_count": 12,
   "metadata": {},
   "outputs": [],
   "source": [
    "# train a random forests regressor\n",
    "\n",
    "#from sklearn.ensemble import RandomForestRegressor\n",
    "\n",
    "#rf_model = RandomForestRegressor(n_estimators=40, max_depth=3, random_state=0)\n",
    "\n",
    "#rf_model.fit(data_train, labels_train)\n",
    "\n",
    "#predicted_test_labels = rf_model.predict(test_embeddings)\n",
    "#eval(predicted_test_labels)\n",
    "\n",
    "# LMAOO"
   ]
  },
  {
   "cell_type": "code",
   "execution_count": 13,
   "id": "3178c966-7fd7-423d-88b8-022ed90a2be8",
   "metadata": {},
   "outputs": [],
   "source": [
    "# use a non linear model SVM\n",
    "#from sklearn import svm\n",
    "\n",
    "#clf = svm.SVC()\n",
    "#clf.fit(data_train, labels_train)\n",
    "\n",
    "#predicted_test_labels = clf.predict(test_embeddings)\n",
    "\n",
    "\n",
    "# 76.6% accuracy\n"
   ]
  },
  {
   "cell_type": "code",
   "execution_count": 14,
   "id": "6a5ac93b-d884-49fc-a1df-be9408268e68",
   "metadata": {},
   "outputs": [],
   "source": [
    "# use a non linear svm with a kernel\n",
    "\n",
    "#clf = svm.NuSVC(gamma=\"auto\")\n",
    "#clf.fit(data_train, labels_train)\n",
    "\n",
    "#predicted_test_labels = clf.predict(test_embeddings)\n",
    "\n",
    "# Wow that was 71% accuracy"
   ]
  },
  {
   "cell_type": "code",
   "execution_count": 15,
   "metadata": {},
   "outputs": [],
   "source": [
    "# Make a voting system with XGBoost and Random forest\n",
    "\n",
    "#predicted_test_labels = np.array([1 if (xgb_model.predict([test_embeddings[i]]) + rf_model.predict([test_embeddings[i]])) > 1 else 0 for i in range(len(test_embeddings))])\n",
    "\n",
    "#eval(predicted_test_labels)\n",
    "\n"
   ]
  },
  {
   "cell_type": "code",
   "execution_count": 16,
   "metadata": {},
   "outputs": [
    {
     "name": "stdout",
     "output_type": "stream",
     "text": [
      "The accuracy of your system is 74.58705864524929%!\n"
     ]
    }
   ],
   "source": [
    "# use logisitc regression\n",
    "\n",
    "from sklearn.linear_model import LogisticRegression\n",
    "\n",
    "clf = LogisticRegression(random_state=0).fit(data_train, labels_train)\n",
    "\n",
    "predicted_test_labels = clf.predict(test_embeddings)\n",
    "\n",
    "eval(predicted_test_labels)"
   ]
  },
  {
   "cell_type": "markdown",
   "metadata": {},
   "source": []
  },
  {
   "cell_type": "code",
   "execution_count": 17,
   "metadata": {},
   "outputs": [
    {
     "name": "stdout",
     "output_type": "stream",
     "text": [
      "Model: \"sequential\"\n",
      "_________________________________________________________________\n",
      " Layer (type)                Output Shape              Param #   \n",
      "=================================================================\n",
      " dense (Dense)               (None, 128)               16512     \n",
      "                                                                 \n",
      " dropout (Dropout)           (None, 128)               0         \n",
      "                                                                 \n",
      " dense_1 (Dense)             (None, 64)                8256      \n",
      "                                                                 \n",
      " dropout_1 (Dropout)         (None, 64)                0         \n",
      "                                                                 \n",
      " dense_2 (Dense)             (None, 32)                2080      \n",
      "                                                                 \n",
      " dropout_2 (Dropout)         (None, 32)                0         \n",
      "                                                                 \n",
      " dense_3 (Dense)             (None, 1)                 33        \n",
      "                                                                 \n",
      "=================================================================\n",
      "Total params: 26881 (105.00 KB)\n",
      "Trainable params: 26881 (105.00 KB)\n",
      "Non-trainable params: 0 (0.00 Byte)\n",
      "_________________________________________________________________\n",
      "Epoch 1/100\n",
      "1038/1044 [============================>.] - ETA: 0s - loss: 1.2748 - accuracy: 0.7458Predictions for epoch 1:\n",
      "207/207 [==============================] - 0s 2ms/step\n",
      "The accuracy of your system is 75.22351871495681%!\n",
      "\n",
      "\n",
      "1044/1044 [==============================] - 4s 3ms/step - loss: 1.2708 - accuracy: 0.7459\n",
      "Epoch 2/100\n",
      "1030/1044 [============================>.] - ETA: 0s - loss: 0.5623 - accuracy: 0.7508Predictions for epoch 2:\n",
      "207/207 [==============================] - 0s 1ms/step\n",
      "The accuracy of your system is 75.28413395969086%!\n",
      "\n",
      "\n",
      "1044/1044 [==============================] - 3s 3ms/step - loss: 0.5622 - accuracy: 0.7511\n",
      "Epoch 3/100\n",
      "1044/1044 [==============================] - ETA: 0s - loss: 0.5508 - accuracy: 0.7517Predictions for epoch 3:\n",
      "207/207 [==============================] - 0s 1ms/step\n",
      "The accuracy of your system is 74.32944385512957%!\n",
      "\n",
      "\n",
      "1044/1044 [==============================] - 3s 3ms/step - loss: 0.5508 - accuracy: 0.7517\n",
      "Epoch 4/100\n",
      "1030/1044 [============================>.] - ETA: 0s - loss: 0.5425 - accuracy: 0.7512Predictions for epoch 4:\n",
      "207/207 [==============================] - 0s 2ms/step\n",
      "The accuracy of your system is 75.34474920442491%!\n",
      "\n",
      "\n",
      "1044/1044 [==============================] - 3s 3ms/step - loss: 0.5428 - accuracy: 0.7511\n",
      "Epoch 5/100\n",
      "1041/1044 [============================>.] - ETA: 0s - loss: 0.5368 - accuracy: 0.7516Predictions for epoch 5:\n",
      "207/207 [==============================] - 0s 2ms/step\n",
      "The accuracy of your system is 75.05682679193816%!\n",
      "\n",
      "\n",
      "1044/1044 [==============================] - 4s 4ms/step - loss: 0.5368 - accuracy: 0.7517\n",
      "Epoch 6/100\n",
      "1024/1044 [============================>.] - ETA: 0s - loss: 0.5304 - accuracy: 0.7535Predictions for epoch 6:\n",
      "207/207 [==============================] - 0s 1ms/step\n",
      "The accuracy of your system is 75.16290347022276%!\n",
      "\n",
      "\n",
      "1044/1044 [==============================] - 3s 3ms/step - loss: 0.5300 - accuracy: 0.7537\n",
      "Epoch 7/100\n",
      "1042/1044 [============================>.] - ETA: 0s - loss: 0.5270 - accuracy: 0.7548Predictions for epoch 7:\n",
      "207/207 [==============================] - 0s 1ms/step\n",
      "The accuracy of your system is 74.6173662676163%!\n",
      "\n",
      "\n",
      "1044/1044 [==============================] - 3s 3ms/step - loss: 0.5270 - accuracy: 0.7548\n",
      "Epoch 8/100\n",
      " 102/1044 [=>............................] - ETA: 2s - loss: 0.5195 - accuracy: 0.7518"
     ]
    },
    {
     "ename": "KeyboardInterrupt",
     "evalue": "",
     "output_type": "error",
     "traceback": [
      "\u001b[0;31m---------------------------------------------------------------------------\u001b[0m",
      "\u001b[0;31mKeyboardInterrupt\u001b[0m                         Traceback (most recent call last)",
      "\u001b[1;32m/Users/malcolmkrolick/Documents/GitHub/Machine_Learning_For_Security_Solutions/Week 9/Final Practice.ipynb Cell 17\u001b[0m line \u001b[0;36m3\n\u001b[1;32m     <a href='vscode-notebook-cell:/Users/malcolmkrolick/Documents/GitHub/Machine_Learning_For_Security_Solutions/Week%209/Final%20Practice.ipynb#X22sZmlsZQ%3D%3D?line=33'>34</a>\u001b[0m         \u001b[39mprint\u001b[39m(\u001b[39m\"\u001b[39m\u001b[39m\\n\u001b[39;00m\u001b[39m\"\u001b[39m)\n\u001b[1;32m     <a href='vscode-notebook-cell:/Users/malcolmkrolick/Documents/GitHub/Machine_Learning_For_Security_Solutions/Week%209/Final%20Practice.ipynb#X22sZmlsZQ%3D%3D?line=35'>36</a>\u001b[0m \u001b[39m# train the model\u001b[39;00m\n\u001b[0;32m---> <a href='vscode-notebook-cell:/Users/malcolmkrolick/Documents/GitHub/Machine_Learning_For_Security_Solutions/Week%209/Final%20Practice.ipynb#X22sZmlsZQ%3D%3D?line=36'>37</a>\u001b[0m model\u001b[39m.\u001b[39;49mfit(train_embeddings, labels, epochs\u001b[39m=\u001b[39;49m\u001b[39m100\u001b[39;49m, callbacks\u001b[39m=\u001b[39;49m[PredictionCallback()])\n\u001b[1;32m     <a href='vscode-notebook-cell:/Users/malcolmkrolick/Documents/GitHub/Machine_Learning_For_Security_Solutions/Week%209/Final%20Practice.ipynb#X22sZmlsZQ%3D%3D?line=40'>41</a>\u001b[0m \u001b[39m# To make predictions:\u001b[39;00m\n\u001b[1;32m     <a href='vscode-notebook-cell:/Users/malcolmkrolick/Documents/GitHub/Machine_Learning_For_Security_Solutions/Week%209/Final%20Practice.ipynb#X22sZmlsZQ%3D%3D?line=41'>42</a>\u001b[0m predictions \u001b[39m=\u001b[39m model\u001b[39m.\u001b[39mpredict(test_embeddings)\n",
      "File \u001b[0;32m~/Documents/GitHub/Machine_Learning_For_Security_Solutions/MLSecuritySolutions/lib/python3.10/site-packages/keras/src/utils/traceback_utils.py:65\u001b[0m, in \u001b[0;36mfilter_traceback.<locals>.error_handler\u001b[0;34m(*args, **kwargs)\u001b[0m\n\u001b[1;32m     63\u001b[0m filtered_tb \u001b[39m=\u001b[39m \u001b[39mNone\u001b[39;00m\n\u001b[1;32m     64\u001b[0m \u001b[39mtry\u001b[39;00m:\n\u001b[0;32m---> 65\u001b[0m     \u001b[39mreturn\u001b[39;00m fn(\u001b[39m*\u001b[39;49margs, \u001b[39m*\u001b[39;49m\u001b[39m*\u001b[39;49mkwargs)\n\u001b[1;32m     66\u001b[0m \u001b[39mexcept\u001b[39;00m \u001b[39mException\u001b[39;00m \u001b[39mas\u001b[39;00m e:\n\u001b[1;32m     67\u001b[0m     filtered_tb \u001b[39m=\u001b[39m _process_traceback_frames(e\u001b[39m.\u001b[39m__traceback__)\n",
      "File \u001b[0;32m~/Documents/GitHub/Machine_Learning_For_Security_Solutions/MLSecuritySolutions/lib/python3.10/site-packages/keras/src/engine/training.py:1783\u001b[0m, in \u001b[0;36mModel.fit\u001b[0;34m(self, x, y, batch_size, epochs, verbose, callbacks, validation_split, validation_data, shuffle, class_weight, sample_weight, initial_epoch, steps_per_epoch, validation_steps, validation_batch_size, validation_freq, max_queue_size, workers, use_multiprocessing)\u001b[0m\n\u001b[1;32m   1775\u001b[0m \u001b[39mwith\u001b[39;00m tf\u001b[39m.\u001b[39mprofiler\u001b[39m.\u001b[39mexperimental\u001b[39m.\u001b[39mTrace(\n\u001b[1;32m   1776\u001b[0m     \u001b[39m\"\u001b[39m\u001b[39mtrain\u001b[39m\u001b[39m\"\u001b[39m,\n\u001b[1;32m   1777\u001b[0m     epoch_num\u001b[39m=\u001b[39mepoch,\n\u001b[0;32m   (...)\u001b[0m\n\u001b[1;32m   1780\u001b[0m     _r\u001b[39m=\u001b[39m\u001b[39m1\u001b[39m,\n\u001b[1;32m   1781\u001b[0m ):\n\u001b[1;32m   1782\u001b[0m     callbacks\u001b[39m.\u001b[39mon_train_batch_begin(step)\n\u001b[0;32m-> 1783\u001b[0m     tmp_logs \u001b[39m=\u001b[39m \u001b[39mself\u001b[39;49m\u001b[39m.\u001b[39;49mtrain_function(iterator)\n\u001b[1;32m   1784\u001b[0m     \u001b[39mif\u001b[39;00m data_handler\u001b[39m.\u001b[39mshould_sync:\n\u001b[1;32m   1785\u001b[0m         context\u001b[39m.\u001b[39masync_wait()\n",
      "File \u001b[0;32m~/Documents/GitHub/Machine_Learning_For_Security_Solutions/MLSecuritySolutions/lib/python3.10/site-packages/tensorflow/python/util/traceback_utils.py:150\u001b[0m, in \u001b[0;36mfilter_traceback.<locals>.error_handler\u001b[0;34m(*args, **kwargs)\u001b[0m\n\u001b[1;32m    148\u001b[0m filtered_tb \u001b[39m=\u001b[39m \u001b[39mNone\u001b[39;00m\n\u001b[1;32m    149\u001b[0m \u001b[39mtry\u001b[39;00m:\n\u001b[0;32m--> 150\u001b[0m   \u001b[39mreturn\u001b[39;00m fn(\u001b[39m*\u001b[39;49margs, \u001b[39m*\u001b[39;49m\u001b[39m*\u001b[39;49mkwargs)\n\u001b[1;32m    151\u001b[0m \u001b[39mexcept\u001b[39;00m \u001b[39mException\u001b[39;00m \u001b[39mas\u001b[39;00m e:\n\u001b[1;32m    152\u001b[0m   filtered_tb \u001b[39m=\u001b[39m _process_traceback_frames(e\u001b[39m.\u001b[39m__traceback__)\n",
      "File \u001b[0;32m~/Documents/GitHub/Machine_Learning_For_Security_Solutions/MLSecuritySolutions/lib/python3.10/site-packages/tensorflow/python/eager/polymorphic_function/polymorphic_function.py:831\u001b[0m, in \u001b[0;36mFunction.__call__\u001b[0;34m(self, *args, **kwds)\u001b[0m\n\u001b[1;32m    828\u001b[0m compiler \u001b[39m=\u001b[39m \u001b[39m\"\u001b[39m\u001b[39mxla\u001b[39m\u001b[39m\"\u001b[39m \u001b[39mif\u001b[39;00m \u001b[39mself\u001b[39m\u001b[39m.\u001b[39m_jit_compile \u001b[39melse\u001b[39;00m \u001b[39m\"\u001b[39m\u001b[39mnonXla\u001b[39m\u001b[39m\"\u001b[39m\n\u001b[1;32m    830\u001b[0m \u001b[39mwith\u001b[39;00m OptionalXlaContext(\u001b[39mself\u001b[39m\u001b[39m.\u001b[39m_jit_compile):\n\u001b[0;32m--> 831\u001b[0m   result \u001b[39m=\u001b[39m \u001b[39mself\u001b[39;49m\u001b[39m.\u001b[39;49m_call(\u001b[39m*\u001b[39;49margs, \u001b[39m*\u001b[39;49m\u001b[39m*\u001b[39;49mkwds)\n\u001b[1;32m    833\u001b[0m new_tracing_count \u001b[39m=\u001b[39m \u001b[39mself\u001b[39m\u001b[39m.\u001b[39mexperimental_get_tracing_count()\n\u001b[1;32m    834\u001b[0m without_tracing \u001b[39m=\u001b[39m (tracing_count \u001b[39m==\u001b[39m new_tracing_count)\n",
      "File \u001b[0;32m~/Documents/GitHub/Machine_Learning_For_Security_Solutions/MLSecuritySolutions/lib/python3.10/site-packages/tensorflow/python/eager/polymorphic_function/polymorphic_function.py:867\u001b[0m, in \u001b[0;36mFunction._call\u001b[0;34m(self, *args, **kwds)\u001b[0m\n\u001b[1;32m    864\u001b[0m   \u001b[39mself\u001b[39m\u001b[39m.\u001b[39m_lock\u001b[39m.\u001b[39mrelease()\n\u001b[1;32m    865\u001b[0m   \u001b[39m# In this case we have created variables on the first call, so we run the\u001b[39;00m\n\u001b[1;32m    866\u001b[0m   \u001b[39m# defunned version which is guaranteed to never create variables.\u001b[39;00m\n\u001b[0;32m--> 867\u001b[0m   \u001b[39mreturn\u001b[39;00m tracing_compilation\u001b[39m.\u001b[39;49mcall_function(\n\u001b[1;32m    868\u001b[0m       args, kwds, \u001b[39mself\u001b[39;49m\u001b[39m.\u001b[39;49m_no_variable_creation_config\n\u001b[1;32m    869\u001b[0m   )\n\u001b[1;32m    870\u001b[0m \u001b[39melif\u001b[39;00m \u001b[39mself\u001b[39m\u001b[39m.\u001b[39m_variable_creation_config \u001b[39mis\u001b[39;00m \u001b[39mnot\u001b[39;00m \u001b[39mNone\u001b[39;00m:\n\u001b[1;32m    871\u001b[0m   \u001b[39m# Release the lock early so that multiple threads can perform the call\u001b[39;00m\n\u001b[1;32m    872\u001b[0m   \u001b[39m# in parallel.\u001b[39;00m\n\u001b[1;32m    873\u001b[0m   \u001b[39mself\u001b[39m\u001b[39m.\u001b[39m_lock\u001b[39m.\u001b[39mrelease()\n",
      "File \u001b[0;32m~/Documents/GitHub/Machine_Learning_For_Security_Solutions/MLSecuritySolutions/lib/python3.10/site-packages/tensorflow/python/eager/polymorphic_function/tracing_compilation.py:139\u001b[0m, in \u001b[0;36mcall_function\u001b[0;34m(args, kwargs, tracing_options)\u001b[0m\n\u001b[1;32m    137\u001b[0m bound_args \u001b[39m=\u001b[39m function\u001b[39m.\u001b[39mfunction_type\u001b[39m.\u001b[39mbind(\u001b[39m*\u001b[39margs, \u001b[39m*\u001b[39m\u001b[39m*\u001b[39mkwargs)\n\u001b[1;32m    138\u001b[0m flat_inputs \u001b[39m=\u001b[39m function\u001b[39m.\u001b[39mfunction_type\u001b[39m.\u001b[39munpack_inputs(bound_args)\n\u001b[0;32m--> 139\u001b[0m \u001b[39mreturn\u001b[39;00m function\u001b[39m.\u001b[39;49m_call_flat(  \u001b[39m# pylint: disable=protected-access\u001b[39;49;00m\n\u001b[1;32m    140\u001b[0m     flat_inputs, captured_inputs\u001b[39m=\u001b[39;49mfunction\u001b[39m.\u001b[39;49mcaptured_inputs\n\u001b[1;32m    141\u001b[0m )\n",
      "File \u001b[0;32m~/Documents/GitHub/Machine_Learning_For_Security_Solutions/MLSecuritySolutions/lib/python3.10/site-packages/tensorflow/python/eager/polymorphic_function/concrete_function.py:1264\u001b[0m, in \u001b[0;36mConcreteFunction._call_flat\u001b[0;34m(self, tensor_inputs, captured_inputs)\u001b[0m\n\u001b[1;32m   1260\u001b[0m possible_gradient_type \u001b[39m=\u001b[39m gradients_util\u001b[39m.\u001b[39mPossibleTapeGradientTypes(args)\n\u001b[1;32m   1261\u001b[0m \u001b[39mif\u001b[39;00m (possible_gradient_type \u001b[39m==\u001b[39m gradients_util\u001b[39m.\u001b[39mPOSSIBLE_GRADIENT_TYPES_NONE\n\u001b[1;32m   1262\u001b[0m     \u001b[39mand\u001b[39;00m executing_eagerly):\n\u001b[1;32m   1263\u001b[0m   \u001b[39m# No tape is watching; skip to running the function.\u001b[39;00m\n\u001b[0;32m-> 1264\u001b[0m   \u001b[39mreturn\u001b[39;00m \u001b[39mself\u001b[39;49m\u001b[39m.\u001b[39;49m_inference_function\u001b[39m.\u001b[39;49mflat_call(args)\n\u001b[1;32m   1265\u001b[0m forward_backward \u001b[39m=\u001b[39m \u001b[39mself\u001b[39m\u001b[39m.\u001b[39m_select_forward_and_backward_functions(\n\u001b[1;32m   1266\u001b[0m     args,\n\u001b[1;32m   1267\u001b[0m     possible_gradient_type,\n\u001b[1;32m   1268\u001b[0m     executing_eagerly)\n\u001b[1;32m   1269\u001b[0m forward_function, args_with_tangents \u001b[39m=\u001b[39m forward_backward\u001b[39m.\u001b[39mforward()\n",
      "File \u001b[0;32m~/Documents/GitHub/Machine_Learning_For_Security_Solutions/MLSecuritySolutions/lib/python3.10/site-packages/tensorflow/python/eager/polymorphic_function/atomic_function.py:217\u001b[0m, in \u001b[0;36mAtomicFunction.flat_call\u001b[0;34m(self, args)\u001b[0m\n\u001b[1;32m    215\u001b[0m \u001b[39mdef\u001b[39;00m \u001b[39mflat_call\u001b[39m(\u001b[39mself\u001b[39m, args: Sequence[core\u001b[39m.\u001b[39mTensor]) \u001b[39m-\u001b[39m\u001b[39m>\u001b[39m Any:\n\u001b[1;32m    216\u001b[0m \u001b[39m  \u001b[39m\u001b[39m\"\"\"Calls with tensor inputs and returns the structured output.\"\"\"\u001b[39;00m\n\u001b[0;32m--> 217\u001b[0m   flat_outputs \u001b[39m=\u001b[39m \u001b[39mself\u001b[39;49m(\u001b[39m*\u001b[39;49margs)\n\u001b[1;32m    218\u001b[0m   \u001b[39mreturn\u001b[39;00m \u001b[39mself\u001b[39m\u001b[39m.\u001b[39mfunction_type\u001b[39m.\u001b[39mpack_output(flat_outputs)\n",
      "File \u001b[0;32m~/Documents/GitHub/Machine_Learning_For_Security_Solutions/MLSecuritySolutions/lib/python3.10/site-packages/tensorflow/python/eager/polymorphic_function/atomic_function.py:243\u001b[0m, in \u001b[0;36mAtomicFunction.__call__\u001b[0;34m(self, *args)\u001b[0m\n\u001b[1;32m    235\u001b[0m \u001b[39mif\u001b[39;00m \u001b[39mlen\u001b[39m(args) \u001b[39m!=\u001b[39m expected_len:\n\u001b[1;32m    236\u001b[0m   \u001b[39mraise\u001b[39;00m \u001b[39mValueError\u001b[39;00m(\n\u001b[1;32m    237\u001b[0m       \u001b[39mf\u001b[39m\u001b[39m\"\u001b[39m\u001b[39mSignature specifies \u001b[39m\u001b[39m{\u001b[39;00mexpected_len\u001b[39m}\u001b[39;00m\u001b[39m arguments, got: \u001b[39m\u001b[39m{\u001b[39;00m\u001b[39mlen\u001b[39m(args)\u001b[39m}\u001b[39;00m\u001b[39m.\u001b[39m\u001b[39m\"\u001b[39m\n\u001b[1;32m    238\u001b[0m       \u001b[39mf\u001b[39m\u001b[39m\"\u001b[39m\u001b[39m Expected inputs: \u001b[39m\u001b[39m{\u001b[39;00m\u001b[39mself\u001b[39m\u001b[39m.\u001b[39mcached_definition\u001b[39m.\u001b[39msignature\u001b[39m.\u001b[39minput_arg\u001b[39m}\u001b[39;00m\u001b[39m.\u001b[39m\u001b[39m\"\u001b[39m\n\u001b[1;32m    239\u001b[0m       \u001b[39mf\u001b[39m\u001b[39m\"\u001b[39m\u001b[39m Received inputs: \u001b[39m\u001b[39m{\u001b[39;00margs\u001b[39m}\u001b[39;00m\u001b[39m.\u001b[39m\u001b[39m\"\u001b[39m\n\u001b[1;32m    240\u001b[0m       \u001b[39mf\u001b[39m\u001b[39m\"\u001b[39m\u001b[39m Function Type: \u001b[39m\u001b[39m{\u001b[39;00m\u001b[39mself\u001b[39m\u001b[39m.\u001b[39mfunction_type\u001b[39m!r}\u001b[39;00m\u001b[39m\"\u001b[39m\n\u001b[1;32m    241\u001b[0m   )\n\u001b[0;32m--> 243\u001b[0m \u001b[39mwith\u001b[39;00m InterpolateRuntimeError(\u001b[39mself\u001b[39m):\n\u001b[1;32m    244\u001b[0m   \u001b[39mwith\u001b[39;00m ops\u001b[39m.\u001b[39mcontrol_dependencies(\u001b[39mself\u001b[39m\u001b[39m.\u001b[39m_call_options\u001b[39m.\u001b[39mcontrol_captures):\n\u001b[1;32m    245\u001b[0m     \u001b[39m# The caller must use record_operation to record this operation in the\u001b[39;00m\n\u001b[1;32m    246\u001b[0m     \u001b[39m# eager case, so we enforce the same requirement for the non-eager\u001b[39;00m\n\u001b[1;32m    247\u001b[0m     \u001b[39m# case by explicitly pausing recording. We don't have a gradient\u001b[39;00m\n\u001b[1;32m    248\u001b[0m     \u001b[39m# registered for PartitionedCall, so recording this operation confuses\u001b[39;00m\n\u001b[1;32m    249\u001b[0m     \u001b[39m# forwardprop code (GradientTape manages to ignore it).\u001b[39;00m\n\u001b[1;32m    250\u001b[0m     \u001b[39mwith\u001b[39;00m record\u001b[39m.\u001b[39mstop_recording():\n",
      "File \u001b[0;32m~/Documents/GitHub/Machine_Learning_For_Security_Solutions/MLSecuritySolutions/lib/python3.10/site-packages/tensorflow/python/eager/polymorphic_function/atomic_function.py:656\u001b[0m, in \u001b[0;36mInterpolateRuntimeError.__enter__\u001b[0;34m(self)\u001b[0m\n\u001b[1;32m    653\u001b[0m   error_message\u001b[39m.\u001b[39mappend(message\u001b[39m.\u001b[39mstrip())\n\u001b[1;32m    654\u001b[0m   \u001b[39mreturn\u001b[39;00m \u001b[39m\"\u001b[39m\u001b[39m\\n\u001b[39;00m\u001b[39m\"\u001b[39m\u001b[39m.\u001b[39mjoin(error_message)\n\u001b[0;32m--> 656\u001b[0m \u001b[39mdef\u001b[39;00m \u001b[39m__enter__\u001b[39m(\u001b[39mself\u001b[39m):\n\u001b[1;32m    657\u001b[0m   \u001b[39mpass\u001b[39;00m\n\u001b[1;32m    659\u001b[0m \u001b[39mdef\u001b[39;00m \u001b[39m__exit__\u001b[39m(\u001b[39mself\u001b[39m, typ, exc, tb):\n",
      "\u001b[0;31mKeyboardInterrupt\u001b[0m: "
     ]
    }
   ],
   "source": [
    "import tensorflow as tf\n",
    "from tensorflow import keras\n",
    "\n",
    "\n",
    "# Define the model\n",
    "model = keras.models.Sequential([\n",
    "    keras.layers.Dense(256, activation='relu', input_shape=(128,), kernel_regularizer=keras.regularizers.l2(0.02)),  # Input layer with ReLU activation\n",
    "    keras.layers.BatchNormalization(),\n",
    "\n",
    "    keras.layers.Dense(128, activation='relu', kernel_regularizer=keras.regularizers.l2(0.02)),\n",
    "\n",
    "\n",
    "    \n",
    "    keras.layers.Dropout(0.1),\n",
    "    keras.layers.Dense(32, activation='relu', kernel_regularizer=keras.regularizers.l2(0.01)),\n",
    "    keras.layers.Dropout(0.1),  # Dropout for regularization\n",
    "    keras.layers.Dense(1, activation='sigmoid')  # Output layer with sigmoid activation for binary classification\n",
    "])\n",
    "\n",
    "# Compile the model\n",
    "model.compile(optimizer='adam', loss='binary_crossentropy', metrics=['accuracy'])\n",
    "\n",
    "# Summary of the model\n",
    "model.summary()\n",
    "\n",
    "# produce prediction on test data after each epoch \n",
    "\n",
    "# make callback\n",
    "\n",
    "class PredictionCallback(keras.callbacks.Callback):\n",
    "    def on_epoch_end(self, epoch, logs={}):\n",
    "        print(\"Predictions for epoch {}:\".format(epoch+1))\n",
    "        predictions = model.predict(test_embeddings)\n",
    "        a = []\n",
    "        for val in predictions:\n",
    "            a.append(round(val[0]))\n",
    "        eval(a)\n",
    "        print(\"\\n\")\n",
    "    \n",
    "# train the model\n",
    "model.fit(train_embeddings, labels, epochs=300, callbacks=[PredictionCallback()])\n",
    "\n",
    "\n",
    "\n",
    "# To make predictions:\n",
    "predictions = model.predict(test_embeddings)\n",
    "\n",
    "\n",
    "a = []\n",
    "for val in predictions:\n",
    "    \n",
    "    a.append(round(val[0]))\n",
    "\n",
    "eval(a)\n"
   ]
  },
  {
   "cell_type": "code",
   "execution_count": 20,
   "metadata": {},
   "outputs": [
    {
     "name": "stdout",
     "output_type": "stream",
     "text": [
      "Model: \"sequential_3\"\n",
      "_________________________________________________________________\n",
      " Layer (type)                Output Shape              Param #   \n",
      "=================================================================\n",
      " dense_12 (Dense)            (None, 128)               16512     \n",
      "                                                                 \n",
      " dropout_8 (Dropout)         (None, 128)               0         \n",
      "                                                                 \n",
      " dense_13 (Dense)            (None, 64)                8256      \n",
      "                                                                 \n",
      " dropout_9 (Dropout)         (None, 64)                0         \n",
      "                                                                 \n",
      " dense_14 (Dense)            (None, 32)                2080      \n",
      "                                                                 \n",
      " dense_15 (Dense)            (None, 1)                 33        \n",
      "                                                                 \n",
      "=================================================================\n",
      "Total params: 26881 (105.00 KB)\n",
      "Trainable params: 26881 (105.00 KB)\n",
      "Non-trainable params: 0 (0.00 Byte)\n",
      "_________________________________________________________________\n",
      "Epoch 1/100\n",
      "1033/1044 [============================>.] - ETA: 0s - loss: 1.0590 - accuracy: 0.7488Predictions for epoch 1:\n",
      "207/207 [==============================] - 0s 1ms/step\n",
      "The accuracy of your system is 75.05682679193816%!\n",
      "\n",
      "\n",
      "1044/1044 [==============================] - 4s 3ms/step - loss: 1.0539 - accuracy: 0.7489\n",
      "Epoch 2/100\n",
      "1026/1044 [============================>.] - ETA: 0s - loss: 0.5593 - accuracy: 0.7507Predictions for epoch 2:\n",
      "207/207 [==============================] - 0s 1ms/step\n",
      "The accuracy of your system is 75.66297923927868%!\n",
      "\n",
      "\n",
      "1044/1044 [==============================] - 3s 2ms/step - loss: 0.5595 - accuracy: 0.7502\n",
      "Epoch 3/100\n",
      "1042/1044 [============================>.] - ETA: 0s - loss: 0.5507 - accuracy: 0.7524Predictions for epoch 3:\n",
      "207/207 [==============================] - 0s 1ms/step\n",
      "The accuracy of your system is 75.01136535838764%!\n",
      "\n",
      "\n",
      "1044/1044 [==============================] - 3s 2ms/step - loss: 0.5506 - accuracy: 0.7524\n",
      "Epoch 4/100\n",
      "1029/1044 [============================>.] - ETA: 0s - loss: 0.5402 - accuracy: 0.7541Predictions for epoch 4:\n",
      "207/207 [==============================] - 0s 1ms/step\n",
      "The accuracy of your system is 74.35975147749659%!\n",
      "\n",
      "\n",
      "1044/1044 [==============================] - 2s 2ms/step - loss: 0.5405 - accuracy: 0.7536\n",
      "Epoch 5/100\n",
      "1028/1044 [============================>.] - ETA: 0s - loss: 0.5344 - accuracy: 0.7549Predictions for epoch 5:\n",
      "207/207 [==============================] - 0s 1ms/step\n",
      "The accuracy of your system is 74.20821336566146%!\n",
      "\n",
      "\n",
      "1044/1044 [==============================] - 3s 2ms/step - loss: 0.5340 - accuracy: 0.7554\n",
      "Epoch 6/100\n",
      "1032/1044 [============================>.] - ETA: 0s - loss: 0.5286 - accuracy: 0.7569Predictions for epoch 6:\n",
      "207/207 [==============================] - 0s 2ms/step\n",
      "The accuracy of your system is 75.48113350507653%!\n",
      "\n",
      "\n",
      "1044/1044 [==============================] - 3s 3ms/step - loss: 0.5285 - accuracy: 0.7569\n",
      "Epoch 7/100\n",
      " 432/1044 [===========>..................] - ETA: 1s - loss: 0.5200 - accuracy: 0.7576"
     ]
    },
    {
     "ename": "KeyboardInterrupt",
     "evalue": "",
     "output_type": "error",
     "traceback": [
      "\u001b[0;31m---------------------------------------------------------------------------\u001b[0m",
      "\u001b[0;31mKeyboardInterrupt\u001b[0m                         Traceback (most recent call last)",
      "\u001b[1;32m/Users/malcolmkrolick/Documents/GitHub/Machine_Learning_For_Security_Solutions/Week 9/Final Practice.ipynb Cell 18\u001b[0m line \u001b[0;36m4\n\u001b[1;32m     <a href='vscode-notebook-cell:/Users/malcolmkrolick/Documents/GitHub/Machine_Learning_For_Security_Solutions/Week%209/Final%20Practice.ipynb#X23sZmlsZQ%3D%3D?line=37'>38</a>\u001b[0m         \u001b[39mprint\u001b[39m(\u001b[39m\"\u001b[39m\u001b[39m\\n\u001b[39;00m\u001b[39m\"\u001b[39m)\n\u001b[1;32m     <a href='vscode-notebook-cell:/Users/malcolmkrolick/Documents/GitHub/Machine_Learning_For_Security_Solutions/Week%209/Final%20Practice.ipynb#X23sZmlsZQ%3D%3D?line=39'>40</a>\u001b[0m \u001b[39m# train the model\u001b[39;00m\n\u001b[0;32m---> <a href='vscode-notebook-cell:/Users/malcolmkrolick/Documents/GitHub/Machine_Learning_For_Security_Solutions/Week%209/Final%20Practice.ipynb#X23sZmlsZQ%3D%3D?line=40'>41</a>\u001b[0m model\u001b[39m.\u001b[39;49mfit(train_embeddings, labels, epochs\u001b[39m=\u001b[39;49m\u001b[39m100\u001b[39;49m, callbacks\u001b[39m=\u001b[39;49m[PredictionCallback()])\n\u001b[1;32m     <a href='vscode-notebook-cell:/Users/malcolmkrolick/Documents/GitHub/Machine_Learning_For_Security_Solutions/Week%209/Final%20Practice.ipynb#X23sZmlsZQ%3D%3D?line=44'>45</a>\u001b[0m \u001b[39m# To make predictions:\u001b[39;00m\n\u001b[1;32m     <a href='vscode-notebook-cell:/Users/malcolmkrolick/Documents/GitHub/Machine_Learning_For_Security_Solutions/Week%209/Final%20Practice.ipynb#X23sZmlsZQ%3D%3D?line=45'>46</a>\u001b[0m predictions \u001b[39m=\u001b[39m model\u001b[39m.\u001b[39mpredict(test_embeddings)\n",
      "File \u001b[0;32m~/Documents/GitHub/Machine_Learning_For_Security_Solutions/MLSecuritySolutions/lib/python3.10/site-packages/keras/src/utils/traceback_utils.py:65\u001b[0m, in \u001b[0;36mfilter_traceback.<locals>.error_handler\u001b[0;34m(*args, **kwargs)\u001b[0m\n\u001b[1;32m     63\u001b[0m filtered_tb \u001b[39m=\u001b[39m \u001b[39mNone\u001b[39;00m\n\u001b[1;32m     64\u001b[0m \u001b[39mtry\u001b[39;00m:\n\u001b[0;32m---> 65\u001b[0m     \u001b[39mreturn\u001b[39;00m fn(\u001b[39m*\u001b[39;49margs, \u001b[39m*\u001b[39;49m\u001b[39m*\u001b[39;49mkwargs)\n\u001b[1;32m     66\u001b[0m \u001b[39mexcept\u001b[39;00m \u001b[39mException\u001b[39;00m \u001b[39mas\u001b[39;00m e:\n\u001b[1;32m     67\u001b[0m     filtered_tb \u001b[39m=\u001b[39m _process_traceback_frames(e\u001b[39m.\u001b[39m__traceback__)\n",
      "File \u001b[0;32m~/Documents/GitHub/Machine_Learning_For_Security_Solutions/MLSecuritySolutions/lib/python3.10/site-packages/keras/src/engine/training.py:1783\u001b[0m, in \u001b[0;36mModel.fit\u001b[0;34m(self, x, y, batch_size, epochs, verbose, callbacks, validation_split, validation_data, shuffle, class_weight, sample_weight, initial_epoch, steps_per_epoch, validation_steps, validation_batch_size, validation_freq, max_queue_size, workers, use_multiprocessing)\u001b[0m\n\u001b[1;32m   1775\u001b[0m \u001b[39mwith\u001b[39;00m tf\u001b[39m.\u001b[39mprofiler\u001b[39m.\u001b[39mexperimental\u001b[39m.\u001b[39mTrace(\n\u001b[1;32m   1776\u001b[0m     \u001b[39m\"\u001b[39m\u001b[39mtrain\u001b[39m\u001b[39m\"\u001b[39m,\n\u001b[1;32m   1777\u001b[0m     epoch_num\u001b[39m=\u001b[39mepoch,\n\u001b[0;32m   (...)\u001b[0m\n\u001b[1;32m   1780\u001b[0m     _r\u001b[39m=\u001b[39m\u001b[39m1\u001b[39m,\n\u001b[1;32m   1781\u001b[0m ):\n\u001b[1;32m   1782\u001b[0m     callbacks\u001b[39m.\u001b[39mon_train_batch_begin(step)\n\u001b[0;32m-> 1783\u001b[0m     tmp_logs \u001b[39m=\u001b[39m \u001b[39mself\u001b[39;49m\u001b[39m.\u001b[39;49mtrain_function(iterator)\n\u001b[1;32m   1784\u001b[0m     \u001b[39mif\u001b[39;00m data_handler\u001b[39m.\u001b[39mshould_sync:\n\u001b[1;32m   1785\u001b[0m         context\u001b[39m.\u001b[39masync_wait()\n",
      "File \u001b[0;32m~/Documents/GitHub/Machine_Learning_For_Security_Solutions/MLSecuritySolutions/lib/python3.10/site-packages/tensorflow/python/util/traceback_utils.py:150\u001b[0m, in \u001b[0;36mfilter_traceback.<locals>.error_handler\u001b[0;34m(*args, **kwargs)\u001b[0m\n\u001b[1;32m    148\u001b[0m filtered_tb \u001b[39m=\u001b[39m \u001b[39mNone\u001b[39;00m\n\u001b[1;32m    149\u001b[0m \u001b[39mtry\u001b[39;00m:\n\u001b[0;32m--> 150\u001b[0m   \u001b[39mreturn\u001b[39;00m fn(\u001b[39m*\u001b[39;49margs, \u001b[39m*\u001b[39;49m\u001b[39m*\u001b[39;49mkwargs)\n\u001b[1;32m    151\u001b[0m \u001b[39mexcept\u001b[39;00m \u001b[39mException\u001b[39;00m \u001b[39mas\u001b[39;00m e:\n\u001b[1;32m    152\u001b[0m   filtered_tb \u001b[39m=\u001b[39m _process_traceback_frames(e\u001b[39m.\u001b[39m__traceback__)\n",
      "File \u001b[0;32m~/Documents/GitHub/Machine_Learning_For_Security_Solutions/MLSecuritySolutions/lib/python3.10/site-packages/tensorflow/python/eager/polymorphic_function/polymorphic_function.py:831\u001b[0m, in \u001b[0;36mFunction.__call__\u001b[0;34m(self, *args, **kwds)\u001b[0m\n\u001b[1;32m    828\u001b[0m compiler \u001b[39m=\u001b[39m \u001b[39m\"\u001b[39m\u001b[39mxla\u001b[39m\u001b[39m\"\u001b[39m \u001b[39mif\u001b[39;00m \u001b[39mself\u001b[39m\u001b[39m.\u001b[39m_jit_compile \u001b[39melse\u001b[39;00m \u001b[39m\"\u001b[39m\u001b[39mnonXla\u001b[39m\u001b[39m\"\u001b[39m\n\u001b[1;32m    830\u001b[0m \u001b[39mwith\u001b[39;00m OptionalXlaContext(\u001b[39mself\u001b[39m\u001b[39m.\u001b[39m_jit_compile):\n\u001b[0;32m--> 831\u001b[0m   result \u001b[39m=\u001b[39m \u001b[39mself\u001b[39;49m\u001b[39m.\u001b[39;49m_call(\u001b[39m*\u001b[39;49margs, \u001b[39m*\u001b[39;49m\u001b[39m*\u001b[39;49mkwds)\n\u001b[1;32m    833\u001b[0m new_tracing_count \u001b[39m=\u001b[39m \u001b[39mself\u001b[39m\u001b[39m.\u001b[39mexperimental_get_tracing_count()\n\u001b[1;32m    834\u001b[0m without_tracing \u001b[39m=\u001b[39m (tracing_count \u001b[39m==\u001b[39m new_tracing_count)\n",
      "File \u001b[0;32m~/Documents/GitHub/Machine_Learning_For_Security_Solutions/MLSecuritySolutions/lib/python3.10/site-packages/tensorflow/python/eager/polymorphic_function/polymorphic_function.py:867\u001b[0m, in \u001b[0;36mFunction._call\u001b[0;34m(self, *args, **kwds)\u001b[0m\n\u001b[1;32m    864\u001b[0m   \u001b[39mself\u001b[39m\u001b[39m.\u001b[39m_lock\u001b[39m.\u001b[39mrelease()\n\u001b[1;32m    865\u001b[0m   \u001b[39m# In this case we have created variables on the first call, so we run the\u001b[39;00m\n\u001b[1;32m    866\u001b[0m   \u001b[39m# defunned version which is guaranteed to never create variables.\u001b[39;00m\n\u001b[0;32m--> 867\u001b[0m   \u001b[39mreturn\u001b[39;00m tracing_compilation\u001b[39m.\u001b[39;49mcall_function(\n\u001b[1;32m    868\u001b[0m       args, kwds, \u001b[39mself\u001b[39;49m\u001b[39m.\u001b[39;49m_no_variable_creation_config\n\u001b[1;32m    869\u001b[0m   )\n\u001b[1;32m    870\u001b[0m \u001b[39melif\u001b[39;00m \u001b[39mself\u001b[39m\u001b[39m.\u001b[39m_variable_creation_config \u001b[39mis\u001b[39;00m \u001b[39mnot\u001b[39;00m \u001b[39mNone\u001b[39;00m:\n\u001b[1;32m    871\u001b[0m   \u001b[39m# Release the lock early so that multiple threads can perform the call\u001b[39;00m\n\u001b[1;32m    872\u001b[0m   \u001b[39m# in parallel.\u001b[39;00m\n\u001b[1;32m    873\u001b[0m   \u001b[39mself\u001b[39m\u001b[39m.\u001b[39m_lock\u001b[39m.\u001b[39mrelease()\n",
      "File \u001b[0;32m~/Documents/GitHub/Machine_Learning_For_Security_Solutions/MLSecuritySolutions/lib/python3.10/site-packages/tensorflow/python/eager/polymorphic_function/tracing_compilation.py:139\u001b[0m, in \u001b[0;36mcall_function\u001b[0;34m(args, kwargs, tracing_options)\u001b[0m\n\u001b[1;32m    137\u001b[0m bound_args \u001b[39m=\u001b[39m function\u001b[39m.\u001b[39mfunction_type\u001b[39m.\u001b[39mbind(\u001b[39m*\u001b[39margs, \u001b[39m*\u001b[39m\u001b[39m*\u001b[39mkwargs)\n\u001b[1;32m    138\u001b[0m flat_inputs \u001b[39m=\u001b[39m function\u001b[39m.\u001b[39mfunction_type\u001b[39m.\u001b[39munpack_inputs(bound_args)\n\u001b[0;32m--> 139\u001b[0m \u001b[39mreturn\u001b[39;00m function\u001b[39m.\u001b[39;49m_call_flat(  \u001b[39m# pylint: disable=protected-access\u001b[39;49;00m\n\u001b[1;32m    140\u001b[0m     flat_inputs, captured_inputs\u001b[39m=\u001b[39;49mfunction\u001b[39m.\u001b[39;49mcaptured_inputs\n\u001b[1;32m    141\u001b[0m )\n",
      "File \u001b[0;32m~/Documents/GitHub/Machine_Learning_For_Security_Solutions/MLSecuritySolutions/lib/python3.10/site-packages/tensorflow/python/eager/polymorphic_function/concrete_function.py:1264\u001b[0m, in \u001b[0;36mConcreteFunction._call_flat\u001b[0;34m(self, tensor_inputs, captured_inputs)\u001b[0m\n\u001b[1;32m   1260\u001b[0m possible_gradient_type \u001b[39m=\u001b[39m gradients_util\u001b[39m.\u001b[39mPossibleTapeGradientTypes(args)\n\u001b[1;32m   1261\u001b[0m \u001b[39mif\u001b[39;00m (possible_gradient_type \u001b[39m==\u001b[39m gradients_util\u001b[39m.\u001b[39mPOSSIBLE_GRADIENT_TYPES_NONE\n\u001b[1;32m   1262\u001b[0m     \u001b[39mand\u001b[39;00m executing_eagerly):\n\u001b[1;32m   1263\u001b[0m   \u001b[39m# No tape is watching; skip to running the function.\u001b[39;00m\n\u001b[0;32m-> 1264\u001b[0m   \u001b[39mreturn\u001b[39;00m \u001b[39mself\u001b[39;49m\u001b[39m.\u001b[39;49m_inference_function\u001b[39m.\u001b[39;49mflat_call(args)\n\u001b[1;32m   1265\u001b[0m forward_backward \u001b[39m=\u001b[39m \u001b[39mself\u001b[39m\u001b[39m.\u001b[39m_select_forward_and_backward_functions(\n\u001b[1;32m   1266\u001b[0m     args,\n\u001b[1;32m   1267\u001b[0m     possible_gradient_type,\n\u001b[1;32m   1268\u001b[0m     executing_eagerly)\n\u001b[1;32m   1269\u001b[0m forward_function, args_with_tangents \u001b[39m=\u001b[39m forward_backward\u001b[39m.\u001b[39mforward()\n",
      "File \u001b[0;32m~/Documents/GitHub/Machine_Learning_For_Security_Solutions/MLSecuritySolutions/lib/python3.10/site-packages/tensorflow/python/eager/polymorphic_function/atomic_function.py:217\u001b[0m, in \u001b[0;36mAtomicFunction.flat_call\u001b[0;34m(self, args)\u001b[0m\n\u001b[1;32m    215\u001b[0m \u001b[39mdef\u001b[39;00m \u001b[39mflat_call\u001b[39m(\u001b[39mself\u001b[39m, args: Sequence[core\u001b[39m.\u001b[39mTensor]) \u001b[39m-\u001b[39m\u001b[39m>\u001b[39m Any:\n\u001b[1;32m    216\u001b[0m \u001b[39m  \u001b[39m\u001b[39m\"\"\"Calls with tensor inputs and returns the structured output.\"\"\"\u001b[39;00m\n\u001b[0;32m--> 217\u001b[0m   flat_outputs \u001b[39m=\u001b[39m \u001b[39mself\u001b[39;49m(\u001b[39m*\u001b[39;49margs)\n\u001b[1;32m    218\u001b[0m   \u001b[39mreturn\u001b[39;00m \u001b[39mself\u001b[39m\u001b[39m.\u001b[39mfunction_type\u001b[39m.\u001b[39mpack_output(flat_outputs)\n",
      "File \u001b[0;32m~/Documents/GitHub/Machine_Learning_For_Security_Solutions/MLSecuritySolutions/lib/python3.10/site-packages/tensorflow/python/eager/polymorphic_function/atomic_function.py:252\u001b[0m, in \u001b[0;36mAtomicFunction.__call__\u001b[0;34m(self, *args)\u001b[0m\n\u001b[1;32m    250\u001b[0m \u001b[39mwith\u001b[39;00m record\u001b[39m.\u001b[39mstop_recording():\n\u001b[1;32m    251\u001b[0m   \u001b[39mif\u001b[39;00m \u001b[39mself\u001b[39m\u001b[39m.\u001b[39m_bound_context\u001b[39m.\u001b[39mexecuting_eagerly():\n\u001b[0;32m--> 252\u001b[0m     outputs \u001b[39m=\u001b[39m \u001b[39mself\u001b[39;49m\u001b[39m.\u001b[39;49m_bound_context\u001b[39m.\u001b[39;49mcall_function(\n\u001b[1;32m    253\u001b[0m         \u001b[39mself\u001b[39;49m\u001b[39m.\u001b[39;49mname,\n\u001b[1;32m    254\u001b[0m         \u001b[39mlist\u001b[39;49m(args),\n\u001b[1;32m    255\u001b[0m         \u001b[39mlen\u001b[39;49m(\u001b[39mself\u001b[39;49m\u001b[39m.\u001b[39;49mfunction_type\u001b[39m.\u001b[39;49mflat_outputs),\n\u001b[1;32m    256\u001b[0m     )\n\u001b[1;32m    257\u001b[0m   \u001b[39melse\u001b[39;00m:\n\u001b[1;32m    258\u001b[0m     outputs \u001b[39m=\u001b[39m make_call_op_in_graph(\n\u001b[1;32m    259\u001b[0m         \u001b[39mself\u001b[39m,\n\u001b[1;32m    260\u001b[0m         \u001b[39mlist\u001b[39m(args),\n\u001b[1;32m    261\u001b[0m         \u001b[39mself\u001b[39m\u001b[39m.\u001b[39m_bound_context\u001b[39m.\u001b[39mfunction_call_options\u001b[39m.\u001b[39mas_attrs(),\n\u001b[1;32m    262\u001b[0m     )\n",
      "File \u001b[0;32m~/Documents/GitHub/Machine_Learning_For_Security_Solutions/MLSecuritySolutions/lib/python3.10/site-packages/tensorflow/python/eager/context.py:1479\u001b[0m, in \u001b[0;36mContext.call_function\u001b[0;34m(self, name, tensor_inputs, num_outputs)\u001b[0m\n\u001b[1;32m   1477\u001b[0m cancellation_context \u001b[39m=\u001b[39m cancellation\u001b[39m.\u001b[39mcontext()\n\u001b[1;32m   1478\u001b[0m \u001b[39mif\u001b[39;00m cancellation_context \u001b[39mis\u001b[39;00m \u001b[39mNone\u001b[39;00m:\n\u001b[0;32m-> 1479\u001b[0m   outputs \u001b[39m=\u001b[39m execute\u001b[39m.\u001b[39;49mexecute(\n\u001b[1;32m   1480\u001b[0m       name\u001b[39m.\u001b[39;49mdecode(\u001b[39m\"\u001b[39;49m\u001b[39mutf-8\u001b[39;49m\u001b[39m\"\u001b[39;49m),\n\u001b[1;32m   1481\u001b[0m       num_outputs\u001b[39m=\u001b[39;49mnum_outputs,\n\u001b[1;32m   1482\u001b[0m       inputs\u001b[39m=\u001b[39;49mtensor_inputs,\n\u001b[1;32m   1483\u001b[0m       attrs\u001b[39m=\u001b[39;49mattrs,\n\u001b[1;32m   1484\u001b[0m       ctx\u001b[39m=\u001b[39;49m\u001b[39mself\u001b[39;49m,\n\u001b[1;32m   1485\u001b[0m   )\n\u001b[1;32m   1486\u001b[0m \u001b[39melse\u001b[39;00m:\n\u001b[1;32m   1487\u001b[0m   outputs \u001b[39m=\u001b[39m execute\u001b[39m.\u001b[39mexecute_with_cancellation(\n\u001b[1;32m   1488\u001b[0m       name\u001b[39m.\u001b[39mdecode(\u001b[39m\"\u001b[39m\u001b[39mutf-8\u001b[39m\u001b[39m\"\u001b[39m),\n\u001b[1;32m   1489\u001b[0m       num_outputs\u001b[39m=\u001b[39mnum_outputs,\n\u001b[0;32m   (...)\u001b[0m\n\u001b[1;32m   1493\u001b[0m       cancellation_manager\u001b[39m=\u001b[39mcancellation_context,\n\u001b[1;32m   1494\u001b[0m   )\n",
      "File \u001b[0;32m~/Documents/GitHub/Machine_Learning_For_Security_Solutions/MLSecuritySolutions/lib/python3.10/site-packages/tensorflow/python/eager/execute.py:60\u001b[0m, in \u001b[0;36mquick_execute\u001b[0;34m(op_name, num_outputs, inputs, attrs, ctx, name)\u001b[0m\n\u001b[1;32m     53\u001b[0m   \u001b[39m# Convert any objects of type core_types.Tensor to Tensor.\u001b[39;00m\n\u001b[1;32m     54\u001b[0m   inputs \u001b[39m=\u001b[39m [\n\u001b[1;32m     55\u001b[0m       tensor_conversion_registry\u001b[39m.\u001b[39mconvert(t)\n\u001b[1;32m     56\u001b[0m       \u001b[39mif\u001b[39;00m \u001b[39misinstance\u001b[39m(t, core_types\u001b[39m.\u001b[39mTensor)\n\u001b[1;32m     57\u001b[0m       \u001b[39melse\u001b[39;00m t\n\u001b[1;32m     58\u001b[0m       \u001b[39mfor\u001b[39;00m t \u001b[39min\u001b[39;00m inputs\n\u001b[1;32m     59\u001b[0m   ]\n\u001b[0;32m---> 60\u001b[0m   tensors \u001b[39m=\u001b[39m pywrap_tfe\u001b[39m.\u001b[39;49mTFE_Py_Execute(ctx\u001b[39m.\u001b[39;49m_handle, device_name, op_name,\n\u001b[1;32m     61\u001b[0m                                       inputs, attrs, num_outputs)\n\u001b[1;32m     62\u001b[0m \u001b[39mexcept\u001b[39;00m core\u001b[39m.\u001b[39m_NotOkStatusException \u001b[39mas\u001b[39;00m e:\n\u001b[1;32m     63\u001b[0m   \u001b[39mif\u001b[39;00m name \u001b[39mis\u001b[39;00m \u001b[39mnot\u001b[39;00m \u001b[39mNone\u001b[39;00m:\n",
      "\u001b[0;31mKeyboardInterrupt\u001b[0m: "
     ]
    }
   ],
   "source": [
    "# create a deep learning model using primarily self attension\n",
    "\n",
    "# Define the model\n",
    "\n",
    "# import keras\n",
    "\n",
    "\n",
    "\n",
    "from keras_self_attention import SeqSelfAttention\n",
    "\n",
    "model = keras.models.Sequential([\n",
    "    keras.layers.Dense(128, activation='relu', input_shape=(128,), kernel_regularizer=keras.regularizers.l2(0.02)),  # Input layer with ReLU activation\n",
    "    keras.layers.Dropout(0.2),\n",
    "    keras.layers.Dense(64, activation='relu', kernel_regularizer=keras.regularizers.l2(0.02)),\n",
    "    keras.layers.Dropout(0.1),\n",
    "    keras.layers.Dense(32, activation='relu', kernel_regularizer=keras.regularizers.l2(0.01)),\n",
    "    keras.layers.Dense(1, activation='sigmoid')  # Output layer with sigmoid activation for binary classification\n",
    "])\n",
    "\n",
    "# Compile the model\n",
    "model.compile(optimizer='adam', loss='binary_crossentropy', metrics=['accuracy'])\n",
    "\n",
    "# Summary of the model\n",
    "model.summary()\n",
    "\n",
    "# produce prediction on test data after each epoch \n",
    "\n",
    "# make callback\n",
    "\n",
    "class PredictionCallback(keras.callbacks.Callback):\n",
    "    def on_epoch_end(self, epoch, logs={}):\n",
    "        print(\"Predictions for epoch {}:\".format(epoch+1))\n",
    "        predictions = model.predict(test_embeddings)\n",
    "        a = []\n",
    "        for val in predictions:\n",
    "            a.append(round(val[0]))\n",
    "        eval(a)\n",
    "        print(\"\\n\")\n",
    "    \n",
    "# train the model\n",
    "model.fit(train_embeddings, labels, epochs=100, callbacks=[PredictionCallback()])\n",
    "\n",
    "\n",
    "\n",
    "# To make predictions:\n",
    "predictions = model.predict(test_embeddings)\n",
    "\n"
   ]
  },
  {
   "cell_type": "code",
   "execution_count": null,
   "id": "f722227a-bec0-4375-9cc8-32bd51edca95",
   "metadata": {},
   "outputs": [
    {
     "name": "stderr",
     "output_type": "stream",
     "text": [
      "/Users/malcolmkrolick/Documents/GitHub/Machine_Learning_For_Security_Solutions/MLSecuritySolutions/lib/python3.10/site-packages/sklearn/neural_network/_multilayer_perceptron.py:691: ConvergenceWarning: Stochastic Optimizer: Maximum iterations (10) reached and the optimization hasn't converged yet.\n",
      "  warnings.warn(\n"
     ]
    }
   ],
   "source": [
    "# Deep learning \n",
    "\n",
    "#from sklearn.neural_network import MLPClassifier\n",
    "#import numpy as np\n",
    "\n",
    "#takes in 128 vector and outputs a 1 or 0\n",
    "\n",
    "#hidden_layer_sizes = (128, 64, 32, 16, 8, 4, 2)\n",
    "\n",
    "#clf = MLPClassifier(random_state=1, max_iter=10, hidden_layer_sizes=hidden_layer_sizes, batch_size=40).fit(data_train, labels_train)\n",
    "#predicted_test_labels = clf.predict(test_embeddings)\n",
    "\n"
   ]
  },
  {
   "cell_type": "code",
   "execution_count": null,
   "metadata": {},
   "outputs": [
    {
     "name": "stdout",
     "output_type": "stream",
     "text": [
      "The accuracy of your system is 72.07152598878618%!\n"
     ]
    }
   ],
   "source": [
    "a = []\n",
    "\n",
    "\n",
    "for val in predicted_test_labels:\n",
    "    a.append(val)\n",
    "\n",
    "eval(a)"
   ]
  },
  {
   "cell_type": "code",
   "execution_count": null,
   "metadata": {},
   "outputs": [
    {
     "name": "stdout",
     "output_type": "stream",
     "text": [
      "The accuracy of your system is 72.73829368086074%!\n",
      "2 None\n",
      "The accuracy of your system is 71.69268070919837%!\n",
      "3 None\n",
      "The accuracy of your system is 72.17760266707077%!\n",
      "4 None\n",
      "The accuracy of your system is 71.859372632217%!\n",
      "5 None\n",
      "The accuracy of your system is 72.48067889074102%!\n",
      "6 None\n",
      "The accuracy of your system is 71.57145021973025%!\n",
      "7 None\n",
      "The accuracy of your system is 72.11698742233672%!\n",
      "8 None\n",
      "The accuracy of your system is 71.67752689801486%!\n",
      "9 None\n"
     ]
    }
   ],
   "source": [
    "# use KNN\n",
    "\n",
    "#for i in range(2, 10):\n",
    "#    knn = KNeighborsClassifier(n_neighbors=i)\n",
    "#    knn.fit(data_train, labels_train)\n",
    "\n",
    "#    predicted_test_labels = knn.predict(test_embeddings)\n",
    "#    print(i, eval(predicted_test_labels))\n",
    "\n",
    "\n",
    "# 72% accuracy"
   ]
  },
  {
   "cell_type": "code",
   "execution_count": null,
   "metadata": {},
   "outputs": [],
   "source": [
    "\n",
    "#from sklearn.cluster import KMeans, AgglomerativeClustering\n",
    "\n",
    "#def date_to_num(date):\n",
    "#    h_,d_ = date.split(' ')\n",
    "#    h,m,s = h_.split(':')\n",
    "#    d,mo,y = d_.split('-')\n",
    "#    y = int(y)-2019\n",
    "#    return int(s) + 60*(int(m) + 60*(int(h) + 24*(int(d) + 29*(int(mo) + 12*y))))\n",
    "\n",
    "#dates = list(train_connections['dates']) # list of the ips, as strings: '255.255.255.255'\n",
    "#years = [int(date.split('-')[-1]) for date in dates]\n",
    "#print(f\"The years range from {np.min(years)} to {np.max(years)}\")\n",
    "#print(f\"We can go from the str :'{dates[0]}' to a global number representing the total date from 2019 in seconds: {date_to_num(dates[0])}\")\n",
    "#train_data = np.array([ date_to_num(date) for date in dates]) #now we have an array, composed of lists ['255','255','255','255']\n",
    "#train_data = train_data.astype(int) #we convert it to int as we want to deal with numbers here, which gives us something like [255, 255, 255, 255]\n",
    "#print(f\"the shape of the train data is: {train_data.shape}\")\n",
    "\n",
    "#train_data_sorted = np.array(sorted(train_data))\n",
    "#diff = train_data_sorted[1:] - train_data_sorted[:-1]\n",
    "#plt.hist(diff, bins=100)\n",
    "#plt.show()\n",
    "\n",
    "#cluster_labels = AgglomerativeClustering(distance_threshold=60*60, n_clusters=None).fit_predict(train_data.reshape(-1,1)) #finding which dates are in which cluster\n",
    "# we don't chose the number of clusters, but if 2 samples are separated by more than 1hour, then it's a new group\n",
    "#print(f\"Found {len(set(cluster_labels))} clusters of connections hapening in the same hour\")"
   ]
  },
  {
   "cell_type": "code",
   "execution_count": null,
   "metadata": {},
   "outputs": [
    {
     "name": "stderr",
     "output_type": "stream",
     "text": [
      "/Users/malcolmkrolick/Documents/GitHub/Machine_Learning_For_Security_Solutions/MLSecuritySolutions/lib/python3.10/site-packages/sklearn/cluster/_kmeans.py:1416: FutureWarning: The default value of `n_init` will change from 10 to 'auto' in 1.4. Set the value of `n_init` explicitly to suppress the warning\n",
      "  super()._check_params_vs_input(X, default_n_init=10)\n"
     ]
    },
    {
     "ename": "KeyboardInterrupt",
     "evalue": "",
     "output_type": "error",
     "traceback": [
      "\u001b[0;31m---------------------------------------------------------------------------\u001b[0m",
      "\u001b[0;31mKeyboardInterrupt\u001b[0m                         Traceback (most recent call last)",
      "\u001b[1;32m/Users/malcolmkrolick/Documents/GitHub/Machine_Learning_For_Security_Solutions/Week 9/Final Practice.ipynb Cell 14\u001b[0m line \u001b[0;36m5\n\u001b[1;32m      <a href='vscode-notebook-cell:/Users/malcolmkrolick/Documents/GitHub/Machine_Learning_For_Security_Solutions/Week%209/Final%20Practice.ipynb#X24sZmlsZQ%3D%3D?line=0'>1</a>\u001b[0m \u001b[39m# use k means\u001b[39;00m\n\u001b[1;32m      <a href='vscode-notebook-cell:/Users/malcolmkrolick/Documents/GitHub/Machine_Learning_For_Security_Solutions/Week%209/Final%20Practice.ipynb#X24sZmlsZQ%3D%3D?line=2'>3</a>\u001b[0m \u001b[39mfrom\u001b[39;00m \u001b[39msklearn\u001b[39;00m\u001b[39m.\u001b[39;00m\u001b[39mcluster\u001b[39;00m \u001b[39mimport\u001b[39;00m KMeans\n\u001b[0;32m----> <a href='vscode-notebook-cell:/Users/malcolmkrolick/Documents/GitHub/Machine_Learning_For_Security_Solutions/Week%209/Final%20Practice.ipynb#X24sZmlsZQ%3D%3D?line=4'>5</a>\u001b[0m kmeans \u001b[39m=\u001b[39m KMeans(n_clusters\u001b[39m=\u001b[39;49m\u001b[39m4000\u001b[39;49m, random_state\u001b[39m=\u001b[39;49m\u001b[39m0\u001b[39;49m)\u001b[39m.\u001b[39;49mfit(data_train)\n\u001b[1;32m      <a href='vscode-notebook-cell:/Users/malcolmkrolick/Documents/GitHub/Machine_Learning_For_Security_Solutions/Week%209/Final%20Practice.ipynb#X24sZmlsZQ%3D%3D?line=6'>7</a>\u001b[0m predicted_test_labels \u001b[39m=\u001b[39m kmeans\u001b[39m.\u001b[39mpredict(test_embeddings)\n\u001b[1;32m      <a href='vscode-notebook-cell:/Users/malcolmkrolick/Documents/GitHub/Machine_Learning_For_Security_Solutions/Week%209/Final%20Practice.ipynb#X24sZmlsZQ%3D%3D?line=7'>8</a>\u001b[0m \u001b[39mprint\u001b[39m(\u001b[39meval\u001b[39m(predicted_test_labels))\n",
      "File \u001b[0;32m~/Documents/GitHub/Machine_Learning_For_Security_Solutions/MLSecuritySolutions/lib/python3.10/site-packages/sklearn/base.py:1152\u001b[0m, in \u001b[0;36m_fit_context.<locals>.decorator.<locals>.wrapper\u001b[0;34m(estimator, *args, **kwargs)\u001b[0m\n\u001b[1;32m   1145\u001b[0m     estimator\u001b[39m.\u001b[39m_validate_params()\n\u001b[1;32m   1147\u001b[0m \u001b[39mwith\u001b[39;00m config_context(\n\u001b[1;32m   1148\u001b[0m     skip_parameter_validation\u001b[39m=\u001b[39m(\n\u001b[1;32m   1149\u001b[0m         prefer_skip_nested_validation \u001b[39mor\u001b[39;00m global_skip_validation\n\u001b[1;32m   1150\u001b[0m     )\n\u001b[1;32m   1151\u001b[0m ):\n\u001b[0;32m-> 1152\u001b[0m     \u001b[39mreturn\u001b[39;00m fit_method(estimator, \u001b[39m*\u001b[39;49margs, \u001b[39m*\u001b[39;49m\u001b[39m*\u001b[39;49mkwargs)\n",
      "File \u001b[0;32m~/Documents/GitHub/Machine_Learning_For_Security_Solutions/MLSecuritySolutions/lib/python3.10/site-packages/sklearn/cluster/_kmeans.py:1519\u001b[0m, in \u001b[0;36mKMeans.fit\u001b[0;34m(self, X, y, sample_weight)\u001b[0m\n\u001b[1;32m   1515\u001b[0m best_inertia, best_labels \u001b[39m=\u001b[39m \u001b[39mNone\u001b[39;00m, \u001b[39mNone\u001b[39;00m\n\u001b[1;32m   1517\u001b[0m \u001b[39mfor\u001b[39;00m i \u001b[39min\u001b[39;00m \u001b[39mrange\u001b[39m(\u001b[39mself\u001b[39m\u001b[39m.\u001b[39m_n_init):\n\u001b[1;32m   1518\u001b[0m     \u001b[39m# Initialize centers\u001b[39;00m\n\u001b[0;32m-> 1519\u001b[0m     centers_init \u001b[39m=\u001b[39m \u001b[39mself\u001b[39;49m\u001b[39m.\u001b[39;49m_init_centroids(\n\u001b[1;32m   1520\u001b[0m         X,\n\u001b[1;32m   1521\u001b[0m         x_squared_norms\u001b[39m=\u001b[39;49mx_squared_norms,\n\u001b[1;32m   1522\u001b[0m         init\u001b[39m=\u001b[39;49minit,\n\u001b[1;32m   1523\u001b[0m         random_state\u001b[39m=\u001b[39;49mrandom_state,\n\u001b[1;32m   1524\u001b[0m         sample_weight\u001b[39m=\u001b[39;49msample_weight,\n\u001b[1;32m   1525\u001b[0m     )\n\u001b[1;32m   1526\u001b[0m     \u001b[39mif\u001b[39;00m \u001b[39mself\u001b[39m\u001b[39m.\u001b[39mverbose:\n\u001b[1;32m   1527\u001b[0m         \u001b[39mprint\u001b[39m(\u001b[39m\"\u001b[39m\u001b[39mInitialization complete\u001b[39m\u001b[39m\"\u001b[39m)\n",
      "File \u001b[0;32m~/Documents/GitHub/Machine_Learning_For_Security_Solutions/MLSecuritySolutions/lib/python3.10/site-packages/sklearn/cluster/_kmeans.py:1019\u001b[0m, in \u001b[0;36m_BaseKMeans._init_centroids\u001b[0;34m(self, X, x_squared_norms, init, random_state, sample_weight, init_size, n_centroids)\u001b[0m\n\u001b[1;32m   1016\u001b[0m     sample_weight \u001b[39m=\u001b[39m sample_weight[init_indices]\n\u001b[1;32m   1018\u001b[0m \u001b[39mif\u001b[39;00m \u001b[39misinstance\u001b[39m(init, \u001b[39mstr\u001b[39m) \u001b[39mand\u001b[39;00m init \u001b[39m==\u001b[39m \u001b[39m\"\u001b[39m\u001b[39mk-means++\u001b[39m\u001b[39m\"\u001b[39m:\n\u001b[0;32m-> 1019\u001b[0m     centers, _ \u001b[39m=\u001b[39m _kmeans_plusplus(\n\u001b[1;32m   1020\u001b[0m         X,\n\u001b[1;32m   1021\u001b[0m         n_clusters,\n\u001b[1;32m   1022\u001b[0m         random_state\u001b[39m=\u001b[39;49mrandom_state,\n\u001b[1;32m   1023\u001b[0m         x_squared_norms\u001b[39m=\u001b[39;49mx_squared_norms,\n\u001b[1;32m   1024\u001b[0m         sample_weight\u001b[39m=\u001b[39;49msample_weight,\n\u001b[1;32m   1025\u001b[0m     )\n\u001b[1;32m   1026\u001b[0m \u001b[39melif\u001b[39;00m \u001b[39misinstance\u001b[39m(init, \u001b[39mstr\u001b[39m) \u001b[39mand\u001b[39;00m init \u001b[39m==\u001b[39m \u001b[39m\"\u001b[39m\u001b[39mrandom\u001b[39m\u001b[39m\"\u001b[39m:\n\u001b[1;32m   1027\u001b[0m     seeds \u001b[39m=\u001b[39m random_state\u001b[39m.\u001b[39mchoice(\n\u001b[1;32m   1028\u001b[0m         n_samples,\n\u001b[1;32m   1029\u001b[0m         size\u001b[39m=\u001b[39mn_clusters,\n\u001b[1;32m   1030\u001b[0m         replace\u001b[39m=\u001b[39m\u001b[39mFalse\u001b[39;00m,\n\u001b[1;32m   1031\u001b[0m         p\u001b[39m=\u001b[39msample_weight \u001b[39m/\u001b[39m sample_weight\u001b[39m.\u001b[39msum(),\n\u001b[1;32m   1032\u001b[0m     )\n",
      "File \u001b[0;32m~/Documents/GitHub/Machine_Learning_For_Security_Solutions/MLSecuritySolutions/lib/python3.10/site-packages/sklearn/cluster/_kmeans.py:255\u001b[0m, in \u001b[0;36m_kmeans_plusplus\u001b[0;34m(X, n_clusters, x_squared_norms, sample_weight, random_state, n_local_trials)\u001b[0m\n\u001b[1;32m    252\u001b[0m np\u001b[39m.\u001b[39mclip(candidate_ids, \u001b[39mNone\u001b[39;00m, closest_dist_sq\u001b[39m.\u001b[39msize \u001b[39m-\u001b[39m \u001b[39m1\u001b[39m, out\u001b[39m=\u001b[39mcandidate_ids)\n\u001b[1;32m    254\u001b[0m \u001b[39m# Compute distances to center candidates\u001b[39;00m\n\u001b[0;32m--> 255\u001b[0m distance_to_candidates \u001b[39m=\u001b[39m _euclidean_distances(\n\u001b[1;32m    256\u001b[0m     X[candidate_ids], X, Y_norm_squared\u001b[39m=\u001b[39;49mx_squared_norms, squared\u001b[39m=\u001b[39;49m\u001b[39mTrue\u001b[39;49;00m\n\u001b[1;32m    257\u001b[0m )\n\u001b[1;32m    259\u001b[0m \u001b[39m# update closest distances squared and potential for each candidate\u001b[39;00m\n\u001b[1;32m    260\u001b[0m np\u001b[39m.\u001b[39mminimum(closest_dist_sq, distance_to_candidates, out\u001b[39m=\u001b[39mdistance_to_candidates)\n",
      "File \u001b[0;32m~/Documents/GitHub/Machine_Learning_For_Security_Solutions/MLSecuritySolutions/lib/python3.10/site-packages/sklearn/metrics/pairwise.py:382\u001b[0m, in \u001b[0;36m_euclidean_distances\u001b[0;34m(X, Y, X_norm_squared, Y_norm_squared, squared)\u001b[0m\n\u001b[1;32m    380\u001b[0m     distances \u001b[39m+\u001b[39m\u001b[39m=\u001b[39m XX\n\u001b[1;32m    381\u001b[0m     distances \u001b[39m+\u001b[39m\u001b[39m=\u001b[39m YY\n\u001b[0;32m--> 382\u001b[0m np\u001b[39m.\u001b[39;49mmaximum(distances, \u001b[39m0\u001b[39;49m, out\u001b[39m=\u001b[39;49mdistances)\n\u001b[1;32m    384\u001b[0m \u001b[39m# Ensure that distances between vectors and themselves are set to 0.0.\u001b[39;00m\n\u001b[1;32m    385\u001b[0m \u001b[39m# This may not be the case due to floating point rounding errors.\u001b[39;00m\n\u001b[1;32m    386\u001b[0m \u001b[39mif\u001b[39;00m X \u001b[39mis\u001b[39;00m Y:\n",
      "\u001b[0;31mKeyboardInterrupt\u001b[0m: "
     ]
    }
   ],
   "source": [
    "# use k means\n",
    "\n",
    "#from sklearn.cluster import KMeans\n",
    "\n",
    "#kmeans = KMeans(n_clusters=4000, random_state=0).fit(data_train)\n",
    "\n",
    "#predicted_test_labels = kmeans.predict(test_embeddings)\n",
    "#print(eval(predicted_test_labels))\n",
    "\n",
    "\n",
    "\n"
   ]
  },
  {
   "cell_type": "markdown",
   "id": "72adc598-6d65-4c0f-a32a-a5ec2c61a088",
   "metadata": {},
   "source": [
    "## Evaluation\n",
    "Once you have your 'predicted_test_labels' list, you can use the eval function below:"
   ]
  },
  {
   "cell_type": "code",
   "execution_count": null,
   "id": "b8398e8c-ac27-4452-b46f-2dffa74bbabf",
   "metadata": {},
   "outputs": [
    {
     "ename": "NameError",
     "evalue": "name 'predicted_test_labels' is not defined",
     "output_type": "error",
     "traceback": [
      "\u001b[0;31m---------------------------------------------------------------------------\u001b[0m",
      "\u001b[0;31mNameError\u001b[0m                                 Traceback (most recent call last)",
      "\u001b[1;32m/Users/malcolmkrolick/Documents/GitHub/Machine_Learning_For_Security_Solutions/Week 9/Final Practice.ipynb Cell 21\u001b[0m line \u001b[0;36m6\n\u001b[1;32m      <a href='vscode-notebook-cell:/Users/malcolmkrolick/Documents/GitHub/Machine_Learning_For_Security_Solutions/Week%209/Final%20Practice.ipynb#X16sZmlsZQ%3D%3D?line=2'>3</a>\u001b[0m     accuracy \u001b[39m=\u001b[39m np\u001b[39m.\u001b[39msum(targets\u001b[39m==\u001b[39mpredicted_test_labels)\u001b[39m/\u001b[39m\u001b[39mlen\u001b[39m(predicted_test_labels)\n\u001b[1;32m      <a href='vscode-notebook-cell:/Users/malcolmkrolick/Documents/GitHub/Machine_Learning_For_Security_Solutions/Week%209/Final%20Practice.ipynb#X16sZmlsZQ%3D%3D?line=3'>4</a>\u001b[0m     \u001b[39mprint\u001b[39m(\u001b[39mf\u001b[39m\u001b[39m\"\u001b[39m\u001b[39mThe accuracy of your system is \u001b[39m\u001b[39m{\u001b[39;00m\u001b[39m100\u001b[39m\u001b[39m*\u001b[39maccuracy\u001b[39m}\u001b[39;00m\u001b[39m%!\u001b[39m\u001b[39m\"\u001b[39m)\n\u001b[0;32m----> <a href='vscode-notebook-cell:/Users/malcolmkrolick/Documents/GitHub/Machine_Learning_For_Security_Solutions/Week%209/Final%20Practice.ipynb#X16sZmlsZQ%3D%3D?line=5'>6</a>\u001b[0m \u001b[39meval\u001b[39m(predicted_test_labels)\n",
      "\u001b[0;31mNameError\u001b[0m: name 'predicted_test_labels' is not defined"
     ]
    }
   ],
   "source": []
  },
  {
   "cell_type": "markdown",
   "id": "819c1926-8047-4523-948b-a01b743bf24b",
   "metadata": {},
   "source": [
    "Our accuracy is not great right now, because we accept everyone! but I'm sure you can improve from there! "
   ]
  },
  {
   "cell_type": "code",
   "execution_count": null,
   "id": "794adde4-2b83-4454-a1e8-b95cb69cbd8f",
   "metadata": {},
   "outputs": [],
   "source": [
    "\n",
    "\n",
    "#fig = plt.figure(figsize=(10,10))\n",
    "\n",
    "#X = connection_embeddings[:,0]\n",
    "#Y = connection_embeddings[:,1]\n",
    "\n",
    "#labels = np.array(connections['logins'])\n",
    "#true_attempt = np.array(connections['true_attempt'])\n",
    "#size=5\n",
    "\n",
    "##ax_1 = plt.subplot(221) #First plot\n",
    "#for i in set(labels):\n",
    "#    ax_1.scatter(X[labels==i], Y[labels==i], label=i, s=size)\n",
    "#ax_1.set_title(\"Scatterplot by login used\")\n",
    "    \n",
    "#ax_2 = plt.subplot(222) #Second plot\n",
    "#ax_2.scatter(X[true_attempt==False], Y[true_attempt==False], label='False', s=size)\n",
    "##ax_2.scatter(X[true_attempt], Y[true_attempt], label='True', s=size)\n",
    "#ax_2.set_title(\"Scatterplot by true/false attempt\")\n",
    "#ax_2.legend()\n",
    "\n",
    "\n",
    "#ax_3 = plt.subplot(212)#third plot\n",
    "#true_scores = list(connections[connections['true_attempt']==True]['scores'])\n",
    "#false_scores = list(connections[connections['true_attempt']==False]['scores'])\n",
    "#ax_3.hist(false_scores, label='False Scores', bins=100, alpha=0.5)\n",
    "#ax_3.hist(true_scores,  label='True Scores',  bins=100, alpha=0.5)\n",
    "#ax_3.set_title(\"Scores\")\n",
    "#ax_3.legend()\n",
    "\n",
    "#plt.show()"
   ]
  },
  {
   "cell_type": "code",
   "execution_count": null,
   "metadata": {},
   "outputs": [],
   "source": []
  }
 ],
 "metadata": {
  "kernelspec": {
   "display_name": "Python 3 (ipykernel)",
   "language": "python",
   "name": "python3"
  },
  "language_info": {
   "codemirror_mode": {
    "name": "ipython",
    "version": 3
   },
   "file_extension": ".py",
   "mimetype": "text/x-python",
   "name": "python",
   "nbconvert_exporter": "python",
   "pygments_lexer": "ipython3",
   "version": "3.10.2"
  }
 },
 "nbformat": 4,
 "nbformat_minor": 5
}
