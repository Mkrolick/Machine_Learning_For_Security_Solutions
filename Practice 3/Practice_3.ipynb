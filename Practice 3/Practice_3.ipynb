{
 "cells": [
  {
   "cell_type": "markdown",
   "id": "43136895-ca61-405f-b368-66fb64394b7a",
   "metadata": {},
   "source": [
    "# Practice 3\n",
    "_Text files, tables and modules_\n",
    "\n",
    "Before starting, make sure you have in the same folder as this notebook, the following files: \n",
    "- my_text_file.txt\n",
    "- my_csv_file.csv\n",
    "- logins_v1.csv\n",
    "- connections_v1.csv\n",
    "## Text files\n",
    "Let's start with a opening basic text file: Hamlet. We're gonna load it, find who are the characters with the most lines of dialogue, sort them, and save the result in another file."
   ]
  },
  {
   "cell_type": "code",
   "execution_count": 1,
   "id": "ef3216ee-4061-42bc-9de4-e352ec73143e",
   "metadata": {},
   "outputs": [],
   "source": [
    "file = 'my_text_file.txt'\n",
    "with open(file, 'r') as f:\n",
    "    lines = f.readlines()"
   ]
  },
  {
   "cell_type": "markdown",
   "id": "b001ad3c-b90f-4e83-9d03-5320a9f65786",
   "metadata": {},
   "source": [
    "How many lines in this file?\n",
    "Print the number of lines, then print the first 20 lines."
   ]
  },
  {
   "cell_type": "code",
   "execution_count": 2,
   "id": "ab9ad15c-1e12-438d-940f-40e7fadeadc7",
   "metadata": {},
   "outputs": [
    {
     "name": "stdout",
     "output_type": "stream",
     "text": [
      "4415\n",
      "THE TRAGEDY OF HAMLET, PRINCE OF DENMARK\n",
      "\n",
      "\n",
      "\n",
      "ACT I. Scene I.\n",
      "\n",
      "Elsinore. A platform before the Castle.\n",
      "\n",
      "\n",
      "\n",
      "Enter two Sentinels-[first,] Francisco, [who paces up and down\n",
      "\n",
      "at his post; then] Bernardo, [who approaches him].\n",
      "\n",
      "\n",
      "\n",
      "  Ber. Who's there.?\n",
      "\n",
      "  Fran. Nay, answer me. Stand and unfold yourself.\n",
      "\n",
      "  Ber. Long live the King!\n",
      "\n",
      "  Fran. Bernardo?\n",
      "\n",
      "  Ber. He.\n",
      "\n",
      "  Fran. You come most carefully upon your hour.\n",
      "\n",
      "  Ber. 'Tis now struck twelve. Get thee to bed, Francisco.\n",
      "\n",
      "  Fran. For this relief much thanks. 'Tis bitter cold,\n",
      "\n",
      "    And I am sick at heart.\n",
      "\n",
      "  Ber. Have you had quiet guard?\n",
      "\n",
      "  Fran. Not a mouse stirring.\n",
      "\n",
      "  Ber. Well, good night.\n",
      "\n"
     ]
    }
   ],
   "source": [
    "# your code here\n",
    "print(len(lines))\n",
    "for line in lines[:20]:\n",
    "    print(line)"
   ]
  },
  {
   "cell_type": "markdown",
   "id": "3bdeccaa-0f0c-4660-94b8-2d6e8cd185a0",
   "metadata": {},
   "source": [
    "It seems like every line is ending with a '\\n' (return to the line) character. Let's remove them with the _strip_ method. and let's only keep the lines with at least 4 characters."
   ]
  },
  {
   "cell_type": "code",
   "execution_count": 3,
   "id": "7f83088e-447e-4eb8-afae-676b0d819ca0",
   "metadata": {},
   "outputs": [
    {
     "name": "stdout",
     "output_type": "stream",
     "text": [
      "THE TRAGEDY OF HAMLET, PRINCE OF DENMARK\n",
      "ACT I. Scene I.\n",
      "Elsinore. A platform before the Castle.\n",
      "Enter two Sentinels-[first,] Francisco, [who paces up and down\n",
      "at his post; then] Bernardo, [who approaches him].\n",
      "  Ber. Who's there.?\n",
      "  Fran. Nay, answer me. Stand and unfold yourself.\n",
      "  Ber. Long live the King!\n",
      "  Fran. Bernardo?\n",
      "  Ber. He.\n",
      "  Fran. You come most carefully upon your hour.\n",
      "  Ber. 'Tis now struck twelve. Get thee to bed, Francisco.\n",
      "  Fran. For this relief much thanks. 'Tis bitter cold,\n",
      "    And I am sick at heart.\n",
      "  Ber. Have you had quiet guard?\n",
      "  Fran. Not a mouse stirring.\n",
      "  Ber. Well, good night.\n",
      "    If you do meet Horatio and Marcellus,\n",
      "    The rivals of my watch, bid them make haste.\n",
      "                    Enter Horatio and Marcellus.  \n"
     ]
    }
   ],
   "source": [
    "lines = [line.strip('\\n') for line in lines] #strip the \\n\n",
    "lines = [line for line in lines if len(line)>3] #keep the lines with at least 4 characters\n",
    "\n",
    "for line in lines[:20]:\n",
    "    print(line)"
   ]
  },
  {
   "cell_type": "markdown",
   "id": "b7336f4a-3567-478b-8319-52f8959582b2",
   "metadata": {},
   "source": [
    "You can see that each time someone speak, there are 2 spaces, followed by their name, then a dot, and the replica.\n",
    "Can we detect all the lines starting with 2 spaces?"
   ]
  },
  {
   "cell_type": "code",
   "execution_count": 4,
   "id": "8f34424c-a7f3-4ca3-99cf-873dbd2883d2",
   "metadata": {},
   "outputs": [
    {
     "name": "stdout",
     "output_type": "stream",
     "text": [
      " There are 4063 lines starting with 2 spaces\n"
     ]
    }
   ],
   "source": [
    "count = 0\n",
    "for line in lines:\n",
    "    if line[:2]=='  ':\n",
    "        count+=1\n",
    "print(f\" There are {count} lines starting with 2 spaces\")"
   ]
  },
  {
   "cell_type": "markdown",
   "id": "5f9bba20-9495-4898-bc68-0a44491a2583",
   "metadata": {},
   "source": [
    "But, what if some of these lines have 3 or more spaces? find a way to select only the lines where the 2 first characters are spaces, but not the third."
   ]
  },
  {
   "cell_type": "code",
   "execution_count": 5,
   "id": "f1552a79-2c3b-4b40-853d-9f5c69b6d6ee",
   "metadata": {},
   "outputs": [
    {
     "name": "stdout",
     "output_type": "stream",
     "text": [
      " There are 0 lines starting with only 2 spaces\n"
     ]
    }
   ],
   "source": [
    "count = 0\n",
    "#your code here\n",
    "\n",
    "print(f\" There are {count} lines starting with only 2 spaces\")"
   ]
  },
  {
   "cell_type": "markdown",
   "id": "a5b3e8ec-a63d-4cc1-903a-fe9e1e601d9a",
   "metadata": {},
   "source": [
    "Now, let's try to find what is the name of the character talking. \n",
    "Each line start with the name of a character, then a dot, a space, and the rest of the sentence.\n",
    "how can we split that line to only get the character?\n",
    "Using the _split_ function!"
   ]
  },
  {
   "cell_type": "code",
   "execution_count": 6,
   "id": "14193756-318e-4abc-b7a4-bfc8800bb60d",
   "metadata": {},
   "outputs": [
    {
     "name": "stdout",
     "output_type": "stream",
     "text": [
      "['Fran', 'Nay, answer me', 'Stand and unfold yourself.\\n']\n"
     ]
    }
   ],
   "source": [
    "line = 'Fran. Nay, answer me. Stand and unfold yourself.\\n'\n",
    "print(line.split('. '))"
   ]
  },
  {
   "cell_type": "code",
   "execution_count": 7,
   "id": "483f758d-d4f1-4f07-9204-26a22d1b1993",
   "metadata": {},
   "outputs": [
    {
     "name": "stdout",
     "output_type": "stream",
     "text": [
      "Fran\n"
     ]
    }
   ],
   "source": [
    "# The first element of the list must be the name of the character!\n",
    "print(line.split('. ')[0])"
   ]
  },
  {
   "cell_type": "code",
   "execution_count": 8,
   "id": "e9e143df-e0c8-4560-8646-4028c4ca9234",
   "metadata": {},
   "outputs": [
    {
     "name": "stdout",
     "output_type": "stream",
     "text": [
      " Here is the first 10 characters: ['  Ber', '  Fran', '  Ber', '  Fran', '  Ber', '  Fran', '  Ber', '  Fran', '  Ber', '  Fran']\n"
     ]
    }
   ],
   "source": [
    "# What if we filled a list with the names of all the characters, in the order:\n",
    "#we initiate an empty list\n",
    "characters = []\n",
    "for line in lines:\n",
    "    if line[:2]=='  ' and line[2]!=' ': #if the line starts with only two spaces\n",
    "        char = line.split('. ')[0] #we extract the name of the character\n",
    "        characters.append(char) #and append it to the list!\n",
    "print(f\" Here is the first 10 characters: {characters[:10]}\")"
   ]
  },
  {
   "cell_type": "code",
   "execution_count": 9,
   "id": "d9db77d5-0f61-4e03-bcf4-21480a0ffeae",
   "metadata": {},
   "outputs": [
    {
     "name": "stdout",
     "output_type": "stream",
     "text": [
      " Here is the first 10 characters: ['Ber', 'Fran', 'Ber', 'Fran', 'Ber', 'Fran', 'Ber', 'Fran', 'Ber', 'Fran']\n"
     ]
    }
   ],
   "source": [
    "#hum, we still have the two spaces at the begnining, let's remove them!\n",
    "characters = [c[2:] for c in characters]\n",
    "print(f\" Here is the first 10 characters: {characters[:10]}\")"
   ]
  },
  {
   "cell_type": "code",
   "execution_count": 10,
   "id": "2360163c-e66b-4796-bc4f-0b92ea5eee1a",
   "metadata": {},
   "outputs": [
    {
     "name": "stdout",
     "output_type": "stream",
     "text": [
      "{'Pol', 'Both', 'All', 'Priest', 'Mess', 'Player', 'King', 'Guil', 'Servant', 'Ham', 'Ros', 'Other', 'Rey', 'Volt', 'Gentlemen', 'Oph', 'Hor', 'Gent', 'Osr', 'Sailor', 'Clown', 'Queen', 'For', 'Laer', 'Lord', 'Fort', 'Fran', 'Ambassador', 'Capt', 'Ghost', 'Mar', 'Ber', 'Cor'}\n"
     ]
    }
   ],
   "source": [
    "#Most characters are talking multiple times... let's see the set of characters:\n",
    "print(set(characters))"
   ]
  },
  {
   "cell_type": "code",
   "execution_count": 11,
   "id": "1a4fc38d-738c-4bf9-8b29-af041fcb655f",
   "metadata": {},
   "outputs": [
    {
     "name": "stdout",
     "output_type": "stream",
     "text": [
      "How many time each character talked? {'Pol': 86, 'Both': 9, 'All': 6, 'Priest': 2, 'Mess': 3, 'Player': 2, 'King': 102, 'Guil': 29, 'Servant': 1, 'Ham': 358, 'Ros': 45, 'Other': 12, 'Rey': 13, 'Volt': 1, 'Gentlemen': 1, 'Oph': 58, 'Hor': 109, 'Gent': 2, 'Osr': 25, 'Sailor': 2, 'Clown': 33, 'Queen': 69, 'For': 2, 'Laer': 62, 'Lord': 3, 'Fort': 4, 'Fran': 8, 'Ambassador': 1, 'Capt': 7, 'Ghost': 15, 'Mar': 31, 'Ber': 19, 'Cor': 1}\n"
     ]
    }
   ],
   "source": [
    "# Can count them?\n",
    "# let's do a dictionary: for each character, how many times did we see them:\n",
    "how_many = {char:0 for char in set(characters)} #initiate the dictionary with all values at 0\n",
    "for char in characters:\n",
    "    how_many[char]+=1\n",
    "print(f\"How many time each character talked? {how_many}\")"
   ]
  },
  {
   "cell_type": "markdown",
   "id": "b8dbe160-8880-4481-9d65-545153d5501a",
   "metadata": {},
   "source": [
    "To sort them, we're using the function _sorted_.\n",
    "You give it a list, here we are using the items of 'how_many' and it returns the list sorted."
   ]
  },
  {
   "cell_type": "code",
   "execution_count": 12,
   "id": "a49817c6-9192-4115-bb14-0ec2afc62695",
   "metadata": {},
   "outputs": [
    {
     "name": "stdout",
     "output_type": "stream",
     "text": [
      "dict_items([('Pol', 86), ('Both', 9), ('All', 6), ('Priest', 2), ('Mess', 3), ('Player', 2), ('King', 102), ('Guil', 29), ('Servant', 1), ('Ham', 358), ('Ros', 45), ('Other', 12), ('Rey', 13), ('Volt', 1), ('Gentlemen', 1), ('Oph', 58), ('Hor', 109), ('Gent', 2), ('Osr', 25), ('Sailor', 2), ('Clown', 33), ('Queen', 69), ('For', 2), ('Laer', 62), ('Lord', 3), ('Fort', 4), ('Fran', 8), ('Ambassador', 1), ('Capt', 7), ('Ghost', 15), ('Mar', 31), ('Ber', 19), ('Cor', 1)])\n"
     ]
    }
   ],
   "source": [
    "print(how_many.items())"
   ]
  },
  {
   "cell_type": "code",
   "execution_count": 13,
   "id": "9b1aa073-67d7-4467-8016-55f17b2eba19",
   "metadata": {},
   "outputs": [
    {
     "name": "stdout",
     "output_type": "stream",
     "text": [
      "[('All', 6), ('Ambassador', 1), ('Ber', 19), ('Both', 9), ('Capt', 7), ('Clown', 33), ('Cor', 1), ('For', 2), ('Fort', 4), ('Fran', 8), ('Gent', 2), ('Gentlemen', 1), ('Ghost', 15), ('Guil', 29), ('Ham', 358), ('Hor', 109), ('King', 102), ('Laer', 62), ('Lord', 3), ('Mar', 31), ('Mess', 3), ('Oph', 58), ('Osr', 25), ('Other', 12), ('Player', 2), ('Pol', 86), ('Priest', 2), ('Queen', 69), ('Rey', 13), ('Ros', 45), ('Sailor', 2), ('Servant', 1), ('Volt', 1)]\n"
     ]
    }
   ],
   "source": [
    "sorted_list = sorted(how_many.items())\n",
    "print(sorted_list)"
   ]
  },
  {
   "cell_type": "markdown",
   "id": "325ace74-8d9a-4fb3-9c67-b0edea163360",
   "metadata": {},
   "source": [
    "As you can see, by default it is sorting the first element, so here we have the names in alphabetical order... We can change that by defining the key used by the function as *\"the second element of each item\"*, with the _key_ option"
   ]
  },
  {
   "cell_type": "code",
   "execution_count": 14,
   "id": "7bbbfaed-dfe9-46db-9455-8b6b8b78321b",
   "metadata": {},
   "outputs": [
    {
     "name": "stdout",
     "output_type": "stream",
     "text": [
      "[('Servant', 1), ('Volt', 1), ('Gentlemen', 1), ('Ambassador', 1), ('Cor', 1), ('Priest', 2), ('Player', 2), ('Gent', 2), ('Sailor', 2), ('For', 2), ('Mess', 3), ('Lord', 3), ('Fort', 4), ('All', 6), ('Capt', 7), ('Fran', 8), ('Both', 9), ('Other', 12), ('Rey', 13), ('Ghost', 15), ('Ber', 19), ('Osr', 25), ('Guil', 29), ('Mar', 31), ('Clown', 33), ('Ros', 45), ('Oph', 58), ('Laer', 62), ('Queen', 69), ('Pol', 86), ('King', 102), ('Hor', 109), ('Ham', 358)]\n"
     ]
    }
   ],
   "source": [
    "sorted_list = sorted(how_many.items(), key=lambda x:x[1])\n",
    "print(sorted_list)"
   ]
  },
  {
   "cell_type": "markdown",
   "id": "f97d9f5a-d570-4ef4-9e40-945d0e8825fe",
   "metadata": {},
   "source": [
    "Hum, the elements are in ascending order... What if we wanted them in descending order? to start with the higher one? Look on the manual page which keyword to use, available here: https://www.w3schools.com/python/ref_func_sorted.asp."
   ]
  },
  {
   "cell_type": "code",
   "execution_count": 15,
   "id": "fc4c5f0f-9fa9-4a4d-9ffb-13019277efa1",
   "metadata": {},
   "outputs": [],
   "source": [
    "#Your code here\n",
    "decending_sorted_list = sorted(how_many.items(), key=lambda x:x[1], reverse=True)"
   ]
  },
  {
   "cell_type": "markdown",
   "id": "8d278dc0-29ec-49bd-9c26-7f446bdd6e60",
   "metadata": {},
   "source": [
    "Now let's save it!"
   ]
  },
  {
   "cell_type": "code",
   "execution_count": 16,
   "id": "e4e00361-b514-41cf-9a28-367cfaab8722",
   "metadata": {},
   "outputs": [],
   "source": [
    "lines_to_write = [f\"{char}: {num}\\n\" for char, num in sorted_list]\n",
    "with open('my_sorted_list.txt', 'w') as f: #we are writing this time, so mode='w'\n",
    "    f.writelines(lines_to_write)"
   ]
  },
  {
   "cell_type": "markdown",
   "id": "d2ae1614-a9f6-4b5a-96a3-1128f26a5986",
   "metadata": {},
   "source": [
    "Look at the created file. Who is the character who had the more lines?\n",
    "## Modules\n",
    "Now we're gonna need pandas to use the tables, so let's import it:"
   ]
  },
  {
   "cell_type": "code",
   "execution_count": 18,
   "id": "c6d9db0f-3263-4a38-b1aa-930878e2b8f7",
   "metadata": {},
   "outputs": [],
   "source": [
    "import pandas as pd"
   ]
  },
  {
   "cell_type": "markdown",
   "id": "43a61258-7b1c-4097-87f7-81887cf0ac48",
   "metadata": {},
   "source": [
    "While we are at it, let's try to load another small module: tqdm\n",
    "https://tqdm.github.io/\n",
    "This module has one interesting function: tqdm, so we are only gonna import this one."
   ]
  },
  {
   "cell_type": "code",
   "execution_count": 19,
   "id": "519106f1-9240-4c31-8150-8324fb6f4848",
   "metadata": {},
   "outputs": [],
   "source": [
    "from tqdm import tqdm"
   ]
  },
  {
   "cell_type": "markdown",
   "id": "cd1ffceb-92ba-4793-bfa7-0c1781e8e5af",
   "metadata": {},
   "source": [
    "if it is not installed, we can install it with a bash command. In jupyter, every command that starts with a ! is  interpreted as a bash command."
   ]
  },
  {
   "cell_type": "code",
   "execution_count": 3,
   "id": "83096fe1-17ae-4f93-805a-61c81d3e50e0",
   "metadata": {},
   "outputs": [
    {
     "name": "stdout",
     "output_type": "stream",
     "text": [
      "Requirement already satisfied: tqdm in /Users/thomas/miniconda3/envs/dino/lib/python3.8/site-packages (4.64.1)\n"
     ]
    }
   ],
   "source": [
    "!pip install tqdm"
   ]
  },
  {
   "cell_type": "markdown",
   "id": "2e2b47a9-9367-4e50-a5a4-eef59d487f5f",
   "metadata": {},
   "source": [
    "Now it should work, let's import it, and try it.\n",
    "Tqdm is basically a loading bar package: you use it around for loops to make them look better."
   ]
  },
  {
   "cell_type": "code",
   "execution_count": 20,
   "id": "f3f77175-5d2d-4025-ad8b-fe150d7554ae",
   "metadata": {},
   "outputs": [
    {
     "name": "stderr",
     "output_type": "stream",
     "text": [
      "100%|██████████| 50000000/50000000 [00:15<00:00, 3249926.61it/s]\n"
     ]
    }
   ],
   "source": [
    "from tqdm import tqdm\n",
    "\n",
    "j=0\n",
    "for i in tqdm(range(50000000)):\n",
    "    j+=1"
   ]
  },
  {
   "cell_type": "markdown",
   "id": "64f39a46-1973-44ca-b8b4-976617522ee2",
   "metadata": {},
   "source": [
    "Well, tqdm seems to work, you might need it another time, and now it's installed!\n",
    "\n",
    "## Tables\n",
    "\n",
    "Now that pandas is working, let's import a table: \"_people.csv_\""
   ]
  },
  {
   "cell_type": "code",
   "execution_count": 21,
   "id": "797abffc-97f1-412d-a4aa-169c5f508c23",
   "metadata": {},
   "outputs": [
    {
     "data": {
      "text/html": [
       "<div>\n",
       "<style scoped>\n",
       "    .dataframe tbody tr th:only-of-type {\n",
       "        vertical-align: middle;\n",
       "    }\n",
       "\n",
       "    .dataframe tbody tr th {\n",
       "        vertical-align: top;\n",
       "    }\n",
       "\n",
       "    .dataframe thead th {\n",
       "        text-align: right;\n",
       "    }\n",
       "</style>\n",
       "<table border=\"1\" class=\"dataframe\">\n",
       "  <thead>\n",
       "    <tr style=\"text-align: right;\">\n",
       "      <th></th>\n",
       "      <th>names</th>\n",
       "      <th>surnames</th>\n",
       "      <th>ips</th>\n",
       "      <th>passwords</th>\n",
       "      <th>logins</th>\n",
       "    </tr>\n",
       "  </thead>\n",
       "  <tbody>\n",
       "    <tr>\n",
       "      <th>0</th>\n",
       "      <td>Hannah</td>\n",
       "      <td>AIDEN</td>\n",
       "      <td>67.4549.197.72</td>\n",
       "      <td>Hannah1956</td>\n",
       "      <td>hannah_aiden@email.com</td>\n",
       "    </tr>\n",
       "    <tr>\n",
       "      <th>1</th>\n",
       "      <td>Chaya</td>\n",
       "      <td>RAQUEL</td>\n",
       "      <td>216.41678.206.128</td>\n",
       "      <td>@zerty</td>\n",
       "      <td>chaya_raquel@email.com</td>\n",
       "    </tr>\n",
       "    <tr>\n",
       "      <th>2</th>\n",
       "      <td>Lilly</td>\n",
       "      <td>JOANNA</td>\n",
       "      <td>192.62925.205.139</td>\n",
       "      <td>04[c</td>\n",
       "      <td>lilly_joanna@email.com</td>\n",
       "    </tr>\n",
       "    <tr>\n",
       "      <th>3</th>\n",
       "      <td>Jesus</td>\n",
       "      <td>BEATRIX</td>\n",
       "      <td>103.28476.60.152</td>\n",
       "      <td>Jesus1974</td>\n",
       "      <td>jesus_beatrix@email.com</td>\n",
       "    </tr>\n",
       "    <tr>\n",
       "      <th>4</th>\n",
       "      <td>Aliza</td>\n",
       "      <td>ALEKSANDRA</td>\n",
       "      <td>206.49123.227.221</td>\n",
       "      <td>Aliz@1976</td>\n",
       "      <td>aliza_aleksandra@email.com</td>\n",
       "    </tr>\n",
       "    <tr>\n",
       "      <th>...</th>\n",
       "      <td>...</td>\n",
       "      <td>...</td>\n",
       "      <td>...</td>\n",
       "      <td>...</td>\n",
       "      <td>...</td>\n",
       "    </tr>\n",
       "    <tr>\n",
       "      <th>95</th>\n",
       "      <td>Hassan</td>\n",
       "      <td>RUCHY</td>\n",
       "      <td>200.57725.125.14</td>\n",
       "      <td>@b0^gaT</td>\n",
       "      <td>hassan_ruchy@email.com</td>\n",
       "    </tr>\n",
       "    <tr>\n",
       "      <th>96</th>\n",
       "      <td>Natalie</td>\n",
       "      <td>WENDY</td>\n",
       "      <td>166.91.91.44</td>\n",
       "      <td>26041991</td>\n",
       "      <td>natalie_wendy@email.com</td>\n",
       "    </tr>\n",
       "    <tr>\n",
       "      <th>97</th>\n",
       "      <td>Heaven</td>\n",
       "      <td>WILLOW</td>\n",
       "      <td>104.63247.15.143</td>\n",
       "      <td>1ogan2001</td>\n",
       "      <td>heaven_willow@email.com</td>\n",
       "    </tr>\n",
       "    <tr>\n",
       "      <th>98</th>\n",
       "      <td>Gavriel</td>\n",
       "      <td>CAMILO</td>\n",
       "      <td>216.24147.83.17</td>\n",
       "      <td>GCAM1LO93</td>\n",
       "      <td>gavriel_camilo@email.com</td>\n",
       "    </tr>\n",
       "    <tr>\n",
       "      <th>99</th>\n",
       "      <td>Jose</td>\n",
       "      <td>CHANIE</td>\n",
       "      <td>176.25032.200.168</td>\n",
       "      <td>18021980</td>\n",
       "      <td>jose_chanie@email.com</td>\n",
       "    </tr>\n",
       "  </tbody>\n",
       "</table>\n",
       "<p>100 rows × 5 columns</p>\n",
       "</div>"
      ],
      "text/plain": [
       "      names    surnames                ips   passwords  \\\n",
       "0    Hannah       AIDEN     67.4549.197.72  Hannah1956   \n",
       "1     Chaya      RAQUEL  216.41678.206.128      @zerty   \n",
       "2     Lilly      JOANNA  192.62925.205.139        04[c   \n",
       "3     Jesus     BEATRIX   103.28476.60.152   Jesus1974   \n",
       "4     Aliza  ALEKSANDRA  206.49123.227.221   Aliz@1976   \n",
       "..      ...         ...                ...         ...   \n",
       "95   Hassan       RUCHY   200.57725.125.14     @b0^gaT   \n",
       "96  Natalie       WENDY       166.91.91.44    26041991   \n",
       "97   Heaven      WILLOW   104.63247.15.143   1ogan2001   \n",
       "98  Gavriel      CAMILO    216.24147.83.17   GCAM1LO93   \n",
       "99     Jose      CHANIE  176.25032.200.168    18021980   \n",
       "\n",
       "                        logins  \n",
       "0       hannah_aiden@email.com  \n",
       "1       chaya_raquel@email.com  \n",
       "2       lilly_joanna@email.com  \n",
       "3      jesus_beatrix@email.com  \n",
       "4   aliza_aleksandra@email.com  \n",
       "..                         ...  \n",
       "95      hassan_ruchy@email.com  \n",
       "96     natalie_wendy@email.com  \n",
       "97     heaven_willow@email.com  \n",
       "98    gavriel_camilo@email.com  \n",
       "99       jose_chanie@email.com  \n",
       "\n",
       "[100 rows x 5 columns]"
      ]
     },
     "execution_count": 21,
     "metadata": {},
     "output_type": "execute_result"
    }
   ],
   "source": [
    "people = pd.read_csv('people.csv')\n",
    "people"
   ]
  },
  {
   "cell_type": "markdown",
   "id": "8d6f221a-7210-4106-a648-4b13a249910a",
   "metadata": {},
   "source": [
    "We can see its a table, that contains the names, surnames, ip of registration, passwords and logins associated with everyone.\n",
    "<br>\n",
    "Last week, we saw how to measure the accuracy of a system using a list of logins, a list of passwords and a list of connection attempts.\n",
    "<br>\n",
    "Let's define the list of logins:"
   ]
  },
  {
   "cell_type": "code",
   "execution_count": 22,
   "id": "21a7971e-3e11-4659-9fc7-895a34337db9",
   "metadata": {},
   "outputs": [
    {
     "name": "stdout",
     "output_type": "stream",
     "text": [
      "['hannah_aiden@email.com', 'chaya_raquel@email.com', 'lilly_joanna@email.com', 'jesus_beatrix@email.com', 'aliza_aleksandra@email.com', 'eddy_steven@email.com', 'giancarlo_julien@email.com', 'ben_kevin@email.com', 'abdiel_dominick@email.com', 'shlome_raina@email.com', 'penelope_amirjon@email.com', 'jade_alexandra@email.com', 'april_colin@email.com', 'grayson_drew@email.com', 'jayren_juliette@email.com', 'catherine_nolan@email.com', 'rehan_emmy@email.com', 'empress_willow@email.com', 'yakov_ayra@email.com', 'jennifer_corey@email.com', 'kaylee_barbara@email.com', 'arvin_jessica@email.com', 'aleah_malak@email.com', 'sergio_ahmad@email.com', 'manha_karen@email.com', 'niam_melissa@email.com', 'adele_eileen@email.com', 'pinchus_blimy@email.com', 'lucy_elijah@email.com', 'tyler_ilana@email.com', 'brayan_essence@email.com', 'paige_elvis@email.com', 'kayleen_cairo@email.com', 'elianny_samiya@email.com', 'sean_mary@email.com', 'briana_joel@email.com', 'trany_amelie@email.com', 'aayat_aiza@email.com', 'marvin_yachet@email.com', 'isabela_rocco@email.com', 'beatrix_chava@email.com', 'ilan_ada@email.com', 'sloane_brayan@email.com', 'sahil_leyla@email.com', 'amora_maverick@email.com', 'yasmina_judy@email.com', 'zahra_sabina@email.com', 'vivian_viviana@email.com', 'hanna_esty@email.com', 'izaiah_brendan@email.com', 'caroline_shaindy@email.com', 'arham_mathias@email.com', 'amirah_kaden@email.com', 'brian_estrella@email.com', 'damian_goldy@email.com', 'jeremiah_rory@email.com', 'kaylin_terry@email.com', 'sophia_frieda@email.com', 'milania_madison@email.com', 'yara_gustavo@email.com', 'theo_renee@email.com', 'jane_jaelynn@email.com', 'zander_hinda@email.com', 'oumou_dulce@email.com', 'jannatul_phoenix@email.com', 'marco_liora@email.com', 'brody_henny@email.com', 'rachel_shania@email.com', 'fraidy_abel@email.com', 'joaquin_henry@email.com', 'natalia_nina@email.com', 'jared_roger@email.com', 'landon_gordon@email.com', 'spencer_luis@email.com', 'tyler_greyson@email.com', 'cataleya_zaire@email.com', 'zayan_imona@email.com', 'adina_janiyah@email.com', 'malak_scarlett@email.com', 'anton_skylah@email.com', 'enrique_aiden@email.com', 'mandy_alan@email.com', 'ilana_arisha@email.com', 'derrick_leia@email.com', 'samira_alex@email.com', 'esty_skylar@email.com', 'princeton_yaretzi@email.com', 'nicholas_leyla@email.com', 'elan_aniyah@email.com', 'safwan_giulia@email.com', 'jasiah_nyla@email.com', 'layla_elena@email.com', 'bentzion_paris@email.com', 'prince_dashiell@email.com', 'sharon_danny@email.com', 'hassan_ruchy@email.com', 'natalie_wendy@email.com', 'heaven_willow@email.com', 'gavriel_camilo@email.com', 'jose_chanie@email.com']\n"
     ]
    }
   ],
   "source": [
    "logins = list(people['logins'])\n",
    "print(logins)"
   ]
  },
  {
   "cell_type": "markdown",
   "id": "5c5e1535-2b22-4dfb-b393-09271ce2b645",
   "metadata": {},
   "source": [
    "Now let's define the list of passwords:"
   ]
  },
  {
   "cell_type": "code",
   "execution_count": 23,
   "id": "ae719aea-7496-43fe-be78-02b5c2afcd31",
   "metadata": {},
   "outputs": [
    {
     "name": "stdout",
     "output_type": "stream",
     "text": [
      "['Hannah1956', '@zerty', '04[c', 'Jesus1974', 'Aliz@1976', 'qwerty', '@nnabelle4&ver', 'ps$wrd', \"'ez?\", 'my_p@$sw0rd', '25031959', '23061991', 'Nechama4Ever', 'Grayson1986', 'Aman14Ever', 'K*m?3d>6sH', 'Zaria4Ever', '123456', 'Sara4&ver', 'J&nnif&r2002', 'KBARBARA29', '1234567890', 'Jabari4Ever', 'Leila4Ev&r', '03021999', 'Niam1999', 'Ad&le1962', 'Elean0r4Ever', 'A&1IJAH18', '04041964', 'Precious4Ever', '123456', '10061963', 'Abe4Ever', '$e@n2006', '28081982', 'TAME11E53', '0000', 'g-b$5H]CM*', 'azerty', 'rd[\"[!T1Ox', '22091981', 'admin', 'SL&YLA57', '06121950', 'NAHLA1997', 'Zahr@2007', '0000', 'Rowan4&v&r', 'Wyatt4&ver', 'Jerry1996', '@rham1971', 'CKADEN0', '`t;2N5C!1B', 'Ayanna4Ev&r', 'mJ7qVaF1$', '=JMZg*', 'ps$wrd', \"u4'{QZFAi0&\", '123456', '123456', 'Wesley4Ever', 'ZHIND@23', 'Makai4Ev&r', 'admin', '123456', '12071994', 'RSHANIA58', 'Fra1dy1978', 'Joaqu1n1977', '6gl\"VNP0m9', 'JROGER85', '\"D6\\'A{Qo', '07041988', 'Sidney4&v&r', '_z{{', 'C1M0NA9', 'Malachi4Ever', 'MSCARLETT43', 'ASKY1AH90', 'Enriqu&2004', '23011967', 'HP|iB', 'Q^ki09~K4', 'ps$wrd', 'Esty2004', 'pR{fWjJ@S8-', '3ayu)', '20111990', ')=/#TZ?', 'JNYLA9', '15091986', '@;j>.0', 'Wyatt1995', 'JD@NNY25', '@b0^gaT', '26041991', '1ogan2001', 'GCAM1LO93', '18021980']\n"
     ]
    }
   ],
   "source": [
    "#your code here\n",
    "passwords = list(people['passwords'])\n",
    "print(passwords)"
   ]
  },
  {
   "cell_type": "markdown",
   "id": "d91e46da-449b-4171-820a-457a60322286",
   "metadata": {},
   "source": [
    "Now, if I tell you the list of connections attempts is the file \"_connections_v1.csv_\", you have everything to measure the same accuracy as last week, if you are familiar with the technique of the Ctrl+C, Ctrl+V...<br>\n",
    "But that wouldn't be funny.<br>\n",
    "Let's try to use pandas help. First, loading the table:"
   ]
  },
  {
   "cell_type": "code",
   "execution_count": 24,
   "id": "68f75662-20ae-4d24-b68f-12110d465a3a",
   "metadata": {},
   "outputs": [
    {
     "data": {
      "text/html": [
       "<div>\n",
       "<style scoped>\n",
       "    .dataframe tbody tr th:only-of-type {\n",
       "        vertical-align: middle;\n",
       "    }\n",
       "\n",
       "    .dataframe tbody tr th {\n",
       "        vertical-align: top;\n",
       "    }\n",
       "\n",
       "    .dataframe thead th {\n",
       "        text-align: right;\n",
       "    }\n",
       "</style>\n",
       "<table border=\"1\" class=\"dataframe\">\n",
       "  <thead>\n",
       "    <tr style=\"text-align: right;\">\n",
       "      <th></th>\n",
       "      <th>logins</th>\n",
       "      <th>passwords</th>\n",
       "      <th>ips</th>\n",
       "      <th>dates</th>\n",
       "    </tr>\n",
       "  </thead>\n",
       "  <tbody>\n",
       "    <tr>\n",
       "      <th>0</th>\n",
       "      <td>milania_madison@email.com</td>\n",
       "      <td>#i&lt;JzMIoN[</td>\n",
       "      <td>200.6496.96.169</td>\n",
       "      <td>0:58:7 8-3-2021</td>\n",
       "    </tr>\n",
       "    <tr>\n",
       "      <th>1</th>\n",
       "      <td>enrique_aiden@email.com</td>\n",
       "      <td>/`_a</td>\n",
       "      <td>165.21909.149.232</td>\n",
       "      <td>16:8:54 5-4-2023</td>\n",
       "    </tr>\n",
       "    <tr>\n",
       "      <th>2</th>\n",
       "      <td>zayan_imona@email.com</td>\n",
       "      <td>'\\-CGa&gt;Tb,</td>\n",
       "      <td>165.21909.149.232</td>\n",
       "      <td>7:22:41 19-10-2025</td>\n",
       "    </tr>\n",
       "    <tr>\n",
       "      <th>3</th>\n",
       "      <td>jesus_beatrix@email.com</td>\n",
       "      <td>Jesus1974</td>\n",
       "      <td>103.28476.60.152</td>\n",
       "      <td>12:20:32 04-08-2019</td>\n",
       "    </tr>\n",
       "    <tr>\n",
       "      <th>4</th>\n",
       "      <td>amirah_kaden@email.com</td>\n",
       "      <td>zz_[</td>\n",
       "      <td>45.58432.64.179</td>\n",
       "      <td>5:57:19 22-9-2024</td>\n",
       "    </tr>\n",
       "    <tr>\n",
       "      <th>...</th>\n",
       "      <td>...</td>\n",
       "      <td>...</td>\n",
       "      <td>...</td>\n",
       "      <td>...</td>\n",
       "    </tr>\n",
       "    <tr>\n",
       "      <th>99995</th>\n",
       "      <td>pinchus_blimy@email.com</td>\n",
       "      <td>Elean0r4Ever</td>\n",
       "      <td>152.40564.116.242</td>\n",
       "      <td>01:31:12 19-04-2020</td>\n",
       "    </tr>\n",
       "    <tr>\n",
       "      <th>99996</th>\n",
       "      <td>jared_roger@email.com</td>\n",
       "      <td>JROGER85</td>\n",
       "      <td>208.18426.250.129</td>\n",
       "      <td>14:03:55 06-06-2019</td>\n",
       "    </tr>\n",
       "    <tr>\n",
       "      <th>99997</th>\n",
       "      <td>jane_jaelynn@email.com</td>\n",
       "      <td>Wesley4Ever</td>\n",
       "      <td>102.54848.64.11</td>\n",
       "      <td>22:06:47 24-06-2022</td>\n",
       "    </tr>\n",
       "    <tr>\n",
       "      <th>99998</th>\n",
       "      <td>jesus_beatrix@email.com</td>\n",
       "      <td>Jesus1974</td>\n",
       "      <td>197.65519.239.242</td>\n",
       "      <td>12:42:08 21-05-2020</td>\n",
       "    </tr>\n",
       "    <tr>\n",
       "      <th>99999</th>\n",
       "      <td>chaya_raquel@email.com</td>\n",
       "      <td>!?!m1r{M{d=</td>\n",
       "      <td>165.21909.149.232</td>\n",
       "      <td>12:28:36 10-10-2024</td>\n",
       "    </tr>\n",
       "  </tbody>\n",
       "</table>\n",
       "<p>100000 rows × 4 columns</p>\n",
       "</div>"
      ],
      "text/plain": [
       "                          logins     passwords                ips  \\\n",
       "0      milania_madison@email.com    #i<JzMIoN[    200.6496.96.169   \n",
       "1        enrique_aiden@email.com          /`_a  165.21909.149.232   \n",
       "2          zayan_imona@email.com    '\\-CGa>Tb,  165.21909.149.232   \n",
       "3        jesus_beatrix@email.com     Jesus1974   103.28476.60.152   \n",
       "4         amirah_kaden@email.com          zz_[    45.58432.64.179   \n",
       "...                          ...           ...                ...   \n",
       "99995    pinchus_blimy@email.com  Elean0r4Ever  152.40564.116.242   \n",
       "99996      jared_roger@email.com      JROGER85  208.18426.250.129   \n",
       "99997     jane_jaelynn@email.com   Wesley4Ever    102.54848.64.11   \n",
       "99998    jesus_beatrix@email.com     Jesus1974  197.65519.239.242   \n",
       "99999     chaya_raquel@email.com   !?!m1r{M{d=  165.21909.149.232   \n",
       "\n",
       "                     dates  \n",
       "0          0:58:7 8-3-2021  \n",
       "1         16:8:54 5-4-2023  \n",
       "2       7:22:41 19-10-2025  \n",
       "3      12:20:32 04-08-2019  \n",
       "4        5:57:19 22-9-2024  \n",
       "...                    ...  \n",
       "99995  01:31:12 19-04-2020  \n",
       "99996  14:03:55 06-06-2019  \n",
       "99997  22:06:47 24-06-2022  \n",
       "99998  12:42:08 21-05-2020  \n",
       "99999  12:28:36 10-10-2024  \n",
       "\n",
       "[100000 rows x 4 columns]"
      ]
     },
     "execution_count": 24,
     "metadata": {},
     "output_type": "execute_result"
    }
   ],
   "source": [
    "connections = pd.read_csv('connections_v1.csv')\n",
    "connections"
   ]
  },
  {
   "cell_type": "markdown",
   "id": "cd2e2fcb-f9d5-44ff-9cde-7d00719f9c4d",
   "metadata": {},
   "source": [
    "Let's iterate through people table and find how many times they tried to connect."
   ]
  },
  {
   "cell_type": "code",
   "execution_count": 25,
   "id": "0b38f07e-2c87-4b82-b823-72ac78fa4a64",
   "metadata": {},
   "outputs": [
    {
     "name": "stdout",
     "output_type": "stream",
     "text": [
      "names\n",
      "surnames\n",
      "ips\n",
      "passwords\n",
      "logins\n"
     ]
    }
   ],
   "source": [
    "for i in people:\n",
    "    print(i)"
   ]
  },
  {
   "cell_type": "markdown",
   "id": "cc238a97-7e34-46db-b673-abad5b46d856",
   "metadata": {},
   "source": [
    "Iterating through a pandas dataframe actually only gives us the names of the columns... it iterate row by row, there is a trick: iterrows()"
   ]
  },
  {
   "cell_type": "code",
   "execution_count": 26,
   "id": "fe83dec5-da47-4655-a269-e7a29204c24e",
   "metadata": {},
   "outputs": [
    {
     "name": "stdout",
     "output_type": "stream",
     "text": [
      "0 names                        Hannah\n",
      "surnames                      AIDEN\n",
      "ips                  67.4549.197.72\n",
      "passwords                Hannah1956\n",
      "logins       hannah_aiden@email.com\n",
      "Name: 0, dtype: object\n"
     ]
    }
   ],
   "source": [
    "for idx, row in people.iterrows():\n",
    "    print(idx, row)\n",
    "    target_login    = row['logins']\n",
    "    target_password = row['passwords']\n",
    "    target_ip       = row['ips']\n",
    "    break"
   ]
  },
  {
   "cell_type": "markdown",
   "id": "5a7ff53c-e0e5-4eb6-9a5e-3e62776d8543",
   "metadata": {},
   "source": [
    "Let's look at this first person: How many times did someone tried to connect as Hannah? <br>\n",
    "We could iterate through all rows of the connections table, or just ask pandas nicely: _What are the connections where the login used was equal to this target login?_ "
   ]
  },
  {
   "cell_type": "code",
   "execution_count": 27,
   "id": "cab4ba2b-94b9-4aa3-aaf1-922e6b3ac434",
   "metadata": {},
   "outputs": [
    {
     "name": "stdout",
     "output_type": "stream",
     "text": [
      "                       logins    passwords                ips  \\\n",
      "267    hannah_aiden@email.com     eB$wBMT'   103.9946.218.128   \n",
      "360    hannah_aiden@email.com   Hannah1956  162.34210.162.216   \n",
      "447    hannah_aiden@email.com      LWc&);S   208.13590.22.181   \n",
      "568    hannah_aiden@email.com  v/xWGOUdwZA    108.45935.111.1   \n",
      "582    hannah_aiden@email.com    +R#5+=-lm   103.9946.218.128   \n",
      "...                       ...          ...                ...   \n",
      "99514  hannah_aiden@email.com    OM&B.ylls  102.34809.249.148   \n",
      "99553  hannah_aiden@email.com   Hannah1956     209.6965.53.30   \n",
      "99729  hannah_aiden@email.com      ge^>8CM  157.42870.118.150   \n",
      "99877  hannah_aiden@email.com         /`><   128.57502.158.98   \n",
      "99898  hannah_aiden@email.com    6TQF=DNdS    41.57251.163.41   \n",
      "\n",
      "                     dates  \n",
      "267      12:5:47 22-8-2021  \n",
      "360    14:31:11 18-07-2023  \n",
      "447      16:4:41 13-6-2023  \n",
      "568      4:55:39 28-6-2025  \n",
      "582      12:0:17 22-8-2021  \n",
      "...                    ...  \n",
      "99514   12:42:39 26-6-2023  \n",
      "99553  17:31:41 17-03-2021  \n",
      "99729   2:11:18 28-11-2020  \n",
      "99877     1:29:3 12-6-2023  \n",
      "99898    15:49:24 0-6-2021  \n",
      "\n",
      "[1011 rows x 4 columns]\n"
     ]
    }
   ],
   "source": [
    "Hannah_attempts = connections[connections['logins']==target_login]\n",
    "print(Hannah_attempts)"
   ]
  },
  {
   "cell_type": "markdown",
   "id": "29efeb9d-0e4c-4013-9e4a-bfad5b32c542",
   "metadata": {},
   "source": [
    "Wow, more than a thousand connections! Now, how many of those had the right login? "
   ]
  },
  {
   "cell_type": "code",
   "execution_count": 31,
   "id": "f9b05fea-bb4f-4711-818a-40cb406e5612",
   "metadata": {},
   "outputs": [
    {
     "name": "stdout",
     "output_type": "stream",
     "text": [
      "257\n",
      "754\n"
     ]
    }
   ],
   "source": [
    "Hannah_successful = Hannah_attempts[Hannah_attempts['passwords']==target_password]\n",
    "print(len(Hannah_successful))\n",
    "Hannah_bad = Hannah_attempts[Hannah_attempts['passwords']!=target_password]\n",
    "print(len(Hannah_bad))\n"
   ]
  },
  {
   "cell_type": "markdown",
   "id": "a111637b-f681-4677-aab4-9c5c97288686",
   "metadata": {},
   "source": [
    "Not so much. Now, same thing as last week: how many attempts and successful attempts from which ips?"
   ]
  },
  {
   "cell_type": "code",
   "execution_count": 44,
   "id": "5b4d1f67-38d8-46ee-827b-ccb0305d056c",
   "metadata": {},
   "outputs": [
    {
     "name": "stdout",
     "output_type": "stream",
     "text": [
      "Successful attempts:\tSame ip:0\tDifferent ip:257\n",
      "Unsuccessful attempts:\tSame ip:0\tDifferent ip:754\n"
     ]
    }
   ],
   "source": [
    "print(f\"Successful attempts:\", end=\"\\t\")\n",
    "print(f\"Same ip:{len(Hannah_successful[Hannah_successful['ips']==target_ip])}\", end=\"\\t\")\n",
    "print(f\"Different ip:{len(Hannah_successful[Hannah_successful['ips']!=target_ip])}\")\n",
    "\n",
    "print(f\"Unsuccessful attempts:\", end=\"\\t\")\n",
    "print(f\"Same ip:{len(Hannah_bad[Hannah_bad['ips']==target_ip])}\", end=\"\\t\")\n",
    "print(f\"Different ip:{len(Hannah_bad[Hannah_bad['ips']!=target_ip])}\")\n",
    "#your code here"
   ]
  },
  {
   "cell_type": "markdown",
   "id": "1b679d8c-fdd1-45e2-ac80-ab2ac37edf2e",
   "metadata": {},
   "source": [
    "So, when connecting from her house, she never had a wrong password, but outside, it happened a lot... Let's take a look ip by ip."
   ]
  },
  {
   "cell_type": "code",
   "execution_count": 36,
   "id": "436fdbbc-e955-43ee-a7e5-50d6c3453f98",
   "metadata": {
    "collapsed": true,
    "jupyter": {
     "outputs_hidden": true
    },
    "tags": []
   },
   "outputs": [
    {
     "name": "stdout",
     "output_type": "stream",
     "text": [
      "Over 1011 attempts, 157 different ips where used\n",
      "With ip 89.10931.179.153: \t1 good attempts for 0 failed attempts.\n",
      "With ip 92.37115.251.188: \t1 good attempts for 0 failed attempts.\n",
      "With ip 103.48438.54.187: \t1 good attempts for 0 failed attempts.\n",
      "With ip 131.19506.50.32: \t1 good attempts for 0 failed attempts.\n",
      "With ip 128.57502.158.98: \t1 good attempts for 96 failed attempts.\n",
      "With ip 38.5175.55.34: \t1 good attempts for 0 failed attempts.\n",
      "With ip 190.3127.55.38: \t1 good attempts for 0 failed attempts.\n",
      "With ip 5.27114.234.233: \t1 good attempts for 0 failed attempts.\n",
      "With ip 45.21261.13.243: \t1 good attempts for 0 failed attempts.\n",
      "With ip 103.6291.147.205: \t1 good attempts for 0 failed attempts.\n",
      "With ip 181.10695.199.43: \t1 good attempts for 0 failed attempts.\n",
      "With ip 159.4806.198.178: \t1 good attempts for 0 failed attempts.\n",
      "With ip 38.37047.183.235: \t1 good attempts for 0 failed attempts.\n",
      "With ip 192.57378.34.202: \t1 good attempts for 0 failed attempts.\n",
      "With ip 197.65519.239.242: \t1 good attempts for 0 failed attempts.\n",
      "With ip 38.50669.237.21: \t1 good attempts for 0 failed attempts.\n",
      "With ip 196.50820.132.173: \t1 good attempts for 0 failed attempts.\n",
      "With ip 5.45570.2.201: \t1 good attempts for 0 failed attempts.\n",
      "With ip 144.24699.123.9: \t1 good attempts for 0 failed attempts.\n",
      "With ip 102.54848.64.11: \t1 good attempts for 0 failed attempts.\n",
      "With ip 208.13590.22.181: \t1 good attempts for 94 failed attempts.\n",
      "With ip 102.55135.95.149: \t1 good attempts for 0 failed attempts.\n",
      "With ip 203.4594.242.115: \t1 good attempts for 0 failed attempts.\n",
      "With ip 31.3416.88.143: \t1 good attempts for 0 failed attempts.\n",
      "With ip 181.55188.148.7: \t1 good attempts for 0 failed attempts.\n",
      "With ip 78.34935.119.166: \t1 good attempts for 8 failed attempts.\n",
      "With ip 38.27727.79.184: \t1 good attempts for 0 failed attempts.\n",
      "With ip 102.54341.69.158: \t1 good attempts for 0 failed attempts.\n",
      "With ip 209.44091.59.215: \t1 good attempts for 0 failed attempts.\n",
      "With ip 102.54850.66.72: \t1 good attempts for 0 failed attempts.\n",
      "With ip 63.43794.18.220: \t1 good attempts for 0 failed attempts.\n",
      "With ip 128.2108.60.68: \t1 good attempts for 0 failed attempts.\n",
      "With ip 207.706.194.189: \t1 good attempts for 0 failed attempts.\n",
      "With ip 91.61302.118.48: \t1 good attempts for 0 failed attempts.\n",
      "With ip 209.37473.97.3: \t1 good attempts for 0 failed attempts.\n",
      "With ip 154.18792.104.202: \t1 good attempts for 0 failed attempts.\n",
      "With ip 199.49631.223.4: \t1 good attempts for 0 failed attempts.\n",
      "With ip 102.33165.141.91: \t1 good attempts for 0 failed attempts.\n",
      "With ip 65.46366.30.35: \t1 good attempts for 0 failed attempts.\n",
      "With ip 52.31773.29.150: \t1 good attempts for 0 failed attempts.\n",
      "With ip 197.7232.64.3: \t1 good attempts for 0 failed attempts.\n",
      "With ip 185.5508.132.185: \t1 good attempts for 0 failed attempts.\n",
      "With ip 186.16436.52.132: \t1 good attempts for 0 failed attempts.\n",
      "With ip 192.58317.205.23: \t1 good attempts for 0 failed attempts.\n",
      "With ip 91.56430.110.125: \t1 good attempts for 0 failed attempts.\n",
      "With ip 199.51478.22.243: \t1 good attempts for 0 failed attempts.\n",
      "With ip 102.55548.252.4: \t1 good attempts for 0 failed attempts.\n",
      "With ip 146.56897.65.109: \t1 good attempts for 0 failed attempts.\n",
      "With ip 16.30588.124.166: \t1 good attempts for 0 failed attempts.\n",
      "With ip 32.27433.41.168: \t1 good attempts for 0 failed attempts.\n",
      "With ip 192.24712.136.12: \t1 good attempts for 0 failed attempts.\n",
      "With ip 23.1436.156.66: \t1 good attempts for 0 failed attempts.\n",
      "With ip 38.773.5.128: \t1 good attempts for 0 failed attempts.\n",
      "With ip 103.15459.99.67: \t1 good attempts for 0 failed attempts.\n",
      "With ip 152.40564.116.242: \t1 good attempts for 0 failed attempts.\n",
      "With ip 102.57153.65.168: \t1 good attempts for 0 failed attempts.\n",
      "With ip 216.37174.54.156: \t1 good attempts for 0 failed attempts.\n",
      "With ip 23.52915.179.175: \t1 good attempts for 0 failed attempts.\n",
      "With ip 161.2148.100.99: \t1 good attempts for 0 failed attempts.\n",
      "With ip 94.31896.152.165: \t1 good attempts for 0 failed attempts.\n",
      "With ip 193.57124.36.30: \t1 good attempts for 0 failed attempts.\n",
      "With ip 116.23008.224.81: \t1 good attempts for 0 failed attempts.\n",
      "With ip 168.86.86.87: \t1 good attempts for 0 failed attempts.\n",
      "With ip 91.56596.20.66: \t1 good attempts for 0 failed attempts.\n",
      "With ip 32.14876.28.120: \t1 good attempts for 0 failed attempts.\n",
      "With ip 70.10189.205.16: \t1 good attempts for 0 failed attempts.\n",
      "With ip 41.43630.110.138: \t1 good attempts for 0 failed attempts.\n",
      "With ip 5.20038.70.126: \t1 good attempts for 0 failed attempts.\n",
      "With ip 57.18255.79.251: \t1 good attempts for 0 failed attempts.\n",
      "With ip 162.34210.162.216: \t1 good attempts for 0 failed attempts.\n",
      "With ip 41.57251.163.41: \t1 good attempts for 96 failed attempts.\n",
      "With ip 157.42870.118.150: \t1 good attempts for 95 failed attempts.\n",
      "With ip 38.53425.177.12: \t1 good attempts for 0 failed attempts.\n",
      "With ip 91.63034.58.127: \t1 good attempts for 0 failed attempts.\n",
      "With ip 40.28189.29.235: \t1 good attempts for 0 failed attempts.\n",
      "With ip 23.22190.174.109: \t1 good attempts for 0 failed attempts.\n",
      "With ip 185.45916.92.204: \t1 good attempts for 0 failed attempts.\n",
      "With ip 208.61772.76.148: \t1 good attempts for 0 failed attempts.\n",
      "With ip 8.63697.209.56: \t1 good attempts for 0 failed attempts.\n",
      "With ip 8.61842.146.7: \t1 good attempts for 0 failed attempts.\n",
      "With ip 185.14531.195.144: \t1 good attempts for 0 failed attempts.\n",
      "With ip 209.37562.186.172: \t1 good attempts for 0 failed attempts.\n",
      "With ip 190.47473.113.85: \t1 good attempts for 0 failed attempts.\n",
      "With ip 161.56762.186.159: \t1 good attempts for 0 failed attempts.\n",
      "With ip 62.18160.240.252: \t1 good attempts for 0 failed attempts.\n",
      "With ip 196.12353.65.189: \t1 good attempts for 0 failed attempts.\n",
      "With ip 41.20084.116.209: \t1 good attempts for 0 failed attempts.\n",
      "With ip 193.6113.225.176: \t1 good attempts for 0 failed attempts.\n",
      "With ip 70.21674.170.113: \t1 good attempts for 0 failed attempts.\n",
      "With ip 216.47061.213.95: \t1 good attempts for 0 failed attempts.\n",
      "With ip 216.56572.252.206: \t1 good attempts for 0 failed attempts.\n",
      "With ip 209.6965.53.30: \t1 good attempts for 0 failed attempts.\n",
      "With ip 138.21706.202.204: \t1 good attempts for 0 failed attempts.\n",
      "With ip 104.25373.29.147: \t1 good attempts for 76 failed attempts.\n",
      "With ip 194.9380.164.46: \t1 good attempts for 0 failed attempts.\n",
      "With ip 23.57603.3.67: \t1 good attempts for 0 failed attempts.\n",
      "With ip 81.51124.180.12: \t1 good attempts for 0 failed attempts.\n",
      "With ip 34.29408.224.75: \t1 good attempts for 0 failed attempts.\n",
      "With ip 38.17598.190.88: \t1 good attempts for 0 failed attempts.\n",
      "With ip 196.15812.196.117: \t1 good attempts for 0 failed attempts.\n",
      "With ip 104.55698.146.36: \t1 good attempts for 0 failed attempts.\n",
      "With ip 38.6385.241.28: \t1 good attempts for 14 failed attempts.\n",
      "With ip 206.21375.127.190: \t1 good attempts for 0 failed attempts.\n",
      "With ip 82.41934.206.111: \t1 good attempts for 0 failed attempts.\n",
      "With ip 203.24739.163.7: \t1 good attempts for 0 failed attempts.\n",
      "With ip 146.19359.159.244: \t1 good attempts for 0 failed attempts.\n",
      "With ip 192.52125.157.25: \t1 good attempts for 0 failed attempts.\n",
      "With ip 195.51828.116.88: \t1 good attempts for 0 failed attempts.\n",
      "With ip 102.34809.249.148: \t1 good attempts for 15 failed attempts.\n",
      "With ip 213.52265.41.50: \t1 good attempts for 0 failed attempts.\n",
      "With ip 45.15653.37.231: \t1 good attempts for 0 failed attempts.\n",
      "With ip 20.48862.222.247: \t1 good attempts for 0 failed attempts.\n",
      "With ip 190.31495.7.152: \t1 good attempts for 0 failed attempts.\n",
      "With ip 57.19051.107.35: \t1 good attempts for 0 failed attempts.\n",
      "With ip 185.62476.12.210: \t1 good attempts for 0 failed attempts.\n",
      "With ip 192.32531.19.2: \t1 good attempts for 0 failed attempts.\n",
      "With ip 46.57979.123.200: \t1 good attempts for 0 failed attempts.\n",
      "With ip 38.18536.104.79: \t1 good attempts for 0 failed attempts.\n",
      "With ip 103.10636.140.39: \t1 good attempts for 0 failed attempts.\n",
      "With ip 200.6496.96.169: \t1 good attempts for 35 failed attempts.\n",
      "With ip 107.42065.81.7: \t1 good attempts for 56 failed attempts.\n",
      "With ip 74.13644.76.158: \t1 good attempts for 0 failed attempts.\n",
      "With ip 194.28336.176.220: \t1 good attempts for 0 failed attempts.\n",
      "With ip 104.31445.213.227: \t1 good attempts for 0 failed attempts.\n",
      "With ip 103.9946.218.128: \t1 good attempts for 61 failed attempts.\n",
      "With ip 17.30262.54.114: \t1 good attempts for 0 failed attempts.\n",
      "With ip 45.3879.39.207: \t1 good attempts for 0 failed attempts.\n",
      "With ip 195.2163.115.220: \t1 good attempts for 0 failed attempts.\n",
      "With ip 185.64116.116.192: \t1 good attempts for 0 failed attempts.\n",
      "With ip 193.63076.100.28: \t1 good attempts for 0 failed attempts.\n",
      "With ip 95.43867.91.84: \t1 good attempts for 2 failed attempts.\n",
      "With ip 67.58970.90.245: \t1 good attempts for 0 failed attempts.\n",
      "With ip 209.15197.93.203: \t1 good attempts for 0 failed attempts.\n",
      "With ip 206.21375.127.22: \t1 good attempts for 0 failed attempts.\n",
      "With ip 203.14129.49.245: \t1 good attempts for 0 failed attempts.\n",
      "With ip 107.47814.198.154: \t1 good attempts for 0 failed attempts.\n",
      "With ip 152.27774.126.249: \t1 good attempts for 0 failed attempts.\n",
      "With ip 170.21237.245.157: \t1 good attempts for 0 failed attempts.\n",
      "With ip 45.40590.142.21: \t1 good attempts for 0 failed attempts.\n",
      "With ip 185.29333.149.182: \t1 good attempts for 0 failed attempts.\n",
      "With ip 108.45935.111.1: \t1 good attempts for 81 failed attempts.\n",
      "With ip 67.4549.197.72: \t101 good attempts for 0 failed attempts.\n",
      "With ip 8.60981.53.182: \t1 good attempts for 0 failed attempts.\n",
      "With ip 38.22503.231.236: \t1 good attempts for 0 failed attempts.\n",
      "With ip 209.2437.133.199: \t1 good attempts for 0 failed attempts.\n",
      "With ip 188.35289.217.27: \t1 good attempts for 0 failed attempts.\n",
      "With ip 103.12717.173.221: \t1 good attempts for 0 failed attempts.\n",
      "With ip 45.58432.64.179: \t1 good attempts for 25 failed attempts.\n",
      "With ip 23.23317.21.89: \t1 good attempts for 0 failed attempts.\n",
      "With ip 63.56450.130.43: \t1 good attempts for 0 failed attempts.\n",
      "With ip 185.13675.107.136: \t1 good attempts for 0 failed attempts.\n",
      "With ip 185.36806.198.143: \t1 good attempts for 0 failed attempts.\n",
      "With ip 196.12436.148.194: \t1 good attempts for 0 failed attempts.\n",
      "With ip 170.52165.197.57: \t1 good attempts for 0 failed attempts.\n",
      "With ip 38.53647.143.63: \t1 good attempts for 0 failed attempts.\n",
      "With ip 185.40231.39.39: \t1 good attempts for 0 failed attempts.\n",
      "With ip 34.29263.79.10: \t1 good attempts for 0 failed attempts.\n"
     ]
    }
   ],
   "source": [
    "# Get the set of ips:\n",
    "set_ips = set(Hannah_attempts['ips'])\n",
    "print(f\"Over {len(Hannah_attempts)} attempts, {len(set_ips)} different ips where used\")\n",
    "\n",
    "# for each ip, find the number of successful and unsuccessful attempts:\n",
    "for ip in set_ips:\n",
    "    num_good = len(Hannah_successful[Hannah_successful['ips']==ip])\n",
    "    num_bad  = len(Hannah_bad[Hannah_bad['ips']==ip])\n",
    "    print(f\"With ip {ip}: \\t{num_good} good attempts for {num_bad} failed attempts.\")"
   ]
  },
  {
   "cell_type": "markdown",
   "id": "185e6da6-664c-4382-bbd0-0a0dacf368f3",
   "metadata": {},
   "source": [
    "That's a bit messy... Can you only print the ips that _either_ got multiple good connections, or at least one bad connection?<br>\n",
    "And add a little line to say when it's the ip she used to register her account."
   ]
  },
  {
   "cell_type": "code",
   "execution_count": 38,
   "id": "813b2a1f-0854-4afb-a492-2e00823c477f",
   "metadata": {},
   "outputs": [
    {
     "name": "stdout",
     "output_type": "stream",
     "text": [
      "The ip used that had multiple failed attempts is 128.57502.158.98\n",
      "The ip used that had multiple failed attempts is 208.13590.22.181\n",
      "The ip used that had multiple failed attempts is 78.34935.119.166\n",
      "The ip used that had multiple failed attempts is 41.57251.163.41\n",
      "The ip used that had multiple failed attempts is 157.42870.118.150\n",
      "The ip used that had multiple failed attempts is 104.25373.29.147\n",
      "The ip used that had multiple failed attempts is 38.6385.241.28\n",
      "The ip used that had multiple failed attempts is 102.34809.249.148\n",
      "The ip used that had multiple failed attempts is 200.6496.96.169\n",
      "The ip used that had multiple failed attempts is 107.42065.81.7\n",
      "The ip used that had multiple failed attempts is 103.9946.218.128\n",
      "The ip used that had multiple failed attempts is 95.43867.91.84\n",
      "The ip used that had multiple failed attempts is 108.45935.111.1\n",
      "The ip used that had multiple successful attempts is 67.4549.197.72\n",
      "The ip used that had multiple failed attempts is 45.58432.64.179\n"
     ]
    }
   ],
   "source": [
    "# for each ip, find the number of successful and unsuccessful attempts:\n",
    "for ip in set_ips:\n",
    "    num_good = len(Hannah_successful[Hannah_successful['ips']==ip])\n",
    "    num_bad  = len(Hannah_bad[Hannah_bad['ips']==ip])\n",
    "    #print(f\"With ip {ip}: \\t{num_good} good attempts for {num_bad} failed attempts.\")\n",
    "\n",
    "    if num_bad>0:\n",
    "        print(f\"The ip used that had multiple failed attempts is {ip}\")\n",
    "    elif num_good>1:\n",
    "        print(f\"The ip used that had multiple successful attempts is {ip}\")\n",
    "\n"
   ]
  },
  {
   "cell_type": "markdown",
   "id": "2a05a928-be6d-4b60-ab98-e0ed3dc96f85",
   "metadata": {},
   "source": [
    "Now we now, _for each person_ how to find how many attempts were good or not, meaning we can compute fastly the authentication accuracy! <br>\n",
    "Let's do it: What's the percentage of successful connection attempts?"
   ]
  },
  {
   "cell_type": "code",
   "execution_count": 42,
   "id": "d457df68-6f55-402d-94fa-14f4de5bb200",
   "metadata": {},
   "outputs": [
    {
     "name": "stdout",
     "output_type": "stream",
     "text": [
      "The percentage of successful connections is 24.825%\n",
      "Meaning 24825 successful attempts.\n"
     ]
    }
   ],
   "source": [
    "\n",
    "\n",
    "successful_attempts = 0\n",
    "\n",
    "for idx, row in people.iterrows():\n",
    "    target_login    = row['logins']\n",
    "    target_password = row['passwords']\n",
    "    target_ip       = row['ips']\n",
    "    #What are the connections linked to this login?\n",
    "    users_connections = connections[connections['logins']==target_login]\n",
    "    #How many successful (right password) ?\n",
    "\n",
    "    successful_attempts += len(users_connections[users_connections['passwords']==target_password])\n",
    "\n",
    "print(f\"The percentage of successful connections is {100*successful_attempts/len(connections)}%\")\n",
    "print(f\"Meaning {successful_attempts} successful attempts.\")"
   ]
  },
  {
   "cell_type": "markdown",
   "id": "53c1e08a-4acd-4c55-a56b-35d0a1d2acd9",
   "metadata": {},
   "source": [
    "Let's practice a bit more: What if I told you that if someone has more failed attempts than good ones, it might be a hacker trying to guess the password?\n",
    "Can you measure the proportion of hacks?"
   ]
  },
  {
   "cell_type": "code",
   "execution_count": 43,
   "id": "4a30d4ab-3c38-4919-a771-1cb2f8cc0239",
   "metadata": {},
   "outputs": [
    {
     "name": "stderr",
     "output_type": "stream",
     "text": [
      "100%|██████████| 919/919 [00:24<00:00, 37.40it/s]"
     ]
    },
    {
     "name": "stdout",
     "output_type": "stream",
     "text": [
      "The number of people that got hacked is 1485\n"
     ]
    },
    {
     "name": "stderr",
     "output_type": "stream",
     "text": [
      "\n"
     ]
    }
   ],
   "source": [
    "hacks = 0\n",
    "set_ips = set(connections['ips']) #get the set of ips\n",
    "\n",
    "for ip in tqdm(set_ips): #for each ip :\n",
    "    \n",
    "    #what are the connections linked to this ip\n",
    "    ip_con = connections[connections['ips']==ip] \n",
    "    #what are the peoples that got targeted by those connections\n",
    "    set_target_logins = set(ip_con['logins'])\n",
    "    \n",
    "    successful_attempts = 0\n",
    "    unsuccessful_attempts = 0\n",
    "    #for each of those people:\n",
    "    for target_login in set_target_logins:\n",
    "        #what is the right password associated to the login?\n",
    "        target_password = people[people['logins']==target_login]['passwords'].item()\n",
    "        \n",
    "        #What are the connections linked to this login?\n",
    "        users_connections = ip_con[ip_con['logins']==target_login]\n",
    "        \n",
    "        #How many successful (right password) vs unsuccessful ?\n",
    "        successful_attempts += len(users_connections[users_connections['passwords']==target_password])\n",
    "        unsuccessful_attempts += len(users_connections[users_connections['passwords']!=target_password])\n",
    "    \n",
    "    if successful_attempts<unsuccessful_attempts:\n",
    "        hacks+= successful_attempts\n",
    "\n",
    "print(f\"The number of people that got hacked is {hacks}\")"
   ]
  },
  {
   "cell_type": "markdown",
   "id": "3d4bde99-280d-4d9e-a021-af76056514af",
   "metadata": {},
   "source": [
    "# To get further\n",
    "If you wanna get more familiar with pandas, I invite you to look here: https://pandas.pydata.org/docs/user_guide/10min.html"
   ]
  },
  {
   "cell_type": "code",
   "execution_count": null,
   "id": "9ea7f22c-976c-4690-8444-9c02e1b3adcd",
   "metadata": {},
   "outputs": [],
   "source": []
  }
 ],
 "metadata": {
  "kernelspec": {
   "display_name": "Python 3 (ipykernel)",
   "language": "python",
   "name": "python3"
  },
  "language_info": {
   "codemirror_mode": {
    "name": "ipython",
    "version": 3
   },
   "file_extension": ".py",
   "mimetype": "text/x-python",
   "name": "python",
   "nbconvert_exporter": "python",
   "pygments_lexer": "ipython3",
   "version": "3.10.2"
  }
 },
 "nbformat": 4,
 "nbformat_minor": 5
}
