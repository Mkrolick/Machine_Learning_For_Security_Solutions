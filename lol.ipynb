{
 "cells": [
  {
   "cell_type": "code",
   "execution_count": 1,
   "metadata": {},
   "outputs": [
    {
     "name": "stderr",
     "output_type": "stream",
     "text": [
      "2023-10-30 12:37:47.292220: I tensorflow/core/platform/cpu_feature_guard.cc:182] This TensorFlow binary is optimized to use available CPU instructions in performance-critical operations.\n",
      "To enable the following instructions: AVX2 FMA, in other operations, rebuild TensorFlow with the appropriate compiler flags.\n"
     ]
    },
    {
     "ename": "ModuleNotFoundError",
     "evalue": "No module named 'encoder'",
     "output_type": "error",
     "traceback": [
      "\u001b[0;31m---------------------------------------------------------------------------\u001b[0m",
      "\u001b[0;31mModuleNotFoundError\u001b[0m                       Traceback (most recent call last)",
      "\u001b[1;32m/Users/malcolmkrolick/Documents/GitHub/Machine_Learning_For_Security_Solutions/lol.ipynb Cell 1\u001b[0m line \u001b[0;36m1\n\u001b[1;32m     <a href='vscode-notebook-cell:/Users/malcolmkrolick/Documents/GitHub/Machine_Learning_For_Security_Solutions/lol.ipynb#W0sZmlsZQ%3D%3D?line=14'>15</a>\u001b[0m \u001b[39mfrom\u001b[39;00m \u001b[39mtensorflow\u001b[39;00m \u001b[39mimport\u001b[39;00m data, train, math, reduce_sum, cast, equal, argmax, float32, GradientTape, TensorSpec, function, int64\n\u001b[1;32m     <a href='vscode-notebook-cell:/Users/malcolmkrolick/Documents/GitHub/Machine_Learning_For_Security_Solutions/lol.ipynb#W0sZmlsZQ%3D%3D?line=15'>16</a>\u001b[0m \u001b[39mfrom\u001b[39;00m \u001b[39mkeras\u001b[39;00m\u001b[39m.\u001b[39;00m\u001b[39mlosses\u001b[39;00m \u001b[39mimport\u001b[39;00m sparse_categorical_crossentropy\n\u001b[0;32m---> <a href='vscode-notebook-cell:/Users/malcolmkrolick/Documents/GitHub/Machine_Learning_For_Security_Solutions/lol.ipynb#W0sZmlsZQ%3D%3D?line=16'>17</a>\u001b[0m \u001b[39mfrom\u001b[39;00m \u001b[39mmodel\u001b[39;00m \u001b[39mimport\u001b[39;00m TransformerModel\n\u001b[1;32m     <a href='vscode-notebook-cell:/Users/malcolmkrolick/Documents/GitHub/Machine_Learning_For_Security_Solutions/lol.ipynb#W0sZmlsZQ%3D%3D?line=17'>18</a>\u001b[0m \u001b[39mfrom\u001b[39;00m \u001b[39mprepare_dataset\u001b[39;00m \u001b[39mimport\u001b[39;00m PrepareDataset\n\u001b[1;32m     <a href='vscode-notebook-cell:/Users/malcolmkrolick/Documents/GitHub/Machine_Learning_For_Security_Solutions/lol.ipynb#W0sZmlsZQ%3D%3D?line=18'>19</a>\u001b[0m \u001b[39mfrom\u001b[39;00m \u001b[39mtime\u001b[39;00m \u001b[39mimport\u001b[39;00m time\n",
      "File \u001b[0;32m~/Documents/GitHub/Machine_Learning_For_Security_Solutions/model.py:1\u001b[0m\n\u001b[0;32m----> 1\u001b[0m \u001b[39mfrom\u001b[39;00m \u001b[39mencoder\u001b[39;00m \u001b[39mimport\u001b[39;00m Encoder\n\u001b[1;32m      2\u001b[0m \u001b[39mfrom\u001b[39;00m \u001b[39mdecoder\u001b[39;00m \u001b[39mimport\u001b[39;00m Decoder\n\u001b[1;32m      3\u001b[0m \u001b[39mfrom\u001b[39;00m \u001b[39mtensorflow\u001b[39;00m \u001b[39mimport\u001b[39;00m math, cast, float32, linalg, ones, maximum, newaxis\n",
      "\u001b[0;31mModuleNotFoundError\u001b[0m: No module named 'encoder'"
     ]
    }
   ],
   "source": [
    "import numpy as np\n",
    "import pandas as pd\n",
    "import matplotlib.pyplot as plt\n",
    "from tqdm import tqdm\n",
    "\n",
    "\n",
    "from pickle import load\n",
    "from numpy.random import shuffle\n",
    "from keras.preprocessing.text import Tokenizer\n",
    "from keras.preprocessing.sequence import pad_sequences\n",
    "from tensorflow import convert_to_tensor, int64\n",
    "from tensorflow.keras.optimizers import Adam\n",
    "from tensorflow.keras.optimizers.schedules import LearningRateSchedule\n",
    "from tensorflow.keras.metrics import Mean\n",
    "from tensorflow import data, train, math, reduce_sum, cast, equal, argmax, float32, GradientTape, TensorSpec, function, int64\n",
    "from keras.losses import sparse_categorical_crossentropy\n",
    "from model import TransformerModel\n",
    "from prepare_dataset import PrepareDataset\n",
    "from time import time\n",
    "\n",
    "def load_files(csv_file=\"\",npy_file=\"\"): return pd.read_csv(csv_file), np.load(npy_file, allow_pickle=True)"
   ]
  },
  {
   "cell_type": "code",
   "execution_count": 3,
   "metadata": {},
   "outputs": [],
   "source": [
    "train_connections, train_embeddings = load_files(csv_file=\"train_connections.csv\", npy_file=\"people_embeddings.npy\")\n"
   ]
  },
  {
   "cell_type": "code",
   "execution_count": 9,
   "metadata": {},
   "outputs": [],
   "source": [
    "labels_list = [1 if connection_true else 0 for connection_true in train_connections['true_attempt']]\n",
    "labels = np.array(labels_list) #we transform the list in a np.array to ease the next steps (idk why, but sklearn seems to like it...)"
   ]
  },
  {
   "cell_type": "code",
   "execution_count": 13,
   "metadata": {},
   "outputs": [
    {
     "data": {
      "text/plain": [
       "array([[1],\n",
       "       [1],\n",
       "       [1],\n",
       "       ...,\n",
       "       [0],\n",
       "       [0],\n",
       "       [0]])"
      ]
     },
     "execution_count": 13,
     "metadata": {},
     "output_type": "execute_result"
    }
   ],
   "source": [
    "# train_embeddings, labels_list\n",
    "labels.reshape(-1,1)"
   ]
  },
  {
   "cell_type": "code",
   "execution_count": 11,
   "metadata": {},
   "outputs": [
    {
     "data": {
      "text/plain": [
       "array([[ 1.84817995,  2.33280212, -2.22963676, ...,  0.92782231,\n",
       "        -2.45147905,  1.51304026],\n",
       "       [-2.10113754,  2.04818839,  0.54434234, ...,  1.48154782,\n",
       "        -1.28274001, -0.05967589],\n",
       "       [ 1.99697684,  0.66264303, -1.17570756, ...,  0.91688172,\n",
       "        -1.35482888,  0.6499156 ],\n",
       "       ...,\n",
       "       [-1.32543497,  0.27804526,  2.26189805, ...,  1.4287049 ,\n",
       "         2.44542825, -2.48842062],\n",
       "       [ 1.25656737, -0.48915285,  2.90925485, ...,  2.61022924,\n",
       "         0.89658929,  1.69275141],\n",
       "       [-0.80095487,  2.02156601,  1.34572192, ..., -2.03078167,\n",
       "         2.63354692, -0.74462652]])"
      ]
     },
     "execution_count": 11,
     "metadata": {},
     "output_type": "execute_result"
    }
   ],
   "source": [
    "train_embeddings"
   ]
  },
  {
   "cell_type": "code",
   "execution_count": null,
   "metadata": {},
   "outputs": [],
   "source": [
    "enc_seq_length = 32\n",
    "dec_seq_length = 1"
   ]
  },
  {
   "cell_type": "code",
   "execution_count": 15,
   "metadata": {},
   "outputs": [
    {
     "ename": "ModuleNotFoundError",
     "evalue": "No module named 'model'",
     "output_type": "error",
     "traceback": [
      "\u001b[0;31m---------------------------------------------------------------------------\u001b[0m",
      "\u001b[0;31mModuleNotFoundError\u001b[0m                       Traceback (most recent call last)",
      "\u001b[1;32m/Users/malcolmkrolick/Documents/GitHub/Machine_Learning_For_Security_Solutions/lol.ipynb Cell 7\u001b[0m line \u001b[0;36m1\n\u001b[1;32m      <a href='vscode-notebook-cell:/Users/malcolmkrolick/Documents/GitHub/Machine_Learning_For_Security_Solutions/lol.ipynb#W3sZmlsZQ%3D%3D?line=8'>9</a>\u001b[0m \u001b[39mfrom\u001b[39;00m \u001b[39mtensorflow\u001b[39;00m \u001b[39mimport\u001b[39;00m data, train, math, reduce_sum, cast, equal, argmax, float32, GradientTape, TensorSpec, function, int64\n\u001b[1;32m     <a href='vscode-notebook-cell:/Users/malcolmkrolick/Documents/GitHub/Machine_Learning_For_Security_Solutions/lol.ipynb#W3sZmlsZQ%3D%3D?line=9'>10</a>\u001b[0m \u001b[39mfrom\u001b[39;00m \u001b[39mkeras\u001b[39;00m\u001b[39m.\u001b[39;00m\u001b[39mlosses\u001b[39;00m \u001b[39mimport\u001b[39;00m sparse_categorical_crossentropy\n\u001b[0;32m---> <a href='vscode-notebook-cell:/Users/malcolmkrolick/Documents/GitHub/Machine_Learning_For_Security_Solutions/lol.ipynb#W3sZmlsZQ%3D%3D?line=10'>11</a>\u001b[0m \u001b[39mfrom\u001b[39;00m \u001b[39mmodel\u001b[39;00m \u001b[39mimport\u001b[39;00m TransformerModel\n\u001b[1;32m     <a href='vscode-notebook-cell:/Users/malcolmkrolick/Documents/GitHub/Machine_Learning_For_Security_Solutions/lol.ipynb#W3sZmlsZQ%3D%3D?line=11'>12</a>\u001b[0m \u001b[39mfrom\u001b[39;00m \u001b[39mprepare_dataset\u001b[39;00m \u001b[39mimport\u001b[39;00m PrepareDataset\n\u001b[1;32m     <a href='vscode-notebook-cell:/Users/malcolmkrolick/Documents/GitHub/Machine_Learning_For_Security_Solutions/lol.ipynb#W3sZmlsZQ%3D%3D?line=12'>13</a>\u001b[0m \u001b[39mfrom\u001b[39;00m \u001b[39mtime\u001b[39;00m \u001b[39mimport\u001b[39;00m time\n",
      "\u001b[0;31mModuleNotFoundError\u001b[0m: No module named 'model'"
     ]
    }
   ],
   "source": [
    "\n",
    "\n",
    "def loss_fcn(target, prediction):\n",
    "    # Create mask so that the zero padding values are not included in the computation of loss\n",
    "    padding_mask = math.logical_not(equal(target, 0))\n",
    "    padding_mask = cast(padding_mask, float32)\n",
    " \n",
    "    # Compute a sparse categorical cross-entropy loss on the unmasked values\n",
    "    loss = sparse_categorical_crossentropy(target, prediction, from_logits=True) * padding_mask\n",
    " \n",
    "    # Compute the mean loss over the unmasked values\n",
    "    return reduce_sum(loss) / reduce_sum(padding_mask)\n"
   ]
  },
  {
   "cell_type": "code",
   "execution_count": null,
   "metadata": {},
   "outputs": [],
   "source": []
  }
 ],
 "metadata": {
  "kernelspec": {
   "display_name": "MLSecuritySolutions",
   "language": "python",
   "name": "python3"
  },
  "language_info": {
   "codemirror_mode": {
    "name": "ipython",
    "version": 3
   },
   "file_extension": ".py",
   "mimetype": "text/x-python",
   "name": "python",
   "nbconvert_exporter": "python",
   "pygments_lexer": "ipython3",
   "version": "3.10.2"
  }
 },
 "nbformat": 4,
 "nbformat_minor": 2
}
