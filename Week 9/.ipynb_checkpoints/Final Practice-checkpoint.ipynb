{
 "cells": [
  {
   "cell_type": "markdown",
   "id": "c0e66ed0-0ad7-496f-87d0-d5c17aeb9870",
   "metadata": {},
   "source": [
    "# Final Practice\n",
    "Today is all about practice.\n",
    "You are given:\n",
    "- a set of people that registered to your authentication system\n",
    "    - with the file \"people.csv\" containing all their info\n",
    "    - their associated reference embeddings in \"people_embeddings.npy\"\n",
    "- a set of connections that will be used to train and validate the defense systems you deemed useful. This includes:\n",
    "    - The file describing their connections: \"train_connections.csv\"\n",
    "    - The associated connection embeddings: \"train_connections_embeddings.npy\"\n",
    "- a test set of connections. The main question here is: which one of those test connections would you allow in? The set includes:\n",
    "    - The file describing their connections: \"test_connections.csv\"\n",
    "    - The associated connection embeddings: \"test_connections_embeddings.npy\"\n",
    "    \n",
    "Your mission is to produce a list of booleans 'predicted_test_labels', of the same length as the 'test_connections.csv', each boolean being True if you let then connection in and False otherwise. <br>\n",
    "Use the \"eval(predicted_test_labels)\" function to get the accuracy of your system."
   ]
  },
  {
   "cell_type": "code",
   "execution_count": 3,
   "id": "e333a2f7-5ebe-4a93-b800-86bce0b3be01",
   "metadata": {},
   "outputs": [],
   "source": [
    "#Import packages\n",
    "import numpy as np"
   ]
  },
  {
   "cell_type": "code",
   "execution_count": 2,
   "id": "860fe6cd-95ac-4ccc-b745-2c8d0f4cc635",
   "metadata": {},
   "outputs": [],
   "source": [
    "#Import data"
   ]
  },
  {
   "cell_type": "code",
   "execution_count": null,
   "id": "36eccc49-8d82-44db-8911-d1d7250f005f",
   "metadata": {},
   "outputs": [],
   "source": [
    "#Your code"
   ]
  },
  {
   "cell_type": "code",
   "execution_count": null,
   "id": "f03def7e-2c89-44cd-bee7-600b6a3af81d",
   "metadata": {},
   "outputs": [],
   "source": [
    "#More code"
   ]
  },
  {
   "cell_type": "code",
   "execution_count": null,
   "id": "5a20dcd4-413f-4a30-9553-f97190559414",
   "metadata": {},
   "outputs": [],
   "source": []
  },
  {
   "cell_type": "code",
   "execution_count": null,
   "id": "ab92cb77-6d23-4204-a963-d4d0ea31080c",
   "metadata": {},
   "outputs": [],
   "source": []
  },
  {
   "cell_type": "code",
   "execution_count": null,
   "id": "3178c966-7fd7-423d-88b8-022ed90a2be8",
   "metadata": {},
   "outputs": [],
   "source": []
  },
  {
   "cell_type": "code",
   "execution_count": null,
   "id": "6a5ac93b-d884-49fc-a1df-be9408268e68",
   "metadata": {},
   "outputs": [],
   "source": []
  },
  {
   "cell_type": "code",
   "execution_count": 5,
   "id": "f722227a-bec0-4375-9cc8-32bd51edca95",
   "metadata": {},
   "outputs": [],
   "source": [
    "predicted_test_labels = np.ones(len(np.load(\"test_connections_embeddings.npy\"))).astype(bool)"
   ]
  },
  {
   "cell_type": "markdown",
   "id": "72adc598-6d65-4c0f-a32a-a5ec2c61a088",
   "metadata": {},
   "source": [
    "## Evaluation\n",
    "Once you have your 'predicted_test_labels' list, you can use the eval function below:"
   ]
  },
  {
   "cell_type": "code",
   "execution_count": 6,
   "id": "b8398e8c-ac27-4452-b46f-2dffa74bbabf",
   "metadata": {},
   "outputs": [
    {
     "name": "stdout",
     "output_type": "stream",
     "text": [
      "The accuracy of your system is 24.94317320806183%!\n"
     ]
    }
   ],
   "source": [
    "def eval(predicted_test_labels):\n",
    "    targets = np.load('solution.npy')\n",
    "    accuracy = np.sum(targets==predicted_test_labels)/len(predicted_test_labels)\n",
    "    print(f\"The accuracy of your system is {100*accuracy}%!\")\n",
    "    \n",
    "eval(predicted_test_labels)"
   ]
  },
  {
   "cell_type": "markdown",
   "id": "819c1926-8047-4523-948b-a01b743bf24b",
   "metadata": {},
   "source": [
    "Our accuracy is not great right now, because we accept everyone! but I'm sure you can improve from there! "
   ]
  },
  {
   "cell_type": "code",
   "execution_count": null,
   "id": "794adde4-2b83-4454-a1e8-b95cb69cbd8f",
   "metadata": {},
   "outputs": [],
   "source": []
  }
 ],
 "metadata": {
  "kernelspec": {
   "display_name": "Python 3 (ipykernel)",
   "language": "python",
   "name": "python3"
  },
  "language_info": {
   "codemirror_mode": {
    "name": "ipython",
    "version": 3
   },
   "file_extension": ".py",
   "mimetype": "text/x-python",
   "name": "python",
   "nbconvert_exporter": "python",
   "pygments_lexer": "ipython3",
   "version": "3.8.15"
  }
 },
 "nbformat": 4,
 "nbformat_minor": 5
}
