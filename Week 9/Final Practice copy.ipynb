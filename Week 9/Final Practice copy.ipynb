{
 "cells": [
  {
   "cell_type": "markdown",
   "id": "c0e66ed0-0ad7-496f-87d0-d5c17aeb9870",
   "metadata": {},
   "source": [
    "# Final Practice\n",
    "Today is all about practice.\n",
    "You are given:\n",
    "- a set of people that registered to your authentication system\n",
    "    - with the file \"people.csv\" containing all their info\n",
    "    - their associated reference embeddings in \"people_embeddings.npy\"\n",
    "- a set of connections that will be used to train and validate the defense systems you deemed useful. This includes:\n",
    "    - The file describing their connections: \"train_connections.csv\"\n",
    "    - The associated connection embeddings: \"train_connections_embeddings.npy\"\n",
    "- a test set of connections. The main question here is: which one of those test connections would you allow in? The set includes:\n",
    "    - The file describing their connections: \"test_connections.csv\"\n",
    "    - The associated connection embeddings: \"test_connections_embeddings.npy\"\n",
    "    \n",
    "Your mission is to produce a list of booleans 'predicted_test_labels', of the same length as the 'test_connections.csv', each boolean being True if you let then connection in and False otherwise. <br>\n",
    "Use the \"eval(predicted_test_labels)\" function to get the accuracy of your system."
   ]
  },
  {
   "cell_type": "code",
   "execution_count": 71,
   "id": "e333a2f7-5ebe-4a93-b800-86bce0b3be01",
   "metadata": {},
   "outputs": [
    {
     "data": {
      "text/html": [
       "<div>\n",
       "<style scoped>\n",
       "    .dataframe tbody tr th:only-of-type {\n",
       "        vertical-align: middle;\n",
       "    }\n",
       "\n",
       "    .dataframe tbody tr th {\n",
       "        vertical-align: top;\n",
       "    }\n",
       "\n",
       "    .dataframe thead th {\n",
       "        text-align: right;\n",
       "    }\n",
       "</style>\n",
       "<table border=\"1\" class=\"dataframe\">\n",
       "  <thead>\n",
       "    <tr style=\"text-align: right;\">\n",
       "      <th></th>\n",
       "      <th>logins</th>\n",
       "      <th>passwords</th>\n",
       "      <th>ips</th>\n",
       "      <th>dates</th>\n",
       "      <th>true_attempt</th>\n",
       "    </tr>\n",
       "  </thead>\n",
       "  <tbody>\n",
       "    <tr>\n",
       "      <th>0</th>\n",
       "      <td>amiyah_jamir@email.com</td>\n",
       "      <td>Louisa4Ev&amp;r</td>\n",
       "      <td>193.239.147.19</td>\n",
       "      <td>18:44:25 16-06-2021</td>\n",
       "      <td>True</td>\n",
       "    </tr>\n",
       "    <tr>\n",
       "      <th>1</th>\n",
       "      <td>harrison_jack@email.com</td>\n",
       "      <td>14071956</td>\n",
       "      <td>38.232.242.155</td>\n",
       "      <td>04:59:52 12-10-2022</td>\n",
       "      <td>True</td>\n",
       "    </tr>\n",
       "    <tr>\n",
       "      <th>2</th>\n",
       "      <td>adan_zion@email.com</td>\n",
       "      <td>AZI0N40</td>\n",
       "      <td>147.243.14.70</td>\n",
       "      <td>11:37:58 06-06-2021</td>\n",
       "      <td>True</td>\n",
       "    </tr>\n",
       "    <tr>\n",
       "      <th>3</th>\n",
       "      <td>victoria_julien@email.com</td>\n",
       "      <td>1234</td>\n",
       "      <td>185.211.98.67</td>\n",
       "      <td>02:13:02 04-12-2021</td>\n",
       "      <td>True</td>\n",
       "    </tr>\n",
       "    <tr>\n",
       "      <th>4</th>\n",
       "      <td>brucha_marielle@email.com</td>\n",
       "      <td>qwerty</td>\n",
       "      <td>138.23.37.163</td>\n",
       "      <td>22:48:52 24-08-2019</td>\n",
       "      <td>True</td>\n",
       "    </tr>\n",
       "  </tbody>\n",
       "</table>\n",
       "</div>"
      ],
      "text/plain": [
       "                      logins    passwords             ips  \\\n",
       "0     amiyah_jamir@email.com  Louisa4Ev&r  193.239.147.19   \n",
       "1    harrison_jack@email.com     14071956  38.232.242.155   \n",
       "2        adan_zion@email.com      AZI0N40   147.243.14.70   \n",
       "3  victoria_julien@email.com         1234   185.211.98.67   \n",
       "4  brucha_marielle@email.com       qwerty   138.23.37.163   \n",
       "\n",
       "                 dates  true_attempt  \n",
       "0  18:44:25 16-06-2021          True  \n",
       "1  04:59:52 12-10-2022          True  \n",
       "2  11:37:58 06-06-2021          True  \n",
       "3  02:13:02 04-12-2021          True  \n",
       "4  22:48:52 24-08-2019          True  "
      ]
     },
     "execution_count": 71,
     "metadata": {},
     "output_type": "execute_result"
    }
   ],
   "source": [
    "#Import packages\n",
    "import numpy as np\n",
    "import pandas as pd\n",
    "\n",
    "# load the files train_connections.csv and train_connections_embeddings.npy\n",
    "train_connections = pd.read_csv('train_connections.csv')\n",
    "train_connections_embeddings = np.load('train_connections_embeddings.npy')\n",
    "\n",
    "train_connections.head()"
   ]
  },
  {
   "cell_type": "code",
   "execution_count": 72,
   "id": "860fe6cd-95ac-4ccc-b745-2c8d0f4cc635",
   "metadata": {},
   "outputs": [
    {
     "data": {
      "text/plain": [
       "33401"
      ]
     },
     "execution_count": 72,
     "metadata": {},
     "output_type": "execute_result"
    }
   ],
   "source": [
    "#Get length of train_connections\n",
    "len(train_connections)"
   ]
  },
  {
   "cell_type": "code",
   "execution_count": 73,
   "id": "36eccc49-8d82-44db-8911-d1d7250f005f",
   "metadata": {},
   "outputs": [
    {
     "data": {
      "text/plain": [
       "33401"
      ]
     },
     "execution_count": 73,
     "metadata": {},
     "output_type": "execute_result"
    }
   ],
   "source": [
    "#gwt length of train_connections_embeddings\n",
    "len(train_connections_embeddings)"
   ]
  },
  {
   "cell_type": "code",
   "execution_count": 74,
   "id": "f03def7e-2c89-44cd-bee7-600b6a3af81d",
   "metadata": {},
   "outputs": [
    {
     "data": {
      "text/plain": [
       "(33401, 128)"
      ]
     },
     "execution_count": 74,
     "metadata": {},
     "output_type": "execute_result"
    }
   ],
   "source": [
    "#get shape of train_connections_embeddings\n",
    "train_connections_embeddings.shape"
   ]
  },
  {
   "cell_type": "code",
   "execution_count": 75,
   "metadata": {},
   "outputs": [
    {
     "name": "stdout",
     "output_type": "stream",
     "text": [
      "{False, True}\n",
      "{0, 1}\n"
     ]
    }
   ],
   "source": [
    "train_labels = list(train_connections['true_attempt'].values)\n",
    "\n",
    "print(set(train_labels))\n",
    "\n",
    "temp = []\n",
    "\n",
    "for label in train_labels:\n",
    "    \n",
    "    temp.append(label*1)\n",
    "    \n",
    "print(set(temp))\n",
    "\n",
    "train_labels = temp"
   ]
  },
  {
   "cell_type": "code",
   "execution_count": 76,
   "metadata": {},
   "outputs": [
    {
     "name": "stdout",
     "output_type": "stream",
     "text": [
      "Sanity Check: True\n",
      "Size: 33401\n"
     ]
    }
   ],
   "source": [
    "#size check\n",
    "print(\"Sanity Check:\", len(train_labels) == len(train_connections_embeddings))\n",
    "print(\"Size:\", len(train_labels))"
   ]
  },
  {
   "cell_type": "code",
   "execution_count": 77,
   "metadata": {},
   "outputs": [],
   "source": [
    "# reduce the number of samples to 1000\n",
    "#train_connections_embeddings = train_connections_embeddings[:1000]\n",
    "#train_labels = train_labels[:1000]"
   ]
  },
  {
   "cell_type": "code",
   "execution_count": 78,
   "metadata": {},
   "outputs": [
    {
     "data": {
      "text/html": [
       "<div>\n",
       "<style scoped>\n",
       "    .dataframe tbody tr th:only-of-type {\n",
       "        vertical-align: middle;\n",
       "    }\n",
       "\n",
       "    .dataframe tbody tr th {\n",
       "        vertical-align: top;\n",
       "    }\n",
       "\n",
       "    .dataframe thead th {\n",
       "        text-align: right;\n",
       "    }\n",
       "</style>\n",
       "<table border=\"1\" class=\"dataframe\">\n",
       "  <thead>\n",
       "    <tr style=\"text-align: right;\">\n",
       "      <th></th>\n",
       "      <th>logins</th>\n",
       "      <th>passwords</th>\n",
       "      <th>ips</th>\n",
       "      <th>dates</th>\n",
       "    </tr>\n",
       "  </thead>\n",
       "  <tbody>\n",
       "    <tr>\n",
       "      <th>0</th>\n",
       "      <td>lara_goldy@email.com</td>\n",
       "      <td>22qtd)MVD[8</td>\n",
       "      <td>75.125.37.218</td>\n",
       "      <td>19:02:01 29-04-2024</td>\n",
       "    </tr>\n",
       "    <tr>\n",
       "      <th>1</th>\n",
       "      <td>jaime_diego@email.com</td>\n",
       "      <td>Giovann@1977</td>\n",
       "      <td>69.205.22.185</td>\n",
       "      <td>23:36:55 21-07-2024</td>\n",
       "    </tr>\n",
       "    <tr>\n",
       "      <th>2</th>\n",
       "      <td>frank_aria@email.com</td>\n",
       "      <td>Queen1&amp;4Ever</td>\n",
       "      <td>204.240.156.104</td>\n",
       "      <td>06:12:06 02-03-2024</td>\n",
       "    </tr>\n",
       "    <tr>\n",
       "      <th>3</th>\n",
       "      <td>leila_carmen@email.com</td>\n",
       "      <td>LCARMEN44</td>\n",
       "      <td>136.228.181.223</td>\n",
       "      <td>08:15:56 02-05-2024</td>\n",
       "    </tr>\n",
       "    <tr>\n",
       "      <th>4</th>\n",
       "      <td>chace_maliyah@email.com</td>\n",
       "      <td>Chace1984</td>\n",
       "      <td>144.57.33.49</td>\n",
       "      <td>15:50:20 19-04-2024</td>\n",
       "    </tr>\n",
       "  </tbody>\n",
       "</table>\n",
       "</div>"
      ],
      "text/plain": [
       "                    logins     passwords              ips                dates\n",
       "0     lara_goldy@email.com   22qtd)MVD[8    75.125.37.218  19:02:01 29-04-2024\n",
       "1    jaime_diego@email.com  Giovann@1977    69.205.22.185  23:36:55 21-07-2024\n",
       "2     frank_aria@email.com  Queen1&4Ever  204.240.156.104  06:12:06 02-03-2024\n",
       "3   leila_carmen@email.com     LCARMEN44  136.228.181.223  08:15:56 02-05-2024\n",
       "4  chace_maliyah@email.com     Chace1984     144.57.33.49  15:50:20 19-04-2024"
      ]
     },
     "execution_count": 78,
     "metadata": {},
     "output_type": "execute_result"
    }
   ],
   "source": [
    "#Load test embeddings\n",
    "\n",
    "test_connections = pd.read_csv('test_connections.csv')\n",
    "test_connections_embeddings = np.load('test_connections_embeddings.npy')\n",
    "\n",
    "test_connections.head()\n"
   ]
  },
  {
   "cell_type": "code",
   "execution_count": 79,
   "metadata": {},
   "outputs": [
    {
     "data": {
      "text/html": [
       "<div>\n",
       "<style scoped>\n",
       "    .dataframe tbody tr th:only-of-type {\n",
       "        vertical-align: middle;\n",
       "    }\n",
       "\n",
       "    .dataframe tbody tr th {\n",
       "        vertical-align: top;\n",
       "    }\n",
       "\n",
       "    .dataframe thead th {\n",
       "        text-align: right;\n",
       "    }\n",
       "</style>\n",
       "<table border=\"1\" class=\"dataframe\">\n",
       "  <thead>\n",
       "    <tr style=\"text-align: right;\">\n",
       "      <th></th>\n",
       "      <th>names</th>\n",
       "      <th>surnames</th>\n",
       "      <th>ips</th>\n",
       "      <th>passwords</th>\n",
       "      <th>logins</th>\n",
       "    </tr>\n",
       "  </thead>\n",
       "  <tbody>\n",
       "    <tr>\n",
       "      <th>0</th>\n",
       "      <td>Amir</td>\n",
       "      <td>REIZY</td>\n",
       "      <td>213.176.54.43</td>\n",
       "      <td>25061982</td>\n",
       "      <td>amir_reizy@email.com</td>\n",
       "    </tr>\n",
       "    <tr>\n",
       "      <th>1</th>\n",
       "      <td>Yisroel</td>\n",
       "      <td>MARYAM</td>\n",
       "      <td>45.56.0.57</td>\n",
       "      <td>12121974</td>\n",
       "      <td>yisroel_maryam@email.com</td>\n",
       "    </tr>\n",
       "    <tr>\n",
       "      <th>2</th>\n",
       "      <td>Hunter</td>\n",
       "      <td>KEYLA</td>\n",
       "      <td>47.246.165.148</td>\n",
       "      <td>27011965</td>\n",
       "      <td>hunter_keyla@email.com</td>\n",
       "    </tr>\n",
       "    <tr>\n",
       "      <th>3</th>\n",
       "      <td>Holden</td>\n",
       "      <td>TENZIN</td>\n",
       "      <td>129.134.90.220</td>\n",
       "      <td>Amanda4Ever</td>\n",
       "      <td>holden_tenzin@email.com</td>\n",
       "    </tr>\n",
       "    <tr>\n",
       "      <th>4</th>\n",
       "      <td>Noel</td>\n",
       "      <td>OPHELIA</td>\n",
       "      <td>54.239.140.108</td>\n",
       "      <td>azerty</td>\n",
       "      <td>noel_ophelia@email.com</td>\n",
       "    </tr>\n",
       "  </tbody>\n",
       "</table>\n",
       "</div>"
      ],
      "text/plain": [
       "     names surnames             ips    passwords                    logins\n",
       "0     Amir    REIZY   213.176.54.43     25061982      amir_reizy@email.com\n",
       "1  Yisroel   MARYAM      45.56.0.57     12121974  yisroel_maryam@email.com\n",
       "2   Hunter    KEYLA  47.246.165.148     27011965    hunter_keyla@email.com\n",
       "3   Holden   TENZIN  129.134.90.220  Amanda4Ever   holden_tenzin@email.com\n",
       "4     Noel  OPHELIA  54.239.140.108       azerty    noel_ophelia@email.com"
      ]
     },
     "execution_count": 79,
     "metadata": {},
     "output_type": "execute_result"
    }
   ],
   "source": [
    "#load people.csv\n",
    "\n",
    "people = pd.read_csv('people.csv')\n",
    "\n",
    "people.head()\n"
   ]
  },
  {
   "cell_type": "code",
   "execution_count": 80,
   "metadata": {},
   "outputs": [
    {
     "data": {
      "text/plain": [
       "1000"
      ]
     },
     "execution_count": 80,
     "metadata": {},
     "output_type": "execute_result"
    }
   ],
   "source": [
    "# get uniqe people values in people\n",
    "\n",
    "people_unique = list(set(people['ips'].values))\n",
    "len(people_unique)\n",
    "\n",
    "people_unique = list(set(people['logins'].values))\n",
    "len(people_unique)\n"
   ]
  },
  {
   "cell_type": "code",
   "execution_count": 81,
   "metadata": {},
   "outputs": [
    {
     "name": "stdout",
     "output_type": "stream",
     "text": [
      "1000\n"
     ]
    }
   ],
   "source": [
    "#create a mapping of ip to person_id\n",
    "ip_to_person_id = {}\n",
    "\n",
    "for index, row in people.iterrows():\n",
    "    ip_to_person_id[row['ips']] = row['logins']\n",
    "\n",
    "print(len(ip_to_person_id))"
   ]
  },
  {
   "cell_type": "code",
   "execution_count": 82,
   "metadata": {},
   "outputs": [
    {
     "name": "stdout",
     "output_type": "stream",
     "text": [
      "6599\n"
     ]
    }
   ],
   "source": [
    "# create test labels\n",
    "test_labels = []\n",
    "\n",
    "people = []\n",
    "\n",
    "for index, row in test_connections.iterrows():\n",
    "    ip = row['ips']\n",
    "    person = row['logins']\n",
    "\n",
    "    \n",
    "\n",
    "\n",
    "\n",
    "    if ip in ip_to_person_id and ip_to_person_id[ip] == person:\n",
    "        test_labels.append(1)\n",
    "    else:\n",
    "        test_labels.append(0)\n",
    "\n",
    "print(len(test_labels))\n",
    "    "
   ]
  },
  {
   "cell_type": "code",
   "execution_count": 83,
   "id": "5a20dcd4-413f-4a30-9553-f97190559414",
   "metadata": {},
   "outputs": [],
   "source": [
    "import xgboost as xgb\n",
    "\n",
    "#Create X and y\n",
    "X = train_connections_embeddings\n",
    "y = train_labels\n",
    "\n",
    "xgb_model = xgb.XGBClassifier(objective=\"binary:logistic\", random_state=42)\n",
    "\n",
    "xgb_model.fit(X, y)\n",
    "\n",
    "#Predict on test data\n",
    "\n",
    "predicted_test_labels = xgb_model.predict(test_connections_embeddings)\n",
    "\n",
    "\n",
    "\n",
    "\n",
    "\n",
    "\n"
   ]
  },
  {
   "cell_type": "markdown",
   "id": "72adc598-6d65-4c0f-a32a-a5ec2c61a088",
   "metadata": {},
   "source": [
    "## Evaluation\n",
    "Once you have your 'predicted_test_labels' list, you can use the eval function below:"
   ]
  },
  {
   "cell_type": "code",
   "execution_count": 84,
   "id": "b8398e8c-ac27-4452-b46f-2dffa74bbabf",
   "metadata": {},
   "outputs": [
    {
     "name": "stdout",
     "output_type": "stream",
     "text": [
      "The accuracy of your system is 76.49643885437187%!\n"
     ]
    }
   ],
   "source": [
    "def eval(predicted_test_labels):\n",
    "    targets = np.load('solution.npy')\n",
    "    accuracy = np.sum(targets==predicted_test_labels)/len(predicted_test_labels)\n",
    "    print(f\"The accuracy of your system is {100*accuracy}%!\")\n",
    "    \n",
    "eval(predicted_test_labels)"
   ]
  },
  {
   "cell_type": "markdown",
   "id": "819c1926-8047-4523-948b-a01b743bf24b",
   "metadata": {},
   "source": [
    "Our accuracy is not great right now, because we accept everyone! but I'm sure you can improve from there! "
   ]
  },
  {
   "cell_type": "code",
   "execution_count": 85,
   "id": "794adde4-2b83-4454-a1e8-b95cb69cbd8f",
   "metadata": {},
   "outputs": [
    {
     "data": {
      "image/png": "[encoded data removed]",
      "text/plain": [
       "<Figure size 432x288 with 2 Axes>"
      ]
     },
     "metadata": {
      "needs_background": "light"
     },
     "output_type": "display_data"
    }
   ],
   "source": [
    "# make a confusion matrix\n",
    "from sklearn.metrics import confusion_matrix\n",
    "confusion_matrix(test_labels, predicted_test_labels)\n",
    "\n",
    "# plot it nicely\n",
    "\n",
    "import seaborn as sns\n",
    "import matplotlib.pyplot as plt\n",
    "\n",
    "sns.heatmap(confusion_matrix(test_labels, predicted_test_labels), annot=True, fmt='g')\n",
    "plt.xlabel('Predicted Label')\n",
    "plt.ylabel('True Label')\n",
    "plt.show()\n",
    "\n"
   ]
  },
  {
   "cell_type": "code",
   "execution_count": null,
   "metadata": {},
   "outputs": [],
   "source": []
  }
 ],
 "metadata": {
  "kernelspec": {
   "display_name": "Python 3 (ipykernel)",
   "language": "python",
   "name": "python3"
  },
  "language_info": {
   "codemirror_mode": {
    "name": "ipython",
    "version": 3
   },
   "file_extension": ".py",
   "mimetype": "text/x-python",
   "name": "python",
   "nbconvert_exporter": "python",
   "pygments_lexer": "ipython3",
   "version": "3.10.2"
  }
 },
 "nbformat": 4,
 "nbformat_minor": 5
}
