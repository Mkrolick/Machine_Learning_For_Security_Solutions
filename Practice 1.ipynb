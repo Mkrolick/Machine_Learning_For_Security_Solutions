{
 "cells": [
  {
   "cell_type": "markdown",
   "id": "a7f54b2e",
   "metadata": {},
   "source": [
    "# Practice 1\n",
    "Welcome to the first jupyter notebook of this course!\n",
    "Today is gonna be about:\n",
    "- learning how to use this environment\n",
    "- do variable attribution and basic operations\n",
    "- use print\n",
    "- use input"
   ]
  },
  {
   "cell_type": "markdown",
   "id": "abb8bd42",
   "metadata": {},
   "source": [
    "## About Jupyter Notebooks\n",
    "### Cells\n",
    "Notebooks work by cell: \n",
    "this is a *markdown* cell"
   ]
  },
  {
   "cell_type": "code",
   "execution_count": 9,
   "id": "8db1a10a",
   "metadata": {},
   "outputs": [],
   "source": [
    "\n",
    "import numpy as np\n",
    "#this is a code cell\n",
    "#PS: if a line start with a #, this won't be considered as code, so we can use it to leave comments"
   ]
  },
  {
   "cell_type": "markdown",
   "id": "3ebaf4db",
   "metadata": {},
   "source": [
    "### Execution\n",
    "To execute a cell, to run it, you can either use the 'play' button at the top, or use 'shift+return' quick command\n",
    "Try with the following:"
   ]
  },
  {
   "cell_type": "code",
   "execution_count": 10,
   "id": "ca1220a1",
   "metadata": {},
   "outputs": [
    {
     "name": "stdout",
     "output_type": "stream",
     "text": [
      "Hello World!\n"
     ]
    }
   ],
   "source": [
    "print('Hello World!')"
   ]
  },
  {
   "cell_type": "markdown",
   "id": "be9d04fe",
   "metadata": {},
   "source": [
    "When the cell is suppose to output something, the output will be printed under.\n",
    "\n",
    "### Order of the cells\n",
    "The order matter: you can launch cells in any order, jupyter will just understood as if you wrote lines of codes multiples times.\n",
    "For example: try to run the blocks in this order: 1, 2, 3, 2, 3, 1, 3. What happened?"
   ]
  },
  {
   "cell_type": "code",
   "execution_count": 11,
   "id": "cfff4eaa",
   "metadata": {},
   "outputs": [],
   "source": [
    "#cell 1\n",
    "a = 5"
   ]
  },
  {
   "cell_type": "code",
   "execution_count": 12,
   "id": "fcf633d2",
   "metadata": {},
   "outputs": [],
   "source": [
    "#cell 2\n",
    "a = a+10"
   ]
  },
  {
   "cell_type": "code",
   "execution_count": 13,
   "id": "4e610005",
   "metadata": {},
   "outputs": [
    {
     "name": "stdout",
     "output_type": "stream",
     "text": [
      "15\n"
     ]
    }
   ],
   "source": [
    "#cell 3\n",
    "print(a)"
   ]
  },
  {
   "cell_type": "markdown",
   "id": "70a19870",
   "metadata": {},
   "source": [
    "The order can be disturbing... \n",
    "\n",
    "If you have a doubt over what happened, you can look at the order the cells where run by looking at the number in the **In [4]**\n",
    "\n",
    "### Buttons in the top bar\n",
    "In the order, the buttons are:\n",
    "1. Saving your document\n",
    "2. adding a new cell\n",
    "3. Cut-Copy-Paste a cell\n",
    "4. putting a cell higher-lower\n",
    "5. Running a cell\n",
    "6. Stoping a cell (if an execution takes too long for example)\n",
    "7. Restart the whole notebook, erasing every variable saved, but keeping all your code intact.\n",
    "8. Same as 7, but will launch every cell exactly once, in the order they come\n",
    "9. To change a cell from a markdown to a code, or the opposite"
   ]
  },
  {
   "cell_type": "code",
   "execution_count": 14,
   "id": "c622f3be",
   "metadata": {},
   "outputs": [],
   "source": [
    "# For example, here a program that will never stop if you don't stop it yourself:\n",
    "a=1\n",
    "while True:\n",
    "    break\n",
    "    a+=1"
   ]
  },
  {
   "cell_type": "markdown",
   "id": "d3211db5",
   "metadata": {},
   "source": [
    "Once interrupted, you will get a \"KeyboardInterrupt\" error, because on other Python editor, you would have needed to do Ctrl+C with your keyboard to stop it. It does the same but with a button."
   ]
  },
  {
   "cell_type": "markdown",
   "id": "a8c659b4",
   "metadata": {},
   "source": [
    "## Variables manipulation\n",
    "### Attribution\n",
    "Let's start simple: attributing a value to a variable.\n",
    "What can or can't be done?"
   ]
  },
  {
   "cell_type": "code",
   "execution_count": 15,
   "id": "f675de23",
   "metadata": {},
   "outputs": [],
   "source": [
    "#simples names works\n",
    "a = 1\n",
    "# with multiple letters its clearer\n",
    "variable = 1\n",
    "#You can use upper letters too\n",
    "MyVariable = 1"
   ]
  },
  {
   "cell_type": "code",
   "execution_count": 16,
   "id": "e1f0e620",
   "metadata": {},
   "outputs": [],
   "source": [
    "#You can use _ and numbers\n",
    "my_variable32 = 32\n",
    "_my_variable_32_ = 32"
   ]
  },
  {
   "cell_type": "code",
   "execution_count": 17,
   "id": "05d54f28",
   "metadata": {},
   "outputs": [],
   "source": [
    "#But you can't start with a number:\n",
    "#32myvariable = 32\n",
    "#This is not correct Python syntax."
   ]
  },
  {
   "cell_type": "code",
   "execution_count": 18,
   "id": "d0fc636d",
   "metadata": {},
   "outputs": [
    {
     "name": "stdout",
     "output_type": "stream",
     "text": [
      "The value of a is 1 and the value of b is 2\n"
     ]
    }
   ],
   "source": [
    "#Bonus: you can even attribute multiple variables in one line! \n",
    "a, b = 1, 2\n",
    "print('The value of a is', a, 'and the value of b is', b)"
   ]
  },
  {
   "cell_type": "code",
   "execution_count": 19,
   "id": "4d9def3e",
   "metadata": {},
   "outputs": [
    {
     "data": {
      "text/plain": [
       "2"
      ]
     },
     "execution_count": 19,
     "metadata": {},
     "output_type": "execute_result"
    }
   ],
   "source": [
    "#To get the value of a variable, either use the print function, \n",
    "# or if you put its name in the last line of a cell, jupyter will print it as an output\n",
    "a\n",
    "b"
   ]
  },
  {
   "cell_type": "markdown",
   "id": "770322b7",
   "metadata": {},
   "source": [
    "#### Exercise 1\n",
    "Try to find at least one wrong variable name (giving you an error), not starting with a number."
   ]
  },
  {
   "cell_type": "code",
   "execution_count": 36,
   "id": "8f5bef23",
   "metadata": {},
   "outputs": [
    {
     "ename": "SyntaxError",
     "evalue": "invalid syntax (960545605.py, line 2)",
     "output_type": "error",
     "traceback": [
      "\u001b[0;36m  Cell \u001b[0;32mIn[36], line 2\u001b[0;36m\u001b[0m\n\u001b[0;31m    AA(=, 3)\u001b[0m\n\u001b[0m       ^\u001b[0m\n\u001b[0;31mSyntaxError\u001b[0m\u001b[0;31m:\u001b[0m invalid syntax\n"
     ]
    }
   ],
   "source": [
    "# Put your code here\n",
    "/AA = 3"
   ]
  },
  {
   "cell_type": "markdown",
   "id": "8f184339",
   "metadata": {},
   "source": [
    "### Operations\n",
    "Basic operations works for most numbers:\n",
    "- Addition +\n",
    "- Substraction -\n",
    "- Multiplication *\n",
    "- Division /\n",
    "- Division rounded //\n",
    "- Modulo %"
   ]
  },
  {
   "cell_type": "code",
   "execution_count": 21,
   "id": "de291eff",
   "metadata": {},
   "outputs": [
    {
     "data": {
      "text/plain": [
       "5"
      ]
     },
     "execution_count": 21,
     "metadata": {},
     "output_type": "execute_result"
    }
   ],
   "source": [
    "x = 2+3\n",
    "x"
   ]
  },
  {
   "cell_type": "markdown",
   "id": "a6e77a34",
   "metadata": {},
   "source": [
    "We can define any natural number as:\n",
    "a = b*q + r\n",
    "\n",
    "The // and % can be used to get q and r:\n",
    "\n",
    "a//b = q\n",
    "\n",
    "a%b = r"
   ]
  },
  {
   "cell_type": "code",
   "execution_count": 22,
   "id": "f2db6d6d",
   "metadata": {},
   "outputs": [
    {
     "name": "stdout",
     "output_type": "stream",
     "text": [
      "52 = 10 x 5 + 2\n"
     ]
    }
   ],
   "source": [
    "a = 52\n",
    "b = 5\n",
    "print(a, '=', a//b, 'x', b, '+', a%b)"
   ]
  },
  {
   "cell_type": "markdown",
   "id": "9ba40bcd",
   "metadata": {},
   "source": [
    "#### Exercise 2\n",
    "given a=10 and b=20, what is difference between *the sum of the squares of a and b* and *the square of the sum of a and b*?"
   ]
  },
  {
   "cell_type": "code",
   "execution_count": 38,
   "id": "9f03b5fa",
   "metadata": {},
   "outputs": [
    {
     "name": "stdout",
     "output_type": "stream",
     "text": [
      "The difference is: 400\n"
     ]
    }
   ],
   "source": [
    "# Put your code here\n",
    "a = 10\n",
    "b = 20\n",
    "sum_squares = b**2 + a**2\n",
    "square_sums = (a+b)**2\n",
    "diff = abs(sum_squares - square_sums)\n",
    "print(\"The difference is:\",diff)"
   ]
  },
  {
   "cell_type": "markdown",
   "id": "b8c16f55",
   "metadata": {},
   "source": [
    "## Inputs and Outputs\n",
    "You know how to attribute a value to a variable, that's one way to get inputs in a program.\n",
    "Another way is to directly ask the user with the **input** command.\n",
    "Other ways might include reading parameters from a file, like a configuration file or a database, from dynamic buttons in an interface, or even parameters given by other programs in python or in other languages... \n",
    "\n",
    "### input\n",
    "Here, let's just focus on the input command."
   ]
  },
  {
   "cell_type": "code",
   "execution_count": 39,
   "id": "7c870001",
   "metadata": {},
   "outputs": [
    {
     "name": "stdout",
     "output_type": "stream",
     "text": [
      "The given input was: 'LOL'\n"
     ]
    }
   ],
   "source": [
    "my_input = input()  #here we just ask an input\n",
    "print(f\"The given input was: '{my_input}'\") #and we print it! \n",
    "#in a slightly different way than before, but its still a print"
   ]
  },
  {
   "cell_type": "code",
   "execution_count": 25,
   "id": "191cb30b",
   "metadata": {},
   "outputs": [
    {
     "name": "stdout",
     "output_type": "stream",
     "text": [
      "The given input was: ''\n"
     ]
    }
   ],
   "source": [
    "my_input = input(\"Give me any input:\")  #we can ask with a prompt\n",
    "print(f\"The given input was: '{my_input}'\") #and we print it again! "
   ]
  },
  {
   "cell_type": "markdown",
   "id": "48748380",
   "metadata": {},
   "source": [
    "Don't forget: **Everything from the input function is a string**"
   ]
  },
  {
   "cell_type": "code",
   "execution_count": 40,
   "id": "8ecfb2de",
   "metadata": {},
   "outputs": [
    {
     "name": "stdout",
     "output_type": "stream",
     "text": [
      "The type of the variable is <class 'str'>\n"
     ]
    },
    {
     "ename": "TypeError",
     "evalue": "can only concatenate str (not \"int\") to str",
     "output_type": "error",
     "traceback": [
      "\u001b[0;31m---------------------------------------------------------------------------\u001b[0m",
      "\u001b[0;31mTypeError\u001b[0m                                 Traceback (most recent call last)",
      "Cell \u001b[0;32mIn[40], line 3\u001b[0m\n\u001b[1;32m      1\u001b[0m your_age \u001b[39m=\u001b[39m \u001b[39minput\u001b[39m(\u001b[39m\"\u001b[39m\u001b[39mwhat\u001b[39m\u001b[39m'\u001b[39m\u001b[39ms your age?\u001b[39m\u001b[39m\\n\u001b[39;00m\u001b[39m\"\u001b[39m) \u001b[39m#give your age\u001b[39;00m\n\u001b[1;32m      2\u001b[0m \u001b[39mprint\u001b[39m(\u001b[39m\"\u001b[39m\u001b[39mThe type of the variable is\u001b[39m\u001b[39m\"\u001b[39m, \u001b[39mtype\u001b[39m(your_age))\n\u001b[0;32m----> 3\u001b[0m \u001b[39mprint\u001b[39m(\u001b[39m\"\u001b[39m\u001b[39mIn 5 years, you will be\u001b[39m\u001b[39m\"\u001b[39m, your_age \u001b[39m+\u001b[39;49m \u001b[39m5\u001b[39;49m)\n",
      "\u001b[0;31mTypeError\u001b[0m: can only concatenate str (not \"int\") to str"
     ]
    }
   ],
   "source": [
    "your_age = input(\"what's your age?\\n\") #give your age\n",
    "print(\"The type of the variable is\", type(your_age))\n",
    "print(\"In 5 years, you will be\", your_age + 5)"
   ]
  },
  {
   "cell_type": "markdown",
   "id": "295cd56d",
   "metadata": {},
   "source": [
    "Your age is supposed to be a number, not a string, that's why you are getting a TypeError."
   ]
  },
  {
   "cell_type": "code",
   "execution_count": 27,
   "id": "e1ed4bec",
   "metadata": {},
   "outputs": [
    {
     "ename": "ValueError",
     "evalue": "invalid literal for int() with base 10: ''",
     "output_type": "error",
     "traceback": [
      "\u001b[0;31m---------------------------------------------------------------------------\u001b[0m",
      "\u001b[0;31mValueError\u001b[0m                                Traceback (most recent call last)",
      "Cell \u001b[0;32mIn[27], line 1\u001b[0m\n\u001b[0;32m----> 1\u001b[0m your_age \u001b[39m=\u001b[39m \u001b[39mint\u001b[39;49m(your_age)\n\u001b[1;32m      2\u001b[0m \u001b[39mprint\u001b[39m(\u001b[39m\"\u001b[39m\u001b[39mThe type of the variable is\u001b[39m\u001b[39m\"\u001b[39m, \u001b[39mtype\u001b[39m(your_age))\n\u001b[1;32m      3\u001b[0m \u001b[39m#now this is better!\u001b[39;00m\n",
      "\u001b[0;31mValueError\u001b[0m: invalid literal for int() with base 10: ''"
     ]
    }
   ],
   "source": [
    "your_age = int(your_age)\n",
    "print(\"The type of the variable is\", type(your_age))\n",
    "#now this is better!\n",
    "print(\"In 5 years, you will be\", your_age + 5)"
   ]
  },
  {
   "cell_type": "markdown",
   "id": "defec989",
   "metadata": {},
   "source": [
    "Yeah, that's basically all there is to know about the input function...\n",
    "\n",
    "### print\n",
    "#### Special characters tricks\n",
    "\n",
    "Sometimes you want to add a backspace, a tab or a quotation mark, or any special character that would disturb the line. \n",
    "For that, you can use a backslash:"
   ]
  },
  {
   "cell_type": "code",
   "execution_count": 28,
   "id": "4bc72b7b",
   "metadata": {},
   "outputs": [
    {
     "name": "stdout",
     "output_type": "stream",
     "text": [
      "hello\n",
      "there\n"
     ]
    }
   ],
   "source": [
    "#  \\n for return\n",
    "print(\"hello\\nthere\")"
   ]
  },
  {
   "cell_type": "code",
   "execution_count": 29,
   "id": "91ece204",
   "metadata": {},
   "outputs": [
    {
     "name": "stdout",
     "output_type": "stream",
     "text": [
      "look at this: \" still in the same string!\n"
     ]
    }
   ],
   "source": [
    "#  \\\" for quotation mark\n",
    "print(\"look at this: \\\" still in the same string!\")"
   ]
  },
  {
   "cell_type": "code",
   "execution_count": 30,
   "id": "d1f0dbb1",
   "metadata": {},
   "outputs": [
    {
     "name": "stdout",
     "output_type": "stream",
     "text": [
      "name\tage\tJHUID\n",
      "-----------------------\n",
      "Jo\t24\tjsmith\n",
      "Patrick\t18\tpmartin\n",
      "Steph\t22\tschen\n"
     ]
    }
   ],
   "source": [
    "#  \\t for the tab (really useful for nice tables)\n",
    "print(\"name\\tage\\tJHUID\")\n",
    "print('-----------------------')\n",
    "print(\"Jo\\t24\\tjsmith\")\n",
    "print(\"Patrick\\t18\\tpmartin\")\n",
    "print(\"Steph\\t22\\tschen\")"
   ]
  },
  {
   "cell_type": "markdown",
   "id": "ea39ffcd",
   "metadata": {},
   "source": [
    "#### print options\n",
    "Honestly, the only two options worth remembering about *print* are **sep** and **end**. Let's try them:"
   ]
  },
  {
   "cell_type": "code",
   "execution_count": 31,
   "id": "714cddea",
   "metadata": {},
   "outputs": [
    {
     "name": "stdout",
     "output_type": "stream",
     "text": [
      "first second third\n",
      "first-second-third\n",
      "first\tsecond\tthird\n"
     ]
    }
   ],
   "source": [
    "print(\"first\", \"second\", \"third\")\n",
    "print(\"first\", \"second\", \"third\", sep='-')\n",
    "print(\"first\", \"second\", \"third\", sep='\\t')"
   ]
  },
  {
   "cell_type": "code",
   "execution_count": 32,
   "id": "9b343cb4",
   "metadata": {},
   "outputs": [
    {
     "name": "stdout",
     "output_type": "stream",
     "text": [
      "first\tsecond, third\n"
     ]
    }
   ],
   "source": [
    "print(\"first\", end='\\t')\n",
    "print('second', end=', ')\n",
    "print('third')"
   ]
  },
  {
   "cell_type": "markdown",
   "id": "f2c6fe2b",
   "metadata": {},
   "source": [
    "#### Various formating\n",
    "There are multiple ways of alternating pre-defined pieces of text with variables... \n",
    "Let's go through them:\n",
    "\n",
    "So, the basic way is just using commas between each piece of text/variable:"
   ]
  },
  {
   "cell_type": "code",
   "execution_count": 33,
   "id": "f1531720",
   "metadata": {},
   "outputs": [
    {
     "name": "stdout",
     "output_type": "stream",
     "text": [
      "The value of a is 1 ,and the value of a+3 is 4\n"
     ]
    }
   ],
   "source": [
    "a = 1\n",
    "print(\"The value of a is\", a, \",and the value of a+3 is\",a+3)"
   ]
  },
  {
   "cell_type": "markdown",
   "id": "6053786e",
   "metadata": {},
   "source": [
    "**f-formating**: put a f at the begining, then every time you want to put a variable, put it between {}"
   ]
  },
  {
   "cell_type": "code",
   "execution_count": 34,
   "id": "c95cdccb",
   "metadata": {},
   "outputs": [
    {
     "name": "stdout",
     "output_type": "stream",
     "text": [
      "The value of a is 1, and the value of a+3 is 4\n"
     ]
    }
   ],
   "source": [
    "print(f\"The value of a is {a}, and the value of a+3 is {a+3}\")"
   ]
  },
  {
   "cell_type": "markdown",
   "id": "11f82cbe",
   "metadata": {},
   "source": [
    "There are also %-formating and str.format options, that are more complex, but allow you to decide the number of digits you print, as well as some more advanced options. If you are interested, check this website: https://realpython.com/python-f-strings/#option-1-formatting"
   ]
  },
  {
   "attachments": {
    "image.png": {
     "image/png": "[encoded data removed]"
    }
   },
   "cell_type": "markdown",
   "id": "2dd51e83",
   "metadata": {},
   "source": [
    "That's all you'll need for today!\n",
    "Now, let's do it yourself:\n",
    "\n",
    "## Mini-project week 1\n",
    "\n",
    "Small project, 5 lines maximum:\n",
    "You want to do the menu of a coffee place:\n",
    "- Ask someone how much cost a cappuccino, an espresso and an americano, using the ```input``` command.\n",
    "- Be careful, prices can be floating numbers!\n",
    "- Print a table with \n",
    "    - the name of the coffee place\n",
    "    - for each drink, its name and price\n",
    "    - including bars to separate items\n",
    "\n",
    "Something like this:\n",
    "\n",
    "![image.png](attachment:image.png)"
   ]
  },
  {
   "cell_type": "code",
   "execution_count": 47,
   "id": "937b2998",
   "metadata": {},
   "outputs": [
    {
     "name": "stdout",
     "output_type": "stream",
     "text": [
      "   - My cafe - \n",
      "------------------\n",
      "dish     |   price\n",
      "------------------\n",
      "\n",
      "cappuccino | 3.1\n",
      "americano | 1.0\n",
      "espresso | 2.0\n"
     ]
    }
   ],
   "source": [
    "# Put your code here\n",
    "\n",
    "drink_prices = {}\n",
    "\n",
    "drinks = [\"cappuccino\", \"americano\", \"espresso\"]\n",
    "for drink in drinks:\n",
    "    drink_prices[drink] = float(input(\"How much does a \" + drink + \" cost?\"))\n",
    "\n",
    "\n",
    "print(\"\"\"   - My cafe - \n",
    "------------------\n",
    "dish     |   price\n",
    "------------------\n",
    "\"\"\")\n",
    "\n",
    "\n",
    "\n",
    "\n",
    "\n",
    "for drink in drink_prices:\n",
    "    print(drink + \" | \" + str(drink_prices[drink]))"
   ]
  },
  {
   "cell_type": "code",
   "execution_count": null,
   "id": "c873fdaf",
   "metadata": {},
   "outputs": [],
   "source": []
  }
 ],
 "metadata": {
  "kernelspec": {
   "display_name": "Python 3 (ipykernel)",
   "language": "python",
   "name": "python3"
  },
  "language_info": {
   "codemirror_mode": {
    "name": "ipython",
    "version": 3
   },
   "file_extension": ".py",
   "mimetype": "text/x-python",
   "name": "python",
   "nbconvert_exporter": "python",
   "pygments_lexer": "ipython3",
   "version": "3.10.2"
  }
 },
 "nbformat": 4,
 "nbformat_minor": 5
}
